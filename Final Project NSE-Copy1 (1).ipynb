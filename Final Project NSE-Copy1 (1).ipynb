{
 "cells": [
  {
   "cell_type": "markdown",
   "metadata": {},
   "source": [
    "# Introduction"
   ]
  },
  {
   "cell_type": "markdown",
   "metadata": {},
   "source": [
    "The Gender Pay Gap (GPG) is defined as *“the difference between the amounts of money paid to women and men, often for doing the same work” (Smith, 2012).* It is a measurable indicator of gender equality.\n",
    "In France, the gender wage gap still puts female professionals at a notable disadvantage. In 2019, the European average wage gap was improved, dropping to 19.1% while France saw a rise in the gender wage gap, climbing to 16%, the 10th highest in the European Union.\n",
    "The new law requires all French employers with at least 50 employees to seek to eliminate gender pay gaps.\n",
    "Machine learning can address the issue of gender disparity by building a prediction model of the male and female mean wage.\n",
    "A Regression model tells us the separate impact of each factor on pay — gender, as well as other factors — and shows us whether males have a pay advantage or not.\n",
    "The model could help to identify gender disparities and understand the root factors of the gender gap.\n",
    "*Some of the scripts below were inspired by the Github community (Plotting of the France map for example).*"
   ]
  },
  {
   "cell_type": "markdown",
   "metadata": {},
   "source": [
    "# Methods"
   ]
  },
  {
   "cell_type": "markdown",
   "metadata": {},
   "source": [
    "Here, load and describe the data. Discuss and do any processing to the data in this section. "
   ]
  },
  {
   "cell_type": "markdown",
   "metadata": {},
   "source": [
    "## Importing libraries "
   ]
  },
  {
   "cell_type": "code",
   "execution_count": 1,
   "metadata": {},
   "outputs": [],
   "source": [
    "import numpy as np\n",
    "import pandas as pd\n",
    "import matplotlib.pyplot as plt\n",
    "import seaborn as sns\n",
    "import warnings\n",
    "warnings.filterwarnings('ignore')\n",
    "\n",
    "from sklearn.model_selection import train_test_split"
   ]
  },
  {
   "cell_type": "markdown",
   "metadata": {},
   "source": [
    "## Loading salary Dataset"
   ]
  },
  {
   "cell_type": "markdown",
   "metadata": {},
   "source": [
    "Loading 2019 INSEE Salary Dataset *(https://www.insee.fr/fr/statistiques/2021266#consulter)* : The salary dataset comes from INSEE (the French National Institute of statistics).\n",
    "(It was difficult to find other official sources of French wages due to the nature of data and the French regulations of personal data storage).\n",
    "The salary dataset contains key information on the mean net SALARY per HOUR of French citizens according to their place of residence (towns), gender, occupation level, and age. The data is aggregated by town, gender, age and occupation level.\n",
    "Various files are available depending on groupings: per town (5000 towns), per county (300 counties), per region, etc...\n",
    "I finally chose to train the model on the county-based regrouping because of performance issues I encountered with the 5000-towns' data (by performing TreeExplainer with RandomForest).\n",
    "The town-based file was finally used to plot the locations on a map for analysis.\n",
    "A dataset of French geographic information is also loaded for the location analysis."
   ]
  },
  {
   "cell_type": "code",
   "execution_count": 2,
   "metadata": {},
   "outputs": [],
   "source": [
    "salary = pd.read_excel(\"bases-salary-fr-county town-2019-full.xlsx\")\n",
    "salary_2 = pd.read_excel(\"bases-salary-mean-FR-2019-per town.xlsx\")\n",
    "geo = pd.read_excel(\"name_geographic_information.xlsx\")\n",
    "#salary = pd.read_excel(\"bases-salary-fr-county town-2019.xlsx\")"
   ]
  },
  {
   "cell_type": "markdown",
   "metadata": {},
   "source": [
    "## Exploring the Dataset"
   ]
  },
  {
   "cell_type": "code",
   "execution_count": 3,
   "metadata": {},
   "outputs": [
    {
     "data": {
      "text/html": [
       "<div>\n",
       "<style scoped>\n",
       "    .dataframe tbody tr th:only-of-type {\n",
       "        vertical-align: middle;\n",
       "    }\n",
       "\n",
       "    .dataframe tbody tr th {\n",
       "        vertical-align: top;\n",
       "    }\n",
       "\n",
       "    .dataframe thead th {\n",
       "        text-align: right;\n",
       "    }\n",
       "</style>\n",
       "<table border=\"1\" class=\"dataframe\">\n",
       "  <thead>\n",
       "    <tr style=\"text-align: right;\">\n",
       "      <th></th>\n",
       "      <th>CODGEO</th>\n",
       "      <th>LIBGEO</th>\n",
       "      <th>SNHM19</th>\n",
       "      <th>SNHMC19</th>\n",
       "      <th>SNHMP19</th>\n",
       "      <th>SNHME19</th>\n",
       "      <th>SNHMO19</th>\n",
       "      <th>SNHMF19</th>\n",
       "      <th>SNHMFC19</th>\n",
       "      <th>SNHMFP19</th>\n",
       "      <th>...</th>\n",
       "      <th>SNHMH2619</th>\n",
       "      <th>SNHMHO2619</th>\n",
       "      <th>SNHMHE2619</th>\n",
       "      <th>SNHMHP2619</th>\n",
       "      <th>SNHMHC2619</th>\n",
       "      <th>SNHMH5019</th>\n",
       "      <th>SNHMHO5019</th>\n",
       "      <th>SNHMHE5019</th>\n",
       "      <th>SNHMHP5019</th>\n",
       "      <th>SNHMHC5019</th>\n",
       "    </tr>\n",
       "  </thead>\n",
       "  <tbody>\n",
       "    <tr>\n",
       "      <th>0</th>\n",
       "      <td>011</td>\n",
       "      <td>Belley</td>\n",
       "      <td>14.674120</td>\n",
       "      <td>25.007347</td>\n",
       "      <td>15.726516</td>\n",
       "      <td>11.260015</td>\n",
       "      <td>12.027875</td>\n",
       "      <td>12.979755</td>\n",
       "      <td>21.758588</td>\n",
       "      <td>14.219631</td>\n",
       "      <td>...</td>\n",
       "      <td>15.749377</td>\n",
       "      <td>14.073065</td>\n",
       "      <td>13.916257</td>\n",
       "      <td>16.290848</td>\n",
       "      <td>21.124285</td>\n",
       "      <td>18.328561</td>\n",
       "      <td>15.362657</td>\n",
       "      <td>15.205849</td>\n",
       "      <td>17.580440</td>\n",
       "      <td>22.413876</td>\n",
       "    </tr>\n",
       "    <tr>\n",
       "      <th>1</th>\n",
       "      <td>012</td>\n",
       "      <td>Bourg-en-Bresse</td>\n",
       "      <td>14.963101</td>\n",
       "      <td>25.435744</td>\n",
       "      <td>15.573986</td>\n",
       "      <td>11.440566</td>\n",
       "      <td>11.968623</td>\n",
       "      <td>13.289413</td>\n",
       "      <td>22.104039</td>\n",
       "      <td>14.272798</td>\n",
       "      <td>...</td>\n",
       "      <td>15.937717</td>\n",
       "      <td>14.111229</td>\n",
       "      <td>14.108847</td>\n",
       "      <td>16.304506</td>\n",
       "      <td>21.463635</td>\n",
       "      <td>18.996117</td>\n",
       "      <td>15.640429</td>\n",
       "      <td>15.638047</td>\n",
       "      <td>17.833706</td>\n",
       "      <td>22.992836</td>\n",
       "    </tr>\n",
       "    <tr>\n",
       "      <th>2</th>\n",
       "      <td>013</td>\n",
       "      <td>Gex</td>\n",
       "      <td>14.211622</td>\n",
       "      <td>27.637872</td>\n",
       "      <td>14.955071</td>\n",
       "      <td>11.110508</td>\n",
       "      <td>12.148767</td>\n",
       "      <td>13.110850</td>\n",
       "      <td>24.470887</td>\n",
       "      <td>14.198416</td>\n",
       "      <td>...</td>\n",
       "      <td>15.184363</td>\n",
       "      <td>13.807217</td>\n",
       "      <td>13.168664</td>\n",
       "      <td>15.529799</td>\n",
       "      <td>22.358584</td>\n",
       "      <td>18.195413</td>\n",
       "      <td>15.312742</td>\n",
       "      <td>14.674189</td>\n",
       "      <td>17.035324</td>\n",
       "      <td>23.864109</td>\n",
       "    </tr>\n",
       "    <tr>\n",
       "      <th>3</th>\n",
       "      <td>014</td>\n",
       "      <td>Nantua</td>\n",
       "      <td>13.627188</td>\n",
       "      <td>24.261667</td>\n",
       "      <td>15.194385</td>\n",
       "      <td>11.190374</td>\n",
       "      <td>11.674767</td>\n",
       "      <td>12.150629</td>\n",
       "      <td>21.281913</td>\n",
       "      <td>13.550595</td>\n",
       "      <td>...</td>\n",
       "      <td>14.504693</td>\n",
       "      <td>13.323393</td>\n",
       "      <td>13.077700</td>\n",
       "      <td>15.392500</td>\n",
       "      <td>20.028604</td>\n",
       "      <td>16.665603</td>\n",
       "      <td>14.403848</td>\n",
       "      <td>14.158154</td>\n",
       "      <td>16.472955</td>\n",
       "      <td>21.109059</td>\n",
       "    </tr>\n",
       "    <tr>\n",
       "      <th>4</th>\n",
       "      <td>021</td>\n",
       "      <td>Château-Thierry</td>\n",
       "      <td>13.908805</td>\n",
       "      <td>23.688602</td>\n",
       "      <td>15.654075</td>\n",
       "      <td>11.222631</td>\n",
       "      <td>12.165498</td>\n",
       "      <td>12.632217</td>\n",
       "      <td>21.179761</td>\n",
       "      <td>14.423923</td>\n",
       "      <td>...</td>\n",
       "      <td>14.466056</td>\n",
       "      <td>13.483468</td>\n",
       "      <td>13.080702</td>\n",
       "      <td>15.521993</td>\n",
       "      <td>19.640545</td>\n",
       "      <td>16.776539</td>\n",
       "      <td>14.638710</td>\n",
       "      <td>14.235943</td>\n",
       "      <td>16.677234</td>\n",
       "      <td>20.795787</td>\n",
       "    </tr>\n",
       "  </tbody>\n",
       "</table>\n",
       "<p>5 rows × 50 columns</p>\n",
       "</div>"
      ],
      "text/plain": [
       "  CODGEO           LIBGEO     SNHM19    SNHMC19    SNHMP19    SNHME19  \\\n",
       "0    011           Belley  14.674120  25.007347  15.726516  11.260015   \n",
       "1    012  Bourg-en-Bresse  14.963101  25.435744  15.573986  11.440566   \n",
       "2    013              Gex  14.211622  27.637872  14.955071  11.110508   \n",
       "3    014           Nantua  13.627188  24.261667  15.194385  11.190374   \n",
       "4    021  Château-Thierry  13.908805  23.688602  15.654075  11.222631   \n",
       "\n",
       "     SNHMO19    SNHMF19   SNHMFC19   SNHMFP19  ...  SNHMH2619  SNHMHO2619  \\\n",
       "0  12.027875  12.979755  21.758588  14.219631  ...  15.749377   14.073065   \n",
       "1  11.968623  13.289413  22.104039  14.272798  ...  15.937717   14.111229   \n",
       "2  12.148767  13.110850  24.470887  14.198416  ...  15.184363   13.807217   \n",
       "3  11.674767  12.150629  21.281913  13.550595  ...  14.504693   13.323393   \n",
       "4  12.165498  12.632217  21.179761  14.423923  ...  14.466056   13.483468   \n",
       "\n",
       "   SNHMHE2619  SNHMHP2619  SNHMHC2619  SNHMH5019  SNHMHO5019  SNHMHE5019  \\\n",
       "0   13.916257   16.290848   21.124285  18.328561   15.362657   15.205849   \n",
       "1   14.108847   16.304506   21.463635  18.996117   15.640429   15.638047   \n",
       "2   13.168664   15.529799   22.358584  18.195413   15.312742   14.674189   \n",
       "3   13.077700   15.392500   20.028604  16.665603   14.403848   14.158154   \n",
       "4   13.080702   15.521993   19.640545  16.776539   14.638710   14.235943   \n",
       "\n",
       "   SNHMHP5019  SNHMHC5019  \n",
       "0   17.580440   22.413876  \n",
       "1   17.833706   22.992836  \n",
       "2   17.035324   23.864109  \n",
       "3   16.472955   21.109059  \n",
       "4   16.677234   20.795787  \n",
       "\n",
       "[5 rows x 50 columns]"
      ]
     },
     "execution_count": 3,
     "metadata": {},
     "output_type": "execute_result"
    }
   ],
   "source": [
    "salary.head()"
   ]
  },
  {
   "cell_type": "code",
   "execution_count": 282,
   "metadata": {},
   "outputs": [
    {
     "data": {
      "text/html": [
       "<div>\n",
       "<style scoped>\n",
       "    .dataframe tbody tr th:only-of-type {\n",
       "        vertical-align: middle;\n",
       "    }\n",
       "\n",
       "    .dataframe tbody tr th {\n",
       "        vertical-align: top;\n",
       "    }\n",
       "\n",
       "    .dataframe thead th {\n",
       "        text-align: right;\n",
       "    }\n",
       "</style>\n",
       "<table border=\"1\" class=\"dataframe\">\n",
       "  <thead>\n",
       "    <tr style=\"text-align: right;\">\n",
       "      <th></th>\n",
       "      <th>EU_circo</th>\n",
       "      <th>code_region</th>\n",
       "      <th>nom_region</th>\n",
       "      <th>chef.lieu_region</th>\n",
       "      <th>numero_departement</th>\n",
       "      <th>nom_departement</th>\n",
       "      <th>prefecture</th>\n",
       "      <th>numero_circonscription</th>\n",
       "      <th>nom_commune</th>\n",
       "      <th>codes_postaux</th>\n",
       "      <th>code_insee</th>\n",
       "      <th>latitude</th>\n",
       "      <th>longitude</th>\n",
       "      <th>eloignement</th>\n",
       "    </tr>\n",
       "  </thead>\n",
       "  <tbody>\n",
       "    <tr>\n",
       "      <th>0</th>\n",
       "      <td>Sud-Est</td>\n",
       "      <td>82</td>\n",
       "      <td>Rhone-Alpes</td>\n",
       "      <td>Lyon</td>\n",
       "      <td>1</td>\n",
       "      <td>Ain</td>\n",
       "      <td>Bourg-en-Bresse</td>\n",
       "      <td>1</td>\n",
       "      <td>Attignat</td>\n",
       "      <td>1340</td>\n",
       "      <td>1024</td>\n",
       "      <td>46.283333</td>\n",
       "      <td>5.166667</td>\n",
       "      <td>1.21</td>\n",
       "    </tr>\n",
       "    <tr>\n",
       "      <th>1</th>\n",
       "      <td>Sud-Est</td>\n",
       "      <td>82</td>\n",
       "      <td>Rhone-Alpes</td>\n",
       "      <td>Lyon</td>\n",
       "      <td>1</td>\n",
       "      <td>Ain</td>\n",
       "      <td>Bourg-en-Bresse</td>\n",
       "      <td>1</td>\n",
       "      <td>Beaupont</td>\n",
       "      <td>1270</td>\n",
       "      <td>1029</td>\n",
       "      <td>46.400000</td>\n",
       "      <td>5.266667</td>\n",
       "      <td>1.91</td>\n",
       "    </tr>\n",
       "    <tr>\n",
       "      <th>2</th>\n",
       "      <td>Sud-Est</td>\n",
       "      <td>82</td>\n",
       "      <td>Rhone-Alpes</td>\n",
       "      <td>Lyon</td>\n",
       "      <td>1</td>\n",
       "      <td>Ain</td>\n",
       "      <td>Bourg-en-Bresse</td>\n",
       "      <td>1</td>\n",
       "      <td>Beny</td>\n",
       "      <td>1370</td>\n",
       "      <td>1038</td>\n",
       "      <td>46.333333</td>\n",
       "      <td>5.283333</td>\n",
       "      <td>1.51</td>\n",
       "    </tr>\n",
       "    <tr>\n",
       "      <th>3</th>\n",
       "      <td>Sud-Est</td>\n",
       "      <td>82</td>\n",
       "      <td>Rhone-Alpes</td>\n",
       "      <td>Lyon</td>\n",
       "      <td>1</td>\n",
       "      <td>Ain</td>\n",
       "      <td>Bourg-en-Bresse</td>\n",
       "      <td>1</td>\n",
       "      <td>Bereyziat</td>\n",
       "      <td>1340</td>\n",
       "      <td>1040</td>\n",
       "      <td>46.366667</td>\n",
       "      <td>5.05</td>\n",
       "      <td>1.71</td>\n",
       "    </tr>\n",
       "    <tr>\n",
       "      <th>4</th>\n",
       "      <td>Sud-Est</td>\n",
       "      <td>82</td>\n",
       "      <td>Rhone-Alpes</td>\n",
       "      <td>Lyon</td>\n",
       "      <td>1</td>\n",
       "      <td>Ain</td>\n",
       "      <td>Bourg-en-Bresse</td>\n",
       "      <td>1</td>\n",
       "      <td>Bohas-Meyriat-Rignat</td>\n",
       "      <td>1250</td>\n",
       "      <td>1245</td>\n",
       "      <td>46.133333</td>\n",
       "      <td>5.4</td>\n",
       "      <td>1.01</td>\n",
       "    </tr>\n",
       "  </tbody>\n",
       "</table>\n",
       "</div>"
      ],
      "text/plain": [
       "  EU_circo  code_region   nom_region chef.lieu_region numero_departement  \\\n",
       "0  Sud-Est           82  Rhone-Alpes             Lyon                  1   \n",
       "1  Sud-Est           82  Rhone-Alpes             Lyon                  1   \n",
       "2  Sud-Est           82  Rhone-Alpes             Lyon                  1   \n",
       "3  Sud-Est           82  Rhone-Alpes             Lyon                  1   \n",
       "4  Sud-Est           82  Rhone-Alpes             Lyon                  1   \n",
       "\n",
       "  nom_departement       prefecture  numero_circonscription  \\\n",
       "0             Ain  Bourg-en-Bresse                       1   \n",
       "1             Ain  Bourg-en-Bresse                       1   \n",
       "2             Ain  Bourg-en-Bresse                       1   \n",
       "3             Ain  Bourg-en-Bresse                       1   \n",
       "4             Ain  Bourg-en-Bresse                       1   \n",
       "\n",
       "            nom_commune codes_postaux  code_insee   latitude longitude  \\\n",
       "0              Attignat          1340        1024  46.283333  5.166667   \n",
       "1              Beaupont          1270        1029  46.400000  5.266667   \n",
       "2                  Beny          1370        1038  46.333333  5.283333   \n",
       "3             Bereyziat          1340        1040  46.366667      5.05   \n",
       "4  Bohas-Meyriat-Rignat          1250        1245  46.133333       5.4   \n",
       "\n",
       "   eloignement  \n",
       "0         1.21  \n",
       "1         1.91  \n",
       "2         1.51  \n",
       "3         1.71  \n",
       "4         1.01  "
      ]
     },
     "execution_count": 282,
     "metadata": {},
     "output_type": "execute_result"
    }
   ],
   "source": [
    "geo.head()"
   ]
  },
  {
   "cell_type": "code",
   "execution_count": 62,
   "metadata": {},
   "outputs": [
    {
     "name": "stdout",
     "output_type": "stream",
     "text": [
      "<class 'pandas.core.frame.DataFrame'>\n",
      "RangeIndex: 36840 entries, 0 to 36839\n",
      "Data columns (total 14 columns):\n",
      " #   Column                  Non-Null Count  Dtype  \n",
      "---  ------                  --------------  -----  \n",
      " 0   EU_circo                36840 non-null  object \n",
      " 1   code_region             36840 non-null  int64  \n",
      " 2   nom_region              36840 non-null  object \n",
      " 3   chef.lieu_region        36840 non-null  object \n",
      " 4   numero_departement      36840 non-null  object \n",
      " 5   nom_departement         36840 non-null  object \n",
      " 6   prefecture              36840 non-null  object \n",
      " 7   numero_circonscription  36840 non-null  int64  \n",
      " 8   nom_commune             36840 non-null  object \n",
      " 9   codes_postaux           36840 non-null  object \n",
      " 10  code_insee              36840 non-null  int64  \n",
      " 11  latitude                33911 non-null  float64\n",
      " 12  longitude               33999 non-null  object \n",
      " 13  eloignement             33878 non-null  float64\n",
      "dtypes: float64(2), int64(3), object(9)\n",
      "memory usage: 3.9+ MB\n"
     ]
    }
   ],
   "source": [
    "geo.info()"
   ]
  },
  {
   "cell_type": "code",
   "execution_count": 4,
   "metadata": {},
   "outputs": [
    {
     "name": "stdout",
     "output_type": "stream",
     "text": [
      "<class 'pandas.core.frame.DataFrame'>\n",
      "RangeIndex: 332 entries, 0 to 331\n",
      "Data columns (total 50 columns):\n",
      " #   Column      Non-Null Count  Dtype  \n",
      "---  ------      --------------  -----  \n",
      " 0   CODGEO      332 non-null    object \n",
      " 1   LIBGEO      332 non-null    object \n",
      " 2   SNHM19      332 non-null    float64\n",
      " 3   SNHMC19     332 non-null    float64\n",
      " 4   SNHMP19     332 non-null    float64\n",
      " 5   SNHME19     332 non-null    float64\n",
      " 6   SNHMO19     332 non-null    float64\n",
      " 7   SNHMF19     332 non-null    float64\n",
      " 8   SNHMFC19    332 non-null    float64\n",
      " 9   SNHMFP19    332 non-null    float64\n",
      " 10  SNHMFE19    332 non-null    float64\n",
      " 11  SNHMFO19    332 non-null    float64\n",
      " 12  SNHMH19     332 non-null    float64\n",
      " 13  SNHMHC19    332 non-null    float64\n",
      " 14  SNHMHP19    332 non-null    float64\n",
      " 15  SNHMHE19    332 non-null    float64\n",
      " 16  SNHMHO19    332 non-null    float64\n",
      " 17  SNHM1819    332 non-null    float64\n",
      " 18  SNHM2619    332 non-null    float64\n",
      " 19  SNHM5019    332 non-null    float64\n",
      " 20  SNHMF1819   332 non-null    float64\n",
      " 21  SNHMFO1819  332 non-null    float64\n",
      " 22  SNHMFE1819  332 non-null    float64\n",
      " 23  SNHMFP1819  332 non-null    float64\n",
      " 24  SNHMFC1819  332 non-null    float64\n",
      " 25  SNHMF2619   332 non-null    float64\n",
      " 26  SNHMFO2619  332 non-null    float64\n",
      " 27  SNHMFE2619  332 non-null    float64\n",
      " 28  SNHMFP2619  332 non-null    float64\n",
      " 29  SNHMFC2619  332 non-null    float64\n",
      " 30  SNHMF5019   332 non-null    float64\n",
      " 31  SNHMFO5019  332 non-null    float64\n",
      " 32  SNHMFE5019  332 non-null    float64\n",
      " 33  SNHMFP5019  332 non-null    float64\n",
      " 34  SNHMFC5019  332 non-null    float64\n",
      " 35  SNHMH1819   332 non-null    float64\n",
      " 36  SNHMHO1819  332 non-null    float64\n",
      " 37  SNHMHE1819  332 non-null    float64\n",
      " 38  SNHMHP1819  332 non-null    float64\n",
      " 39  SNHMHC1819  332 non-null    float64\n",
      " 40  SNHMH2619   332 non-null    float64\n",
      " 41  SNHMHO2619  332 non-null    float64\n",
      " 42  SNHMHE2619  332 non-null    float64\n",
      " 43  SNHMHP2619  332 non-null    float64\n",
      " 44  SNHMHC2619  332 non-null    float64\n",
      " 45  SNHMH5019   332 non-null    float64\n",
      " 46  SNHMHO5019  332 non-null    float64\n",
      " 47  SNHMHE5019  332 non-null    float64\n",
      " 48  SNHMHP5019  332 non-null    float64\n",
      " 49  SNHMHC5019  332 non-null    float64\n",
      "dtypes: float64(48), object(2)\n",
      "memory usage: 129.8+ KB\n"
     ]
    }
   ],
   "source": [
    "salary.info()"
   ]
  },
  {
   "cell_type": "code",
   "execution_count": 78,
   "metadata": {},
   "outputs": [
    {
     "data": {
      "text/html": [
       "<div>\n",
       "<style scoped>\n",
       "    .dataframe tbody tr th:only-of-type {\n",
       "        vertical-align: middle;\n",
       "    }\n",
       "\n",
       "    .dataframe tbody tr th {\n",
       "        vertical-align: top;\n",
       "    }\n",
       "\n",
       "    .dataframe thead th {\n",
       "        text-align: right;\n",
       "    }\n",
       "</style>\n",
       "<table border=\"1\" class=\"dataframe\">\n",
       "  <thead>\n",
       "    <tr style=\"text-align: right;\">\n",
       "      <th></th>\n",
       "      <th>CODGEO</th>\n",
       "      <th>SNHM19</th>\n",
       "      <th>SNHMC19</th>\n",
       "      <th>SNHMP19</th>\n",
       "      <th>SNHME19</th>\n",
       "      <th>SNHMO19</th>\n",
       "      <th>SNHMF19</th>\n",
       "      <th>SNHMFC19</th>\n",
       "      <th>SNHMFP19</th>\n",
       "      <th>SNHMFE19</th>\n",
       "      <th>...</th>\n",
       "      <th>SNHMH2619</th>\n",
       "      <th>SNHMHO2619</th>\n",
       "      <th>SNHMHE2619</th>\n",
       "      <th>SNHMHP2619</th>\n",
       "      <th>SNHMHC2619</th>\n",
       "      <th>SNHMH5019</th>\n",
       "      <th>SNHMHO5019</th>\n",
       "      <th>SNHMHE5019</th>\n",
       "      <th>SNHMHP5019</th>\n",
       "      <th>SNHMHC5019</th>\n",
       "    </tr>\n",
       "  </thead>\n",
       "  <tbody>\n",
       "    <tr>\n",
       "      <th>count</th>\n",
       "      <td>327.000000</td>\n",
       "      <td>327.000000</td>\n",
       "      <td>327.000000</td>\n",
       "      <td>327.000000</td>\n",
       "      <td>327.000000</td>\n",
       "      <td>327.000000</td>\n",
       "      <td>327.000000</td>\n",
       "      <td>327.000000</td>\n",
       "      <td>327.000000</td>\n",
       "      <td>327.000000</td>\n",
       "      <td>...</td>\n",
       "      <td>327.000000</td>\n",
       "      <td>327.000000</td>\n",
       "      <td>327.000000</td>\n",
       "      <td>327.000000</td>\n",
       "      <td>327.000000</td>\n",
       "      <td>327.000000</td>\n",
       "      <td>327.000000</td>\n",
       "      <td>327.000000</td>\n",
       "      <td>327.000000</td>\n",
       "      <td>327.000000</td>\n",
       "    </tr>\n",
       "    <tr>\n",
       "      <th>mean</th>\n",
       "      <td>817.477064</td>\n",
       "      <td>14.045574</td>\n",
       "      <td>24.202570</td>\n",
       "      <td>15.197544</td>\n",
       "      <td>10.964940</td>\n",
       "      <td>11.695402</td>\n",
       "      <td>12.705472</td>\n",
       "      <td>21.165404</td>\n",
       "      <td>14.038806</td>\n",
       "      <td>10.784183</td>\n",
       "      <td>...</td>\n",
       "      <td>14.653316</td>\n",
       "      <td>13.310509</td>\n",
       "      <td>13.053589</td>\n",
       "      <td>15.389323</td>\n",
       "      <td>20.185104</td>\n",
       "      <td>17.595188</td>\n",
       "      <td>14.781445</td>\n",
       "      <td>14.524525</td>\n",
       "      <td>16.860259</td>\n",
       "      <td>21.656040</td>\n",
       "    </tr>\n",
       "    <tr>\n",
       "      <th>std</th>\n",
       "      <td>1761.710072</td>\n",
       "      <td>1.887917</td>\n",
       "      <td>2.227600</td>\n",
       "      <td>0.744979</td>\n",
       "      <td>0.457637</td>\n",
       "      <td>0.514616</td>\n",
       "      <td>1.576312</td>\n",
       "      <td>1.809937</td>\n",
       "      <td>0.745103</td>\n",
       "      <td>0.478996</td>\n",
       "      <td>...</td>\n",
       "      <td>1.935789</td>\n",
       "      <td>1.118678</td>\n",
       "      <td>1.142411</td>\n",
       "      <td>1.317156</td>\n",
       "      <td>2.210687</td>\n",
       "      <td>3.390649</td>\n",
       "      <td>1.814514</td>\n",
       "      <td>1.852844</td>\n",
       "      <td>2.023150</td>\n",
       "      <td>2.922753</td>\n",
       "    </tr>\n",
       "    <tr>\n",
       "      <th>min</th>\n",
       "      <td>11.000000</td>\n",
       "      <td>11.678509</td>\n",
       "      <td>18.327507</td>\n",
       "      <td>13.650405</td>\n",
       "      <td>10.303698</td>\n",
       "      <td>10.509257</td>\n",
       "      <td>10.957699</td>\n",
       "      <td>15.884291</td>\n",
       "      <td>12.695806</td>\n",
       "      <td>10.073400</td>\n",
       "      <td>...</td>\n",
       "      <td>11.689126</td>\n",
       "      <td>11.181551</td>\n",
       "      <td>11.217668</td>\n",
       "      <td>13.245900</td>\n",
       "      <td>15.593124</td>\n",
       "      <td>13.440666</td>\n",
       "      <td>12.105253</td>\n",
       "      <td>11.999038</td>\n",
       "      <td>14.032354</td>\n",
       "      <td>16.326015</td>\n",
       "    </tr>\n",
       "    <tr>\n",
       "      <th>25%</th>\n",
       "      <td>262.500000</td>\n",
       "      <td>12.971067</td>\n",
       "      <td>23.013297</td>\n",
       "      <td>14.711762</td>\n",
       "      <td>10.649847</td>\n",
       "      <td>11.346836</td>\n",
       "      <td>11.844964</td>\n",
       "      <td>20.142665</td>\n",
       "      <td>13.585509</td>\n",
       "      <td>10.470166</td>\n",
       "      <td>...</td>\n",
       "      <td>13.530213</td>\n",
       "      <td>12.636330</td>\n",
       "      <td>12.334238</td>\n",
       "      <td>14.571872</td>\n",
       "      <td>18.968215</td>\n",
       "      <td>15.750579</td>\n",
       "      <td>13.699505</td>\n",
       "      <td>13.451097</td>\n",
       "      <td>15.708476</td>\n",
       "      <td>20.083349</td>\n",
       "    </tr>\n",
       "    <tr>\n",
       "      <th>50%</th>\n",
       "      <td>511.000000</td>\n",
       "      <td>13.654912</td>\n",
       "      <td>23.906522</td>\n",
       "      <td>15.031331</td>\n",
       "      <td>10.845134</td>\n",
       "      <td>11.628414</td>\n",
       "      <td>12.282627</td>\n",
       "      <td>20.845510</td>\n",
       "      <td>13.835592</td>\n",
       "      <td>10.644027</td>\n",
       "      <td>...</td>\n",
       "      <td>14.288191</td>\n",
       "      <td>13.129371</td>\n",
       "      <td>12.883337</td>\n",
       "      <td>15.141405</td>\n",
       "      <td>19.806924</td>\n",
       "      <td>16.776539</td>\n",
       "      <td>14.426934</td>\n",
       "      <td>14.149314</td>\n",
       "      <td>16.472955</td>\n",
       "      <td>21.097776</td>\n",
       "    </tr>\n",
       "    <tr>\n",
       "      <th>75%</th>\n",
       "      <td>721.500000</td>\n",
       "      <td>14.467829</td>\n",
       "      <td>25.005055</td>\n",
       "      <td>15.626865</td>\n",
       "      <td>11.129154</td>\n",
       "      <td>11.999292</td>\n",
       "      <td>12.974432</td>\n",
       "      <td>21.721732</td>\n",
       "      <td>14.242563</td>\n",
       "      <td>10.949336</td>\n",
       "      <td>...</td>\n",
       "      <td>15.264427</td>\n",
       "      <td>13.695543</td>\n",
       "      <td>13.476931</td>\n",
       "      <td>15.886506</td>\n",
       "      <td>20.936524</td>\n",
       "      <td>18.414359</td>\n",
       "      <td>15.366246</td>\n",
       "      <td>15.146997</td>\n",
       "      <td>17.530856</td>\n",
       "      <td>22.587200</td>\n",
       "    </tr>\n",
       "    <tr>\n",
       "      <th>max</th>\n",
       "      <td>9744.000000</td>\n",
       "      <td>26.942651</td>\n",
       "      <td>35.854405</td>\n",
       "      <td>18.763944</td>\n",
       "      <td>13.076135</td>\n",
       "      <td>13.865445</td>\n",
       "      <td>23.514620</td>\n",
       "      <td>30.693157</td>\n",
       "      <td>17.411948</td>\n",
       "      <td>13.029747</td>\n",
       "      <td>...</td>\n",
       "      <td>28.019194</td>\n",
       "      <td>20.206340</td>\n",
       "      <td>20.581322</td>\n",
       "      <td>23.769686</td>\n",
       "      <td>33.499731</td>\n",
       "      <td>39.848332</td>\n",
       "      <td>26.120909</td>\n",
       "      <td>26.495891</td>\n",
       "      <td>29.684255</td>\n",
       "      <td>39.414300</td>\n",
       "    </tr>\n",
       "  </tbody>\n",
       "</table>\n",
       "<p>8 rows × 49 columns</p>\n",
       "</div>"
      ],
      "text/plain": [
       "            CODGEO      SNHM19     SNHMC19     SNHMP19     SNHME19  \\\n",
       "count   327.000000  327.000000  327.000000  327.000000  327.000000   \n",
       "mean    817.477064   14.045574   24.202570   15.197544   10.964940   \n",
       "std    1761.710072    1.887917    2.227600    0.744979    0.457637   \n",
       "min      11.000000   11.678509   18.327507   13.650405   10.303698   \n",
       "25%     262.500000   12.971067   23.013297   14.711762   10.649847   \n",
       "50%     511.000000   13.654912   23.906522   15.031331   10.845134   \n",
       "75%     721.500000   14.467829   25.005055   15.626865   11.129154   \n",
       "max    9744.000000   26.942651   35.854405   18.763944   13.076135   \n",
       "\n",
       "          SNHMO19     SNHMF19    SNHMFC19    SNHMFP19    SNHMFE19  ...  \\\n",
       "count  327.000000  327.000000  327.000000  327.000000  327.000000  ...   \n",
       "mean    11.695402   12.705472   21.165404   14.038806   10.784183  ...   \n",
       "std      0.514616    1.576312    1.809937    0.745103    0.478996  ...   \n",
       "min     10.509257   10.957699   15.884291   12.695806   10.073400  ...   \n",
       "25%     11.346836   11.844964   20.142665   13.585509   10.470166  ...   \n",
       "50%     11.628414   12.282627   20.845510   13.835592   10.644027  ...   \n",
       "75%     11.999292   12.974432   21.721732   14.242563   10.949336  ...   \n",
       "max     13.865445   23.514620   30.693157   17.411948   13.029747  ...   \n",
       "\n",
       "        SNHMH2619  SNHMHO2619  SNHMHE2619  SNHMHP2619  SNHMHC2619   SNHMH5019  \\\n",
       "count  327.000000  327.000000  327.000000  327.000000  327.000000  327.000000   \n",
       "mean    14.653316   13.310509   13.053589   15.389323   20.185104   17.595188   \n",
       "std      1.935789    1.118678    1.142411    1.317156    2.210687    3.390649   \n",
       "min     11.689126   11.181551   11.217668   13.245900   15.593124   13.440666   \n",
       "25%     13.530213   12.636330   12.334238   14.571872   18.968215   15.750579   \n",
       "50%     14.288191   13.129371   12.883337   15.141405   19.806924   16.776539   \n",
       "75%     15.264427   13.695543   13.476931   15.886506   20.936524   18.414359   \n",
       "max     28.019194   20.206340   20.581322   23.769686   33.499731   39.848332   \n",
       "\n",
       "       SNHMHO5019  SNHMHE5019  SNHMHP5019  SNHMHC5019  \n",
       "count  327.000000  327.000000  327.000000  327.000000  \n",
       "mean    14.781445   14.524525   16.860259   21.656040  \n",
       "std      1.814514    1.852844    2.023150    2.922753  \n",
       "min     12.105253   11.999038   14.032354   16.326015  \n",
       "25%     13.699505   13.451097   15.708476   20.083349  \n",
       "50%     14.426934   14.149314   16.472955   21.097776  \n",
       "75%     15.366246   15.146997   17.530856   22.587200  \n",
       "max     26.120909   26.495891   29.684255   39.414300  \n",
       "\n",
       "[8 rows x 49 columns]"
      ]
     },
     "execution_count": 78,
     "metadata": {},
     "output_type": "execute_result"
    }
   ],
   "source": [
    "salary.describe()"
   ]
  },
  {
   "cell_type": "markdown",
   "metadata": {},
   "source": [
    "#### DATA DICTIONARY\n",
    "- CODGEO : INSEE code of the town/county (can be joined with codeinsee column from \"name_geographic_information.csv')\n",
    "- LIBGEO : name of the French town\n",
    "- SNHM19 : mean net salary (year 2019)\n",
    "- SNHMC19 : mean net salary per hour for executive\n",
    "- SNHMP19 : mean net salary per hour for middle manager\n",
    "- SNHME19 : mean net salary per hour for employee\n",
    "- SNHMO19 : mean net salary per hour for worker\n",
    "- SNHMF19 : mean net salary for WOMEN\n",
    "- SNHMFC19 : mean net salary per hour for female executive\n",
    "- SNHMFP19 : mean net salary per hour for female middle manager\n",
    "- SNHMFE19 : mean net salary per hour for female employee\n",
    "- SNHMFO19 : mean net salary per hour for female worker\n",
    "- SNHMH19 : mean net salary for MEN\n",
    "- SNHMHC19 : mean net salary per hour for male executive\n",
    "- SNHMHP19 : mean net salary per hour for male middle manager\n",
    "- SNHMHE19 : mean net salary per hour for male employee\n",
    "- SNHMHO19 : mean net salary per hour for male worker\n",
    "- SNHM1819 : mean net salary per hour for 18-25 years old\n",
    "- SNHM2619 : mean net salary per hour for 26-50 years old\n",
    "- SNHM5019 : mean net salary per hour for >50 years old\n",
    "- SNHMF1819 : mean net salary per hour for women between 18-25 years old\n",
    "- SNHMFO1819 to SNHMFC1819 : mean net salary per hour per job level for women between 18-25 years old\n",
    "- SNHMF2619 : mean net salary per hour for women between 26-50 years old\n",
    "- SNHMFO2619 to SNHMFC2619 : mean net salary per hour per job level for women between 26-50 years old\n",
    "- SNHMF5019 : mean net salary per hour for women >50 years old\n",
    "- SNHMFO5019 to SNHMFC5019 : mean net salary per hour per job level for women between >50 years old\n",
    "- SNHMH1819 : mean net salary per hour for men between 18-25 years old\n",
    "- SNHMHO1819 to SNHMHC1819 : mean net salary per hour per job level for men between 18-25 years old\n",
    "- SNHMH2619 : mean net salary per hour for men between 26-50 years old\n",
    "- SNHMHO2619 to SNHMHC2619 : mean net salary per hour per job level for men between 26-50 years old\n",
    "- SNHMH5019 : mean net salary per hour for men >50 years old\n",
    "- SNHMHO5019 to SNHMHC5019 : mean net salary per hour per job level for men between >50 years old"
   ]
  },
  {
   "cell_type": "code",
   "execution_count": 3,
   "metadata": {},
   "outputs": [],
   "source": [
    "#2 features are not integer type, we will convert CODGEO into integer type \n",
    "\n",
    "#Remove rows with non numeric values\n",
    "salary = salary[salary[\"CODGEO\"].apply(lambda x: str(x).isdigit())]\n",
    "#Convert CODGEO into numeric type for further analysis\n",
    "salary[\"CODGEO\"] = salary[\"CODGEO\"].astype(int)"
   ]
  },
  {
   "cell_type": "code",
   "execution_count": 4,
   "metadata": {},
   "outputs": [],
   "source": [
    "# drop non-numeric feature LIBGEO\n",
    "salary = salary.drop(['LIBGEO'], axis=1)"
   ]
  },
  {
   "cell_type": "code",
   "execution_count": 5,
   "metadata": {},
   "outputs": [],
   "source": [
    "#Performing the same actions with non numeric values of the town-based file\n",
    "\n",
    "salary_2 = salary_2[salary_2[\"CODGEO\"].apply(lambda x: str(x).isdigit())]\n",
    "#Convert CODGEO into numeric type for further analysis\n",
    "salary_2[\"CODGEO\"] = salary_2[\"CODGEO\"].astype(int)\n",
    "salary_2 = salary_2.drop(['LIBGEO'], axis=1)"
   ]
  },
  {
   "cell_type": "markdown",
   "metadata": {},
   "source": [
    "### Exploring the data / computing the mean gender gap\n",
    "Unadjusted gender pay gap = (Average Male pay - Average female pay)/ average Male pay"
   ]
  },
  {
   "cell_type": "code",
   "execution_count": 6,
   "metadata": {},
   "outputs": [
    {
     "data": {
      "text/html": [
       "<div>\n",
       "<style scoped>\n",
       "    .dataframe tbody tr th:only-of-type {\n",
       "        vertical-align: middle;\n",
       "    }\n",
       "\n",
       "    .dataframe tbody tr th {\n",
       "        vertical-align: top;\n",
       "    }\n",
       "\n",
       "    .dataframe thead th {\n",
       "        text-align: right;\n",
       "    }\n",
       "</style>\n",
       "<table border=\"1\" class=\"dataframe\">\n",
       "  <thead>\n",
       "    <tr style=\"text-align: right;\">\n",
       "      <th></th>\n",
       "      <th>Gender Gap in %</th>\n",
       "    </tr>\n",
       "  </thead>\n",
       "  <tbody>\n",
       "    <tr>\n",
       "      <th>Total_French_Gender Gap</th>\n",
       "      <td>15.176640</td>\n",
       "    </tr>\n",
       "    <tr>\n",
       "      <th>Executive</th>\n",
       "      <td>30.386314</td>\n",
       "    </tr>\n",
       "    <tr>\n",
       "      <th>Midmanager</th>\n",
       "      <td>13.929901</td>\n",
       "    </tr>\n",
       "    <tr>\n",
       "      <th>Employee</th>\n",
       "      <td>4.470855</td>\n",
       "    </tr>\n",
       "    <tr>\n",
       "      <th>Worker</th>\n",
       "      <td>10.671779</td>\n",
       "    </tr>\n",
       "  </tbody>\n",
       "</table>\n",
       "</div>"
      ],
      "text/plain": [
       "                         Gender Gap in %\n",
       "Total_French_Gender Gap        15.176640\n",
       "Executive                      30.386314\n",
       "Midmanager                     13.929901\n",
       "Employee                        4.470855\n",
       "Worker                         10.671779"
      ]
     },
     "execution_count": 6,
     "metadata": {},
     "output_type": "execute_result"
    }
   ],
   "source": [
    "Total_Gap = (salary['SNHMH19'].mean()-salary['SNHMF19'].mean())*100/salary['SNHMH19'].mean()\n",
    "Executive = (salary['SNHMHC19'].mean()-salary['SNHMFC19'].mean())*100/salary['SNHMH19'].mean()\n",
    "Midmanager = (salary['SNHMHP19'].mean()-salary['SNHMFP19'].mean())*100/salary['SNHMH19'].mean()\n",
    "Employee = (salary['SNHMHE19'].mean()-salary['SNHMFE19'].mean())*100/salary['SNHMH19'].mean()\n",
    "Worker = (salary['SNHMHO19'].mean()-salary['SNHMFO19'].mean())*100/salary['SNHMH19'].mean()\n",
    "\n",
    "pd.DataFrame([Total_Gap, Executive, Midmanager, Employee, Worker], \n",
    "             index = ['Total_French_Gender Gap', \"Executive\", \"Midmanager\",\"Employee\",\"Worker\"], \n",
    "             columns = ['Gender Gap in %'])\n"
   ]
  },
  {
   "cell_type": "code",
   "execution_count": 7,
   "metadata": {},
   "outputs": [
    {
     "data": {
      "text/html": [
       "<div>\n",
       "<style scoped>\n",
       "    .dataframe tbody tr th:only-of-type {\n",
       "        vertical-align: middle;\n",
       "    }\n",
       "\n",
       "    .dataframe tbody tr th {\n",
       "        vertical-align: top;\n",
       "    }\n",
       "\n",
       "    .dataframe thead th {\n",
       "        text-align: right;\n",
       "    }\n",
       "</style>\n",
       "<table border=\"1\" class=\"dataframe\">\n",
       "  <thead>\n",
       "    <tr style=\"text-align: right;\">\n",
       "      <th></th>\n",
       "      <th>Gender Gap in %</th>\n",
       "    </tr>\n",
       "  </thead>\n",
       "  <tbody>\n",
       "    <tr>\n",
       "      <th>Total_French_Gender Gap</th>\n",
       "      <td>15.176640</td>\n",
       "    </tr>\n",
       "    <tr>\n",
       "      <th>age &gt;50</th>\n",
       "      <td>21.246265</td>\n",
       "    </tr>\n",
       "    <tr>\n",
       "      <th>age 26-50</th>\n",
       "      <td>13.197104</td>\n",
       "    </tr>\n",
       "    <tr>\n",
       "      <th>age 18-25</th>\n",
       "      <td>5.521671</td>\n",
       "    </tr>\n",
       "  </tbody>\n",
       "</table>\n",
       "</div>"
      ],
      "text/plain": [
       "                         Gender Gap in %\n",
       "Total_French_Gender Gap        15.176640\n",
       "age >50                        21.246265\n",
       "age 26-50                      13.197104\n",
       "age 18-25                       5.521671"
      ]
     },
     "execution_count": 7,
     "metadata": {},
     "output_type": "execute_result"
    }
   ],
   "source": [
    "young = (salary['SNHMH1819'].mean()-salary['SNHMF1819'].mean())*100/salary['SNHMH1819'].mean()\n",
    "mid = (salary['SNHMH2619'].mean()-salary['SNHMF2619'].mean())*100/salary['SNHMH2619'].mean()\n",
    "old = (salary['SNHMH5019'].mean()-salary['SNHMF5019'].mean())*100/salary['SNHMH5019'].mean()\n",
    "\n",
    "pd.DataFrame([Total_Gap, old, mid, young], \n",
    "             index = ['Total_French_Gender Gap', \"age >50\", \"age 26-50\",\"age 18-25\"], \n",
    "             columns = ['Gender Gap in %'])"
   ]
  },
  {
   "cell_type": "markdown",
   "metadata": {},
   "source": [
    "### Exploring the data across age group"
   ]
  },
  {
   "cell_type": "code",
   "execution_count": 8,
   "metadata": {},
   "outputs": [
    {
     "data": {
      "image/png": "[encoded data removed]",
      "text/plain": [
       "<Figure size 432x288 with 1 Axes>"
      ]
     },
     "metadata": {
      "needs_background": "light"
     },
     "output_type": "display_data"
    }
   ],
   "source": [
    "# Exploring the data across age group\n",
    "\n",
    "women_mean_young = salary['SNHMF1819'].mean()\n",
    "women_mean_mid = salary['SNHMF2619'].mean()\n",
    "women_mean_old = salary['SNHMF5019'].mean()\n",
    "man_mean_young = salary['SNHMH1819'].mean()\n",
    "man_mean_mid = salary['SNHMH2619'].mean()\n",
    "man_mean_old = salary['SNHMH5019'].mean()\n",
    "\n",
    "x = ['age 18-25', 'age 26-50', 'age >50']\n",
    "y_women = [women_mean_young, women_mean_mid, women_mean_old]\n",
    "y_men = [man_mean_young, man_mean_mid, man_mean_old]\n",
    "df = pd.DataFrame(np.c_[y_women, y_men], index=x)\n",
    "df.plot.bar(rot=0)\n",
    "plt.title('mean wages of different gender across age group')\n",
    "plt.legend(['woman', 'man'])\n",
    "plt.show()"
   ]
  },
  {
   "cell_type": "markdown",
   "metadata": {},
   "source": [
    "#We see that the gap increases with age (and therefore experience)"
   ]
  },
  {
   "cell_type": "markdown",
   "metadata": {},
   "source": [
    "### Exploring the data across position level"
   ]
  },
  {
   "cell_type": "code",
   "execution_count": 9,
   "metadata": {},
   "outputs": [
    {
     "data": {
      "image/png": "[encoded data removed]",
      "text/plain": [
       "<Figure size 432x288 with 1 Axes>"
      ]
     },
     "metadata": {
      "needs_background": "light"
     },
     "output_type": "display_data"
    }
   ],
   "source": [
    "# Exploring the data across position level\n",
    "\n",
    "women_mean_executive = salary['SNHMFC19'].mean()\n",
    "women_mean_midmanager = salary['SNHMFP19'].mean()\n",
    "women_mean_employee = salary['SNHMFE19'].mean()\n",
    "woman_mean_worker = salary['SNHMFO19'].mean()\n",
    "man_mean_executive = salary['SNHMHC19'].mean()\n",
    "man_mean_midmanager = salary['SNHMHC19'].mean()\n",
    "man_mean_employee = salary['SNHMHE19'].mean()\n",
    "man_mean_worker = salary['SNHMHO19'].mean()\n",
    "\n",
    "x = ['Executive', 'Mid manager', 'Employee', 'Worker']\n",
    "y_women = [women_mean_executive, women_mean_midmanager, women_mean_employee, woman_mean_worker]\n",
    "y_men = [man_mean_executive, man_mean_midmanager, man_mean_employee, woman_mean_worker]\n",
    "df = pd.DataFrame(np.c_[y_women, y_men], index=x)\n",
    "df.plot.bar(rot=0)\n",
    "plt.title('mean wages of different gender across position level')\n",
    "plt.legend(['woman', 'man'])\n",
    "plt.show()\n"
   ]
  },
  {
   "cell_type": "markdown",
   "metadata": {},
   "source": [
    "#We see that the gap increases with high-level position"
   ]
  },
  {
   "cell_type": "markdown",
   "metadata": {},
   "source": [
    "### Creation of a new DataFrame that will separate information for different job level."
   ]
  },
  {
   "cell_type": "code",
   "execution_count": 10,
   "metadata": {},
   "outputs": [],
   "source": [
    "# Creation of a new DataFrame that will separate information for different job level.\n",
    "# DataFrame will have five columns: \"CODGEO\", \"SEX\" (1 - for woman, 2 - for man),\n",
    "#\"POSITION\" (1 - for workers, 2 - for employees, 3 - for middle manager and 4 - for executive)\n",
    "# 'AGE' ( 1 for 18-25, 2 for 26-50, 3 for above 50)\n",
    "# and \"WAGE\" that will hold mean net salary per hour.\n",
    "\n",
    "row_fields = {}\n",
    "row_fields[\"SNHMFC1819\"] = {\"GENDER\": 1, \"POSITION\": 4, \"AGE\": 1}\n",
    "row_fields[\"SNHMFP1819\"] = {\"GENDER\": 1, \"POSITION\": 3, \"AGE\": 1}\n",
    "row_fields[\"SNHMFE1819\"] = {\"GENDER\": 1, \"POSITION\": 2, \"AGE\": 1}\n",
    "row_fields[\"SNHMFO1819\"] = {\"GENDER\": 1, \"POSITION\": 1, \"AGE\": 1}\n",
    "row_fields[\"SNHMFC2619\"] = {\"GENDER\": 1, \"POSITION\": 4, \"AGE\": 2}\n",
    "row_fields[\"SNHMFP2619\"] = {\"GENDER\": 1, \"POSITION\": 3, \"AGE\": 2}\n",
    "row_fields[\"SNHMFE2619\"] = {\"GENDER\": 1, \"POSITION\": 2, \"AGE\": 2}\n",
    "row_fields[\"SNHMFO2619\"] = {\"GENDER\": 1, \"POSITION\": 1, \"AGE\": 2}\n",
    "row_fields[\"SNHMFC5019\"] = {\"GENDER\": 1, \"POSITION\": 4, \"AGE\": 3}\n",
    "row_fields[\"SNHMFP5019\"] = {\"GENDER\": 1, \"POSITION\": 3, \"AGE\": 3}\n",
    "row_fields[\"SNHMFE5019\"] = {\"GENDER\": 1, \"POSITION\": 2, \"AGE\": 3}\n",
    "row_fields[\"SNHMFO5019\"] = {\"GENDER\": 1, \"POSITION\": 1, \"AGE\": 3}\n",
    "row_fields[\"SNHMHC1819\"] = {\"GENDER\": 2, \"POSITION\": 4, \"AGE\": 1}\n",
    "row_fields[\"SNHMHP1819\"] = {\"GENDER\": 2, \"POSITION\": 3, \"AGE\": 1}\n",
    "row_fields[\"SNHMHE1819\"] = {\"GENDER\": 2, \"POSITION\": 2, \"AGE\": 1}\n",
    "row_fields[\"SNHMHO1819\"] = {\"GENDER\": 2, \"POSITION\": 1, \"AGE\": 1}\n",
    "row_fields[\"SNHMHC2619\"] = {\"GENDER\": 2, \"POSITION\": 4, \"AGE\": 2}\n",
    "row_fields[\"SNHMHP2619\"] = {\"GENDER\": 2, \"POSITION\": 3, \"AGE\": 2}\n",
    "row_fields[\"SNHMHE2619\"] = {\"GENDER\": 2, \"POSITION\": 2, \"AGE\": 2}\n",
    "row_fields[\"SNHMHO2619\"] = {\"GENDER\": 2, \"POSITION\": 1, \"AGE\": 2}\n",
    "row_fields[\"SNHMHC5019\"] = {\"GENDER\": 2, \"POSITION\": 4, \"AGE\": 3}\n",
    "row_fields[\"SNHMHP5019\"] = {\"GENDER\": 2, \"POSITION\": 3, \"AGE\": 3}\n",
    "row_fields[\"SNHMHE5019\"] = {\"GENDER\": 2, \"POSITION\": 2, \"AGE\": 3}\n",
    "row_fields[\"SNHMHO5019\"] = {\"GENDER\": 2, \"POSITION\": 1, \"AGE\": 3}\n",
    "\n",
    "\n",
    "reformatted_salary = []\n",
    "for index, row in salary.iterrows():\n",
    "    for key, value in row_fields.items(): \n",
    "        row_dict = {}\n",
    "        row_dict[\"CODGEO\"] = row[\"CODGEO\"]\n",
    "        row_dict[\"GENDER\"] = value[\"GENDER\"]\n",
    "        row_dict[\"POSITION\"] = value[\"POSITION\"]\n",
    "        row_dict[\"AGE\"] = value[\"AGE\"]\n",
    "        row_dict[\"WAGE\"] = row[key]\n",
    "                   \n",
    "        reformatted_salary.append(row_dict)\n",
    "        \n",
    "reformatted_salary = pd.DataFrame(reformatted_salary)  "
   ]
  },
  {
   "cell_type": "code",
   "execution_count": 8,
   "metadata": {},
   "outputs": [
    {
     "name": "stdout",
     "output_type": "stream",
     "text": [
      "<class 'pandas.core.frame.DataFrame'>\n",
      "RangeIndex: 7848 entries, 0 to 7847\n",
      "Data columns (total 5 columns):\n",
      " #   Column    Non-Null Count  Dtype  \n",
      "---  ------    --------------  -----  \n",
      " 0   CODGEO    7848 non-null   float64\n",
      " 1   GENDER    7848 non-null   int64  \n",
      " 2   POSITION  7848 non-null   int64  \n",
      " 3   AGE       7848 non-null   int64  \n",
      " 4   WAGE      7848 non-null   float64\n",
      "dtypes: float64(2), int64(3)\n",
      "memory usage: 306.7 KB\n"
     ]
    }
   ],
   "source": [
    "reformatted_salary.info()"
   ]
  },
  {
   "cell_type": "markdown",
   "metadata": {},
   "source": [
    "### Exploring dataset through places of residence "
   ]
  },
  {
   "cell_type": "code",
   "execution_count": 11,
   "metadata": {},
   "outputs": [],
   "source": [
    "#Replacing decimal comma\n",
    "geo[\"longitude\"] = geo[\"longitude\"].apply(lambda x: str(x).replace(',','.'))"
   ]
  },
  {
   "cell_type": "code",
   "execution_count": 12,
   "metadata": {},
   "outputs": [],
   "source": [
    "##Remove rows with non numeric values\n",
    "geo = geo[geo[\"longitude\"].apply(lambda x: str(x).isdigit())]"
   ]
  },
  {
   "cell_type": "code",
   "execution_count": 13,
   "metadata": {},
   "outputs": [],
   "source": [
    "#converting into numeric type\n",
    "geo[\"longitude\"] = geo[\"longitude\"].astype(float)"
   ]
  },
  {
   "cell_type": "code",
   "execution_count": 14,
   "metadata": {},
   "outputs": [],
   "source": [
    "# merging town-based dataset and geo file with geographical code for plotting analysis\n",
    "merged_salary= salary_2.merge(geo, how=\"left\", left_on='CODGEO', right_on=\"code_insee\")"
   ]
  },
  {
   "cell_type": "code",
   "execution_count": 15,
   "metadata": {},
   "outputs": [
    {
     "data": {
      "image/png": "[encoded data removed]",
      "text/plain": [
       "<Figure size 1440x1440 with 1 Axes>"
      ]
     },
     "metadata": {},
     "output_type": "display_data"
    }
   ],
   "source": [
    "# Load map of France\n",
    "from mpl_toolkits.basemap import Basemap\n",
    "import matplotlib.colors as colors\n",
    "\n",
    "plt.figure(figsize=(20,20))\n",
    "\n",
    "map = Basemap(projection='lcc', \n",
    "            lat_0=46.2374,\n",
    "            lon_0=2.375,\n",
    "            resolution='i',\n",
    "            llcrnrlon=-4.76, llcrnrlat=41.39,\n",
    "            urcrnrlon=10.51, urcrnrlat=51.08)\n",
    "\n",
    "# Draw parallels.\n",
    "parallels = np.arange(40.,52,2.)\n",
    "map.drawparallels(parallels,labels=[1,0,0,0],fontsize=10)\n",
    "# Draw meridians\n",
    "meridians = np.arange(-6.,10.,2.)\n",
    "map.drawmeridians(meridians,labels=[0,0,0,1],fontsize=10)\n",
    "\n",
    "map.drawcoastlines()\n",
    "map.drawcountries()\n",
    "map.drawmapboundary()\n",
    "map.drawrivers()\n",
    "\n",
    "# scatter high wage towns\n",
    "lat_long_data = merged_salary[['latitude', 'longitude', 'SNHM19']].dropna(subset=['latitude', 'longitude'])\n",
    "lat_long_data = lat_long_data[(lat_long_data['latitude'].astype(str) != '-')]\n",
    "lat_long_data = lat_long_data[(lat_long_data['longitude'].astype(str) != '-')]\n",
    "lat_long_data = lat_long_data.sort_values(by=[\"SNHM19\"], ascending=False).head(100)\n",
    "lat_ = lat_long_data['latitude'].astype(float).values.tolist()\n",
    "long_ = lat_long_data['longitude'].astype(float).values.tolist()\n",
    "#print (lat_[0])\n",
    "#print (long_[0])\n",
    "\n",
    "x1, y1 = map(long_,lat_)\n",
    "map.scatter(x1, y1, c=lat_long_data['SNHM19'], norm=colors.LogNorm(vmin=1, vmax=max(lat_long_data['SNHM19'])), cmap='hsv', zorder=2)\n",
    "\n",
    "\n",
    "x_paris, y_paris = map([2.3522], [48.8566])\n",
    "x_Lille, y_Lille = map([3.0572], [50.6292])\n",
    "x_Lyon, y_Lyon = map([4.8357], [45.7640])\n",
    "x_Marseille, y_Marseille = map([5.3698], [43.2965])\n",
    "# plot single points of large cities\n",
    "map.plot(x_paris, y_paris, marker='o', markersize = 20, c='yellow')\n",
    "map.plot(x_Lyon, y_Lyon, marker='o', markersize = 15, c='yellow')\n",
    "map.plot(x_Marseille, y_Marseille, marker='o', markersize = 15, c='yellow')\n",
    "map.plot(x_Lille, y_Lille, marker='o', markersize = 15, c='yellow')\n",
    "plt.annotate('Paris', (x_paris[0], y_paris[0]), fontsize=30)\n",
    "plt.annotate('Lyon', (x_Lyon[0],y_Lyon[0]), fontsize=30)\n",
    "plt.annotate('Marselle', (x_Marseille[0], y_Marseille[0]), fontsize=30)\n",
    "plt.annotate('Lille', (x_Lille[0], y_Lille[0]), fontsize=30)\n",
    "plt.title('scatter plots of top 100 mean wage towns', fontsize=20, fontweight='bold', y=1.05)\n",
    "plt.show()"
   ]
  },
  {
   "cell_type": "code",
   "execution_count": 218,
   "metadata": {},
   "outputs": [],
   "source": [
    "# high wages towns lie near  big cities such as Lyon, Marseille, Lille and Paris"
   ]
  },
  {
   "cell_type": "markdown",
   "metadata": {},
   "source": [
    "## Checking for correlation of features"
   ]
  },
  {
   "cell_type": "code",
   "execution_count": 16,
   "metadata": {},
   "outputs": [
    {
     "data": {
      "image/png": "[encoded data removed]",
      "text/plain": [
       "<Figure size 1080x1080 with 2 Axes>"
      ]
     },
     "metadata": {
      "needs_background": "light"
     },
     "output_type": "display_data"
    }
   ],
   "source": [
    "#colormap = plt.cm.viridis\n",
    "plt.figure(figsize=(15,15))\n",
    "plt.title('Correlation of Features', y=1.05, size=15)\n",
    "sns.heatmap(reformatted_salary.astype(float).corr(),linewidths=0.1,vmax=1.0, square=True, cmap='YlGnBu', linecolor='white', annot=True)\n",
    "plt.show()"
   ]
  },
  {
   "cell_type": "markdown",
   "metadata": {},
   "source": [
    "We see that the Position level is highly correlated to the dependent variable wage (Pearson R = 0.69).\n",
    "There is also a weak correlation between Gender and Wage (0.33), and a weak correlation between Age and Wage (0.34)"
   ]
  },
  {
   "cell_type": "markdown",
   "metadata": {},
   "source": [
    "A summary description:\n",
    "\n",
    "The 2019 INSEE Salary Dataset was loaded into a Panda Dataframe to prepare the exploration of data.\n",
    "The final model must be able to easily reflect the relation between features, due to the very unfavorable data structure we were forced to create a new DataFrame and fill it based on properly processed data from salary dataset. So it was necessary to create new numeric features : Gender, Position level and Age for prediction of the target (Wage). \n",
    "Thanks to the exploration of data, we can notice that:\n",
    "Wages are highly correlated to the position level (Pearson R correlation is 0.69).\n",
    "Gender plays a role in wage as well - women are paid relatively less than men and the disparity (percentage wise) increases at higher ages (Pearson R is 0.33). Disparity increases also with High level positions (Manager, Executive).\n",
    "Location (CODGEO) can play a role in definition of wages (large cities can be more dynamic about employment).\n"
   ]
  },
  {
   "cell_type": "markdown",
   "metadata": {},
   "source": [
    "# Results"
   ]
  },
  {
   "cell_type": "markdown",
   "metadata": {},
   "source": [
    "Fit your model(s) here, optimize, and finally report the validation statisitcs. Use comments `#` where relevant to clarify the steps."
   ]
  },
  {
   "cell_type": "code",
   "execution_count": null,
   "metadata": {},
   "outputs": [],
   "source": [
    "# Linear Regression analysis seems like an intuitive model to predict mean wages. \n",
    "# Several ML regression models will be trained on the dataset: a linear regression model, a decision tree,\n",
    "# a random forest regressor, and ensemble methods such as Gradient Boosting and Ada Boosting.\n",
    "# The best ML model will be chosen to predict the values of the test set.\n",
    "# The models will be evaluated using key regression metrics: The mean absolute error and the R2_score.\n",
    "# The Model Tuning Approaches to optimize the performance of the tree-based and ensemble models are:\n",
    "# the RandomizedSearchCV, the GridSearchCV, and Bagging"
   ]
  },
  {
   "cell_type": "markdown",
   "metadata": {},
   "source": [
    "## Splitting dataset into training and testset"
   ]
  },
  {
   "cell_type": "code",
   "execution_count": 17,
   "metadata": {},
   "outputs": [],
   "source": [
    "X, y = reformatted_salary.drop(\"WAGE\", axis=\"columns\"), reformatted_salary['WAGE']"
   ]
  },
  {
   "cell_type": "code",
   "execution_count": 18,
   "metadata": {},
   "outputs": [],
   "source": [
    "X_train, X_test, y_train, y_test = train_test_split(X, y, test_size = 0.2, random_state = 0)"
   ]
  },
  {
   "cell_type": "markdown",
   "metadata": {},
   "source": [
    "## 1st MODEL : Linear Regression model / Baseline model"
   ]
  },
  {
   "cell_type": "code",
   "execution_count": null,
   "metadata": {},
   "outputs": [],
   "source": [
    "\n",
    "from sklearn.linear_model import LinearRegression\n",
    "\n",
    "LR = LinearRegression()\n",
    "LR.fit(X_train, y_train)\n",
    "\n",
    "### Predicting the Test set results\n",
    "y_pred = LR.predict(X_test)"
   ]
  },
  {
   "cell_type": "code",
   "execution_count": 20,
   "metadata": {},
   "outputs": [
    {
     "data": {
      "text/plain": [
       "{'MAE': 1.4251974038390716,\n",
       " 'MSE': 3.9877302303950724,\n",
       " 'RMSE': 1.996930201683342,\n",
       " 'R2': 0.68292304189236}"
      ]
     },
     "execution_count": 20,
     "metadata": {},
     "output_type": "execute_result"
    }
   ],
   "source": [
    "from sklearn.metrics import mean_absolute_error, mean_squared_error, r2_score\n",
    "\n",
    "def regress_eval(model, X_test, y_test):\n",
    "    y_pred = model.predict(X_test)\n",
    "    results = {'MAE': mean_absolute_error(y_test, y_pred), \n",
    "     'MSE': mean_squared_error(y_test, y_pred), \n",
    "     'RMSE': mean_squared_error(y_test, y_pred, squared=False),\n",
    "     'R2': r2_score(y_test, y_pred)}\n",
    "    return results\n",
    "\n",
    "regress_eval(LR, X_test, y_test)\n",
    "\n",
    "# With Linear Regression, 68% of the metric features explains the Wage.\n",
    "# Mean Absolute Error is 1.4"
   ]
  },
  {
   "cell_type": "markdown",
   "metadata": {},
   "source": [
    "## 2nd Model: Decision Tree Model"
   ]
  },
  {
   "cell_type": "code",
   "execution_count": 21,
   "metadata": {},
   "outputs": [],
   "source": [
    "\n",
    "from sklearn.tree import DecisionTreeRegressor\n",
    "dtr = DecisionTreeRegressor()\n",
    "\n",
    "from sklearn.model_selection import RandomizedSearchCV\n",
    "from sklearn.model_selection import GridSearchCV\n",
    "\n",
    "from sklearn.inspection import permutation_importance"
   ]
  },
  {
   "cell_type": "code",
   "execution_count": 22,
   "metadata": {},
   "outputs": [],
   "source": [
    "dtr.fit(X_train, y_train)\n",
    "\n",
    "# Predicting the Test set results\n",
    "y_pred = dtr.predict(X_test)"
   ]
  },
  {
   "cell_type": "code",
   "execution_count": 23,
   "metadata": {},
   "outputs": [
    {
     "data": {
      "text/plain": [
       "{'MAE': 0.59658392506977,\n",
       " 'MSE': 0.8475867052538955,\n",
       " 'RMSE': 0.9206447226014471,\n",
       " 'R2': 0.9326057183643146}"
      ]
     },
     "execution_count": 23,
     "metadata": {},
     "output_type": "execute_result"
    }
   ],
   "source": [
    "regress_eval(dtr, X_test, y_test)\n",
    "\n",
    "# With Decision Tree, 93% of the metric features explains the wage. The score is far better than the baseline model.\n",
    "# MAE is 0.59"
   ]
  },
  {
   "cell_type": "code",
   "execution_count": 24,
   "metadata": {},
   "outputs": [
    {
     "data": {
      "text/plain": [
       "{'ccp_alpha': 0.0,\n",
       " 'criterion': 'squared_error',\n",
       " 'max_depth': None,\n",
       " 'max_features': None,\n",
       " 'max_leaf_nodes': None,\n",
       " 'min_impurity_decrease': 0.0,\n",
       " 'min_samples_leaf': 1,\n",
       " 'min_samples_split': 2,\n",
       " 'min_weight_fraction_leaf': 0.0,\n",
       " 'random_state': None,\n",
       " 'splitter': 'best'}"
      ]
     },
     "execution_count": 24,
     "metadata": {},
     "output_type": "execute_result"
    }
   ],
   "source": [
    "dtr.get_params()"
   ]
  },
  {
   "cell_type": "markdown",
   "metadata": {},
   "source": [
    "### Optimization of the Decision Tree"
   ]
  },
  {
   "cell_type": "code",
   "execution_count": 25,
   "metadata": {},
   "outputs": [
    {
     "data": {
      "text/html": [
       "<style>#sk-container-id-1 {color: black;background-color: white;}#sk-container-id-1 pre{padding: 0;}#sk-container-id-1 div.sk-toggleable {background-color: white;}#sk-container-id-1 label.sk-toggleable__label {cursor: pointer;display: block;width: 100%;margin-bottom: 0;padding: 0.3em;box-sizing: border-box;text-align: center;}#sk-container-id-1 label.sk-toggleable__label-arrow:before {content: \"▸\";float: left;margin-right: 0.25em;color: #696969;}#sk-container-id-1 label.sk-toggleable__label-arrow:hover:before {color: black;}#sk-container-id-1 div.sk-estimator:hover label.sk-toggleable__label-arrow:before {color: black;}#sk-container-id-1 div.sk-toggleable__content {max-height: 0;max-width: 0;overflow: hidden;text-align: left;background-color: #f0f8ff;}#sk-container-id-1 div.sk-toggleable__content pre {margin: 0.2em;color: black;border-radius: 0.25em;background-color: #f0f8ff;}#sk-container-id-1 input.sk-toggleable__control:checked~div.sk-toggleable__content {max-height: 200px;max-width: 100%;overflow: auto;}#sk-container-id-1 input.sk-toggleable__control:checked~label.sk-toggleable__label-arrow:before {content: \"▾\";}#sk-container-id-1 div.sk-estimator input.sk-toggleable__control:checked~label.sk-toggleable__label {background-color: #d4ebff;}#sk-container-id-1 div.sk-label input.sk-toggleable__control:checked~label.sk-toggleable__label {background-color: #d4ebff;}#sk-container-id-1 input.sk-hidden--visually {border: 0;clip: rect(1px 1px 1px 1px);clip: rect(1px, 1px, 1px, 1px);height: 1px;margin: -1px;overflow: hidden;padding: 0;position: absolute;width: 1px;}#sk-container-id-1 div.sk-estimator {font-family: monospace;background-color: #f0f8ff;border: 1px dotted black;border-radius: 0.25em;box-sizing: border-box;margin-bottom: 0.5em;}#sk-container-id-1 div.sk-estimator:hover {background-color: #d4ebff;}#sk-container-id-1 div.sk-parallel-item::after {content: \"\";width: 100%;border-bottom: 1px solid gray;flex-grow: 1;}#sk-container-id-1 div.sk-label:hover label.sk-toggleable__label {background-color: #d4ebff;}#sk-container-id-1 div.sk-serial::before {content: \"\";position: absolute;border-left: 1px solid gray;box-sizing: border-box;top: 0;bottom: 0;left: 50%;z-index: 0;}#sk-container-id-1 div.sk-serial {display: flex;flex-direction: column;align-items: center;background-color: white;padding-right: 0.2em;padding-left: 0.2em;position: relative;}#sk-container-id-1 div.sk-item {position: relative;z-index: 1;}#sk-container-id-1 div.sk-parallel {display: flex;align-items: stretch;justify-content: center;background-color: white;position: relative;}#sk-container-id-1 div.sk-item::before, #sk-container-id-1 div.sk-parallel-item::before {content: \"\";position: absolute;border-left: 1px solid gray;box-sizing: border-box;top: 0;bottom: 0;left: 50%;z-index: -1;}#sk-container-id-1 div.sk-parallel-item {display: flex;flex-direction: column;z-index: 1;position: relative;background-color: white;}#sk-container-id-1 div.sk-parallel-item:first-child::after {align-self: flex-end;width: 50%;}#sk-container-id-1 div.sk-parallel-item:last-child::after {align-self: flex-start;width: 50%;}#sk-container-id-1 div.sk-parallel-item:only-child::after {width: 0;}#sk-container-id-1 div.sk-dashed-wrapped {border: 1px dashed gray;margin: 0 0.4em 0.5em 0.4em;box-sizing: border-box;padding-bottom: 0.4em;background-color: white;}#sk-container-id-1 div.sk-label label {font-family: monospace;font-weight: bold;display: inline-block;line-height: 1.2em;}#sk-container-id-1 div.sk-label-container {text-align: center;}#sk-container-id-1 div.sk-container {/* jupyter's `normalize.less` sets `[hidden] { display: none; }` but bootstrap.min.css set `[hidden] { display: none !important; }` so we also need the `!important` here to be able to override the default hidden behavior on the sphinx rendered scikit-learn.org. See: https://github.com/scikit-learn/scikit-learn/issues/21755 */display: inline-block !important;position: relative;}#sk-container-id-1 div.sk-text-repr-fallback {display: none;}</style><div id=\"sk-container-id-1\" class=\"sk-top-container\"><div class=\"sk-text-repr-fallback\"><pre>GridSearchCV(cv=10, estimator=DecisionTreeRegressor(),\n",
       "             param_grid={&#x27;criterion&#x27;: [&#x27;squared_error&#x27;],\n",
       "                         &#x27;max_depth&#x27;: array([2, 3, 4, 5, 6]),\n",
       "                         &#x27;min_samples_leaf&#x27;: [1, 5, 10]})</pre><b>In a Jupyter environment, please rerun this cell to show the HTML representation or trust the notebook. <br />On GitHub, the HTML representation is unable to render, please try loading this page with nbviewer.org.</b></div><div class=\"sk-container\" hidden><div class=\"sk-item sk-dashed-wrapped\"><div class=\"sk-label-container\"><div class=\"sk-label sk-toggleable\"><input class=\"sk-toggleable__control sk-hidden--visually\" id=\"sk-estimator-id-1\" type=\"checkbox\" ><label for=\"sk-estimator-id-1\" class=\"sk-toggleable__label sk-toggleable__label-arrow\">GridSearchCV</label><div class=\"sk-toggleable__content\"><pre>GridSearchCV(cv=10, estimator=DecisionTreeRegressor(),\n",
       "             param_grid={&#x27;criterion&#x27;: [&#x27;squared_error&#x27;],\n",
       "                         &#x27;max_depth&#x27;: array([2, 3, 4, 5, 6]),\n",
       "                         &#x27;min_samples_leaf&#x27;: [1, 5, 10]})</pre></div></div></div><div class=\"sk-parallel\"><div class=\"sk-parallel-item\"><div class=\"sk-item\"><div class=\"sk-label-container\"><div class=\"sk-label sk-toggleable\"><input class=\"sk-toggleable__control sk-hidden--visually\" id=\"sk-estimator-id-2\" type=\"checkbox\" ><label for=\"sk-estimator-id-2\" class=\"sk-toggleable__label sk-toggleable__label-arrow\">estimator: DecisionTreeRegressor</label><div class=\"sk-toggleable__content\"><pre>DecisionTreeRegressor()</pre></div></div></div><div class=\"sk-serial\"><div class=\"sk-item\"><div class=\"sk-estimator sk-toggleable\"><input class=\"sk-toggleable__control sk-hidden--visually\" id=\"sk-estimator-id-3\" type=\"checkbox\" ><label for=\"sk-estimator-id-3\" class=\"sk-toggleable__label sk-toggleable__label-arrow\">DecisionTreeRegressor</label><div class=\"sk-toggleable__content\"><pre>DecisionTreeRegressor()</pre></div></div></div></div></div></div></div></div></div></div>"
      ],
      "text/plain": [
       "GridSearchCV(cv=10, estimator=DecisionTreeRegressor(),\n",
       "             param_grid={'criterion': ['squared_error'],\n",
       "                         'max_depth': array([2, 3, 4, 5, 6]),\n",
       "                         'min_samples_leaf': [1, 5, 10]})"
      ]
     },
     "execution_count": 25,
     "metadata": {},
     "output_type": "execute_result"
    }
   ],
   "source": [
    "dtr_grid_tune = DecisionTreeRegressor()\n",
    "parameters = {'max_depth': np.arange(2,7), \n",
    "              'criterion': ['squared_error'],\n",
    "             # 'min_samples_leaf': [5, 10, 20, 25]\n",
    "              # 'min_samples_leaf': [1, 2, 4]\n",
    "              'min_samples_leaf': [1, 5, 10]\n",
    "             }\n",
    "gridCV = GridSearchCV(dtr_grid_tune, parameters, cv=10)\n",
    "gridCV.fit(X_train, y_train)"
   ]
  },
  {
   "cell_type": "code",
   "execution_count": 26,
   "metadata": {},
   "outputs": [
    {
     "data": {
      "text/plain": [
       "{'MAE': 0.7609467539797623,\n",
       " 'MSE': 1.749474737533901,\n",
       " 'RMSE': 1.3226771100816332,\n",
       " 'R2': 0.8608937676286958}"
      ]
     },
     "execution_count": 26,
     "metadata": {},
     "output_type": "execute_result"
    }
   ],
   "source": [
    "regress_eval(gridCV, X_test, y_test)\n",
    "# With Decision Tree tunes, 86% of the metric features explains the wage. \n",
    "# MAE is 0.76\n",
    "#The score is not optimized"
   ]
  },
  {
   "cell_type": "markdown",
   "metadata": {},
   "source": [
    "### Tuning the Decision Tree with Bagging"
   ]
  },
  {
   "cell_type": "code",
   "execution_count": 27,
   "metadata": {},
   "outputs": [
    {
     "data": {
      "text/html": [
       "<style>#sk-container-id-2 {color: black;background-color: white;}#sk-container-id-2 pre{padding: 0;}#sk-container-id-2 div.sk-toggleable {background-color: white;}#sk-container-id-2 label.sk-toggleable__label {cursor: pointer;display: block;width: 100%;margin-bottom: 0;padding: 0.3em;box-sizing: border-box;text-align: center;}#sk-container-id-2 label.sk-toggleable__label-arrow:before {content: \"▸\";float: left;margin-right: 0.25em;color: #696969;}#sk-container-id-2 label.sk-toggleable__label-arrow:hover:before {color: black;}#sk-container-id-2 div.sk-estimator:hover label.sk-toggleable__label-arrow:before {color: black;}#sk-container-id-2 div.sk-toggleable__content {max-height: 0;max-width: 0;overflow: hidden;text-align: left;background-color: #f0f8ff;}#sk-container-id-2 div.sk-toggleable__content pre {margin: 0.2em;color: black;border-radius: 0.25em;background-color: #f0f8ff;}#sk-container-id-2 input.sk-toggleable__control:checked~div.sk-toggleable__content {max-height: 200px;max-width: 100%;overflow: auto;}#sk-container-id-2 input.sk-toggleable__control:checked~label.sk-toggleable__label-arrow:before {content: \"▾\";}#sk-container-id-2 div.sk-estimator input.sk-toggleable__control:checked~label.sk-toggleable__label {background-color: #d4ebff;}#sk-container-id-2 div.sk-label input.sk-toggleable__control:checked~label.sk-toggleable__label {background-color: #d4ebff;}#sk-container-id-2 input.sk-hidden--visually {border: 0;clip: rect(1px 1px 1px 1px);clip: rect(1px, 1px, 1px, 1px);height: 1px;margin: -1px;overflow: hidden;padding: 0;position: absolute;width: 1px;}#sk-container-id-2 div.sk-estimator {font-family: monospace;background-color: #f0f8ff;border: 1px dotted black;border-radius: 0.25em;box-sizing: border-box;margin-bottom: 0.5em;}#sk-container-id-2 div.sk-estimator:hover {background-color: #d4ebff;}#sk-container-id-2 div.sk-parallel-item::after {content: \"\";width: 100%;border-bottom: 1px solid gray;flex-grow: 1;}#sk-container-id-2 div.sk-label:hover label.sk-toggleable__label {background-color: #d4ebff;}#sk-container-id-2 div.sk-serial::before {content: \"\";position: absolute;border-left: 1px solid gray;box-sizing: border-box;top: 0;bottom: 0;left: 50%;z-index: 0;}#sk-container-id-2 div.sk-serial {display: flex;flex-direction: column;align-items: center;background-color: white;padding-right: 0.2em;padding-left: 0.2em;position: relative;}#sk-container-id-2 div.sk-item {position: relative;z-index: 1;}#sk-container-id-2 div.sk-parallel {display: flex;align-items: stretch;justify-content: center;background-color: white;position: relative;}#sk-container-id-2 div.sk-item::before, #sk-container-id-2 div.sk-parallel-item::before {content: \"\";position: absolute;border-left: 1px solid gray;box-sizing: border-box;top: 0;bottom: 0;left: 50%;z-index: -1;}#sk-container-id-2 div.sk-parallel-item {display: flex;flex-direction: column;z-index: 1;position: relative;background-color: white;}#sk-container-id-2 div.sk-parallel-item:first-child::after {align-self: flex-end;width: 50%;}#sk-container-id-2 div.sk-parallel-item:last-child::after {align-self: flex-start;width: 50%;}#sk-container-id-2 div.sk-parallel-item:only-child::after {width: 0;}#sk-container-id-2 div.sk-dashed-wrapped {border: 1px dashed gray;margin: 0 0.4em 0.5em 0.4em;box-sizing: border-box;padding-bottom: 0.4em;background-color: white;}#sk-container-id-2 div.sk-label label {font-family: monospace;font-weight: bold;display: inline-block;line-height: 1.2em;}#sk-container-id-2 div.sk-label-container {text-align: center;}#sk-container-id-2 div.sk-container {/* jupyter's `normalize.less` sets `[hidden] { display: none; }` but bootstrap.min.css set `[hidden] { display: none !important; }` so we also need the `!important` here to be able to override the default hidden behavior on the sphinx rendered scikit-learn.org. See: https://github.com/scikit-learn/scikit-learn/issues/21755 */display: inline-block !important;position: relative;}#sk-container-id-2 div.sk-text-repr-fallback {display: none;}</style><div id=\"sk-container-id-2\" class=\"sk-top-container\"><div class=\"sk-text-repr-fallback\"><pre>GridSearchCV(cv=10,\n",
       "             estimator=BaggingRegressor(base_estimator=DecisionTreeRegressor()),\n",
       "             param_grid={&#x27;base_estimator__criterion&#x27;: [&#x27;squared_error&#x27;],\n",
       "                         &#x27;base_estimator__max_depth&#x27;: array([2, 3, 4, 5, 6]),\n",
       "                         &#x27;base_estimator__min_samples_leaf&#x27;: [1, 2, 4]})</pre><b>In a Jupyter environment, please rerun this cell to show the HTML representation or trust the notebook. <br />On GitHub, the HTML representation is unable to render, please try loading this page with nbviewer.org.</b></div><div class=\"sk-container\" hidden><div class=\"sk-item sk-dashed-wrapped\"><div class=\"sk-label-container\"><div class=\"sk-label sk-toggleable\"><input class=\"sk-toggleable__control sk-hidden--visually\" id=\"sk-estimator-id-4\" type=\"checkbox\" ><label for=\"sk-estimator-id-4\" class=\"sk-toggleable__label sk-toggleable__label-arrow\">GridSearchCV</label><div class=\"sk-toggleable__content\"><pre>GridSearchCV(cv=10,\n",
       "             estimator=BaggingRegressor(base_estimator=DecisionTreeRegressor()),\n",
       "             param_grid={&#x27;base_estimator__criterion&#x27;: [&#x27;squared_error&#x27;],\n",
       "                         &#x27;base_estimator__max_depth&#x27;: array([2, 3, 4, 5, 6]),\n",
       "                         &#x27;base_estimator__min_samples_leaf&#x27;: [1, 2, 4]})</pre></div></div></div><div class=\"sk-parallel\"><div class=\"sk-parallel-item\"><div class=\"sk-item\"><div class=\"sk-label-container\"><div class=\"sk-label sk-toggleable\"><input class=\"sk-toggleable__control sk-hidden--visually\" id=\"sk-estimator-id-5\" type=\"checkbox\" ><label for=\"sk-estimator-id-5\" class=\"sk-toggleable__label sk-toggleable__label-arrow\">estimator: BaggingRegressor</label><div class=\"sk-toggleable__content\"><pre>BaggingRegressor(base_estimator=DecisionTreeRegressor())</pre></div></div></div><div class=\"sk-serial\"><div class=\"sk-item sk-dashed-wrapped\"><div class=\"sk-parallel\"><div class=\"sk-parallel-item\"><div class=\"sk-item\"><div class=\"sk-label-container\"><div class=\"sk-label sk-toggleable\"><input class=\"sk-toggleable__control sk-hidden--visually\" id=\"sk-estimator-id-6\" type=\"checkbox\" ><label for=\"sk-estimator-id-6\" class=\"sk-toggleable__label sk-toggleable__label-arrow\">base_estimator: DecisionTreeRegressor</label><div class=\"sk-toggleable__content\"><pre>DecisionTreeRegressor()</pre></div></div></div><div class=\"sk-serial\"><div class=\"sk-item\"><div class=\"sk-estimator sk-toggleable\"><input class=\"sk-toggleable__control sk-hidden--visually\" id=\"sk-estimator-id-7\" type=\"checkbox\" ><label for=\"sk-estimator-id-7\" class=\"sk-toggleable__label sk-toggleable__label-arrow\">DecisionTreeRegressor</label><div class=\"sk-toggleable__content\"><pre>DecisionTreeRegressor()</pre></div></div></div></div></div></div></div></div></div></div></div></div></div></div></div>"
      ],
      "text/plain": [
       "GridSearchCV(cv=10,\n",
       "             estimator=BaggingRegressor(base_estimator=DecisionTreeRegressor()),\n",
       "             param_grid={'base_estimator__criterion': ['squared_error'],\n",
       "                         'base_estimator__max_depth': array([2, 3, 4, 5, 6]),\n",
       "                         'base_estimator__min_samples_leaf': [1, 2, 4]})"
      ]
     },
     "execution_count": 27,
     "metadata": {},
     "output_type": "execute_result"
    }
   ],
   "source": [
    "from sklearn.ensemble import BaggingRegressor\n",
    "bagged_dtr_grid_tune = BaggingRegressor(DecisionTreeRegressor())\n",
    "\n",
    "parameters = {'base_estimator__max_depth': np.arange(2,7), \n",
    "              'base_estimator__criterion': ['squared_error'],\n",
    "            #  'base_estimator__min_samples_leaf': [5, 10, 20, 25]\n",
    "              'base_estimator__min_samples_leaf': [1, 2, 4]\n",
    "            #  'base_estimator__min_samples_split': [2, 5, 10]\n",
    "             }\n",
    "\n",
    "bagged_gridCV = GridSearchCV(bagged_dtr_grid_tune, parameters, cv=10)\n",
    "bagged_gridCV.fit(X_train, y_train)"
   ]
  },
  {
   "cell_type": "code",
   "execution_count": 28,
   "metadata": {},
   "outputs": [
    {
     "data": {
      "text/plain": [
       "{'MAE': 0.7354143468435873,\n",
       " 'MSE': 1.5881126249686301,\n",
       " 'RMSE': 1.2602034061883145,\n",
       " 'R2': 0.8737241761192295}"
      ]
     },
     "execution_count": 28,
     "metadata": {},
     "output_type": "execute_result"
    }
   ],
   "source": [
    "regress_eval(bagged_gridCV, X_test, y_test)"
   ]
  },
  {
   "cell_type": "code",
   "execution_count": null,
   "metadata": {},
   "outputs": [],
   "source": [
    "### The bagging of the tree has not optimized the score model, 87% of the metric features explains the wage.\n",
    "# MAE is 0.73"
   ]
  },
  {
   "cell_type": "code",
   "execution_count": 29,
   "metadata": {},
   "outputs": [
    {
     "data": {
      "text/html": [
       "<div>\n",
       "<style scoped>\n",
       "    .dataframe tbody tr th:only-of-type {\n",
       "        vertical-align: middle;\n",
       "    }\n",
       "\n",
       "    .dataframe tbody tr th {\n",
       "        vertical-align: top;\n",
       "    }\n",
       "\n",
       "    .dataframe thead th {\n",
       "        text-align: right;\n",
       "    }\n",
       "</style>\n",
       "<table border=\"1\" class=\"dataframe\">\n",
       "  <thead>\n",
       "    <tr style=\"text-align: right;\">\n",
       "      <th></th>\n",
       "      <th>R2</th>\n",
       "    </tr>\n",
       "  </thead>\n",
       "  <tbody>\n",
       "    <tr>\n",
       "      <th>grid search</th>\n",
       "      <td>0.860894</td>\n",
       "    </tr>\n",
       "    <tr>\n",
       "      <th>bagged grid CV</th>\n",
       "      <td>0.873724</td>\n",
       "    </tr>\n",
       "    <tr>\n",
       "      <th>default parameters</th>\n",
       "      <td>0.932606</td>\n",
       "    </tr>\n",
       "  </tbody>\n",
       "</table>\n",
       "</div>"
      ],
      "text/plain": [
       "                          R2\n",
       "grid search         0.860894\n",
       "bagged grid CV      0.873724\n",
       "default parameters  0.932606"
      ]
     },
     "execution_count": 29,
     "metadata": {},
     "output_type": "execute_result"
    }
   ],
   "source": [
    "pd.DataFrame([gridCV.score(X_test, y_test), bagged_gridCV.score(X_test, y_test), dtr.score(X_test, y_test)], \n",
    "             index = ['grid search', \"bagged grid CV\", \"default parameters\"], \n",
    "             columns = ['R2'])"
   ]
  },
  {
   "cell_type": "code",
   "execution_count": null,
   "metadata": {},
   "outputs": [],
   "source": [
    "# Despite multiple changes of the hyperparameters, the optimization of the trees is not a success."
   ]
  },
  {
   "cell_type": "markdown",
   "metadata": {},
   "source": [
    "## Using Decision Tree to Evaluate Feature Importance / Model understanding / Features contribution"
   ]
  },
  {
   "cell_type": "code",
   "execution_count": 30,
   "metadata": {},
   "outputs": [
    {
     "data": {
      "image/png": "[encoded data removed]",
      "text/plain": [
       "<Figure size 288x288 with 1 Axes>"
      ]
     },
     "metadata": {
      "needs_background": "light"
     },
     "output_type": "display_data"
    }
   ],
   "source": [
    "importances = dtr.feature_importances_\n",
    "columns = X.columns\n",
    "\n",
    "dtr_importances = pd.DataFrame(importances, index=columns,columns=['Importance']).sort_values(by='Importance',ascending=True)\n",
    "\n",
    "plt.figure(figsize=(4,4))\n",
    "plt.barh(dtr_importances.index, dtr_importances.Importance, color = 'orange')\n",
    "plt.show()"
   ]
  },
  {
   "cell_type": "code",
   "execution_count": 31,
   "metadata": {},
   "outputs": [],
   "source": [
    "feats = dtr.feature_names_in_"
   ]
  },
  {
   "cell_type": "code",
   "execution_count": null,
   "metadata": {},
   "outputs": [],
   "source": [
    "# We see that Position is the most important feature to evaluate the wage with the tree-based Predictor,\n",
    "# With the Tree Predictor, we notice that CODGEO is a more important feature than age and gender\n",
    "# We notice that Age and Gender play a small role in definition of wage with this method.\n",
    "# Nethertheless, it underlines the Gender wage gap in France.\n"
   ]
  },
  {
   "cell_type": "markdown",
   "metadata": {},
   "source": [
    "### Using feature importance to train the decision tree model"
   ]
  },
  {
   "cell_type": "code",
   "execution_count": 32,
   "metadata": {},
   "outputs": [
    {
     "data": {
      "text/html": [
       "<style>#sk-container-id-3 {color: black;background-color: white;}#sk-container-id-3 pre{padding: 0;}#sk-container-id-3 div.sk-toggleable {background-color: white;}#sk-container-id-3 label.sk-toggleable__label {cursor: pointer;display: block;width: 100%;margin-bottom: 0;padding: 0.3em;box-sizing: border-box;text-align: center;}#sk-container-id-3 label.sk-toggleable__label-arrow:before {content: \"▸\";float: left;margin-right: 0.25em;color: #696969;}#sk-container-id-3 label.sk-toggleable__label-arrow:hover:before {color: black;}#sk-container-id-3 div.sk-estimator:hover label.sk-toggleable__label-arrow:before {color: black;}#sk-container-id-3 div.sk-toggleable__content {max-height: 0;max-width: 0;overflow: hidden;text-align: left;background-color: #f0f8ff;}#sk-container-id-3 div.sk-toggleable__content pre {margin: 0.2em;color: black;border-radius: 0.25em;background-color: #f0f8ff;}#sk-container-id-3 input.sk-toggleable__control:checked~div.sk-toggleable__content {max-height: 200px;max-width: 100%;overflow: auto;}#sk-container-id-3 input.sk-toggleable__control:checked~label.sk-toggleable__label-arrow:before {content: \"▾\";}#sk-container-id-3 div.sk-estimator input.sk-toggleable__control:checked~label.sk-toggleable__label {background-color: #d4ebff;}#sk-container-id-3 div.sk-label input.sk-toggleable__control:checked~label.sk-toggleable__label {background-color: #d4ebff;}#sk-container-id-3 input.sk-hidden--visually {border: 0;clip: rect(1px 1px 1px 1px);clip: rect(1px, 1px, 1px, 1px);height: 1px;margin: -1px;overflow: hidden;padding: 0;position: absolute;width: 1px;}#sk-container-id-3 div.sk-estimator {font-family: monospace;background-color: #f0f8ff;border: 1px dotted black;border-radius: 0.25em;box-sizing: border-box;margin-bottom: 0.5em;}#sk-container-id-3 div.sk-estimator:hover {background-color: #d4ebff;}#sk-container-id-3 div.sk-parallel-item::after {content: \"\";width: 100%;border-bottom: 1px solid gray;flex-grow: 1;}#sk-container-id-3 div.sk-label:hover label.sk-toggleable__label {background-color: #d4ebff;}#sk-container-id-3 div.sk-serial::before {content: \"\";position: absolute;border-left: 1px solid gray;box-sizing: border-box;top: 0;bottom: 0;left: 50%;z-index: 0;}#sk-container-id-3 div.sk-serial {display: flex;flex-direction: column;align-items: center;background-color: white;padding-right: 0.2em;padding-left: 0.2em;position: relative;}#sk-container-id-3 div.sk-item {position: relative;z-index: 1;}#sk-container-id-3 div.sk-parallel {display: flex;align-items: stretch;justify-content: center;background-color: white;position: relative;}#sk-container-id-3 div.sk-item::before, #sk-container-id-3 div.sk-parallel-item::before {content: \"\";position: absolute;border-left: 1px solid gray;box-sizing: border-box;top: 0;bottom: 0;left: 50%;z-index: -1;}#sk-container-id-3 div.sk-parallel-item {display: flex;flex-direction: column;z-index: 1;position: relative;background-color: white;}#sk-container-id-3 div.sk-parallel-item:first-child::after {align-self: flex-end;width: 50%;}#sk-container-id-3 div.sk-parallel-item:last-child::after {align-self: flex-start;width: 50%;}#sk-container-id-3 div.sk-parallel-item:only-child::after {width: 0;}#sk-container-id-3 div.sk-dashed-wrapped {border: 1px dashed gray;margin: 0 0.4em 0.5em 0.4em;box-sizing: border-box;padding-bottom: 0.4em;background-color: white;}#sk-container-id-3 div.sk-label label {font-family: monospace;font-weight: bold;display: inline-block;line-height: 1.2em;}#sk-container-id-3 div.sk-label-container {text-align: center;}#sk-container-id-3 div.sk-container {/* jupyter's `normalize.less` sets `[hidden] { display: none; }` but bootstrap.min.css set `[hidden] { display: none !important; }` so we also need the `!important` here to be able to override the default hidden behavior on the sphinx rendered scikit-learn.org. See: https://github.com/scikit-learn/scikit-learn/issues/21755 */display: inline-block !important;position: relative;}#sk-container-id-3 div.sk-text-repr-fallback {display: none;}</style><div id=\"sk-container-id-3\" class=\"sk-top-container\"><div class=\"sk-text-repr-fallback\"><pre>DecisionTreeRegressor()</pre><b>In a Jupyter environment, please rerun this cell to show the HTML representation or trust the notebook. <br />On GitHub, the HTML representation is unable to render, please try loading this page with nbviewer.org.</b></div><div class=\"sk-container\" hidden><div class=\"sk-item\"><div class=\"sk-estimator sk-toggleable\"><input class=\"sk-toggleable__control sk-hidden--visually\" id=\"sk-estimator-id-8\" type=\"checkbox\" checked><label for=\"sk-estimator-id-8\" class=\"sk-toggleable__label sk-toggleable__label-arrow\">DecisionTreeRegressor</label><div class=\"sk-toggleable__content\"><pre>DecisionTreeRegressor()</pre></div></div></div></div></div>"
      ],
      "text/plain": [
       "DecisionTreeRegressor()"
      ]
     },
     "execution_count": 32,
     "metadata": {},
     "output_type": "execute_result"
    }
   ],
   "source": [
    "dtr.fit(X_train[feats], y_train)"
   ]
  },
  {
   "cell_type": "code",
   "execution_count": 33,
   "metadata": {},
   "outputs": [
    {
     "data": {
      "text/plain": [
       "{'MAE': 0.5943338511057893,\n",
       " 'MSE': 0.8378383745810674,\n",
       " 'RMSE': 0.9153351159990899,\n",
       " 'R2': 0.9333808387605761}"
      ]
     },
     "execution_count": 33,
     "metadata": {},
     "output_type": "execute_result"
    }
   ],
   "source": [
    "# Predicting the Test set results\n",
    "y_pred = dtr.predict(X_test[feats])\n",
    "\n",
    "regress_eval(dtr, X_test[feats], y_test)"
   ]
  },
  {
   "cell_type": "code",
   "execution_count": null,
   "metadata": {},
   "outputs": [],
   "source": [
    "# With Feature importance, 93.33% of the metric features explains the wage. "
   ]
  },
  {
   "cell_type": "markdown",
   "metadata": {},
   "source": [
    "## 3rd model: RANDOM FOREST"
   ]
  },
  {
   "cell_type": "code",
   "execution_count": null,
   "metadata": {},
   "outputs": [],
   "source": [
    "# 3rd model: RANDOM FOREST"
   ]
  },
  {
   "cell_type": "code",
   "execution_count": 69,
   "metadata": {},
   "outputs": [],
   "source": [
    "# Random Forest\n",
    "\n",
    "from sklearn.ensemble import RandomForestRegressor\n",
    "\n",
    "rfr = RandomForestRegressor(n_estimators = 10, random_state = 0)\n",
    "rfr.fit(X_train, y_train)\n",
    "\n",
    "# Predicting the Test set results\n",
    "y_pred = rfr.predict(X_test)"
   ]
  },
  {
   "cell_type": "code",
   "execution_count": 70,
   "metadata": {},
   "outputs": [
    {
     "data": {
      "text/plain": [
       "{'MAE': 0.5514584128007854,\n",
       " 'MSE': 0.7296542756514827,\n",
       " 'RMSE': 0.8541980306998388,\n",
       " 'R2': 0.9419828963277477}"
      ]
     },
     "execution_count": 70,
     "metadata": {},
     "output_type": "execute_result"
    }
   ],
   "source": [
    "regress_eval(rfr, X_test, y_test)"
   ]
  },
  {
   "cell_type": "code",
   "execution_count": null,
   "metadata": {},
   "outputs": [],
   "source": [
    "# With Random forest model, 94% of the metric features explains the wage.\n",
    "# MAE is 0.55"
   ]
  },
  {
   "cell_type": "markdown",
   "metadata": {},
   "source": [
    "### Optimization of Random Forest"
   ]
  },
  {
   "cell_type": "code",
   "execution_count": 148,
   "metadata": {},
   "outputs": [
    {
     "data": {
      "text/plain": [
       "{'bootstrap': True,\n",
       " 'ccp_alpha': 0.0,\n",
       " 'criterion': 'squared_error',\n",
       " 'max_depth': None,\n",
       " 'max_features': 1.0,\n",
       " 'max_leaf_nodes': None,\n",
       " 'max_samples': None,\n",
       " 'min_impurity_decrease': 0.0,\n",
       " 'min_samples_leaf': 1,\n",
       " 'min_samples_split': 2,\n",
       " 'min_weight_fraction_leaf': 0.0,\n",
       " 'n_estimators': 10,\n",
       " 'n_jobs': None,\n",
       " 'oob_score': False,\n",
       " 'random_state': 0,\n",
       " 'verbose': 0,\n",
       " 'warm_start': False}"
      ]
     },
     "execution_count": 148,
     "metadata": {},
     "output_type": "execute_result"
    }
   ],
   "source": [
    "# Random Forest parameter overview \n",
    "rfr.get_params()"
   ]
  },
  {
   "cell_type": "code",
   "execution_count": 71,
   "metadata": {},
   "outputs": [
    {
     "data": {
      "text/plain": [
       "0.9419828963277477"
      ]
     },
     "execution_count": 71,
     "metadata": {},
     "output_type": "execute_result"
    }
   ],
   "source": [
    "# Random forest score before Tuning\n",
    "rfr.fit(X_train, y_train)\n",
    "no_tuning_R2 = rfr.score(X_test, y_test)\n",
    "no_tuning_R2"
   ]
  },
  {
   "cell_type": "code",
   "execution_count": 72,
   "metadata": {},
   "outputs": [],
   "source": [
    "#Range of parameters to evaluate\n",
    "\n",
    "n_estimators = [int(x) for x in np.linspace(start = 200, stop = 1000, num = 100)]\n",
    "max_features = ['auto', 'sqrt']\n",
    "max_depth = [int(x) for x in np.linspace(10, 110, num = 11)]\n",
    "max_depth.append(None)\n",
    "min_samples_split = [2, 5, 10]\n",
    "min_samples_leaf = [1, 2, 4]\n",
    "bootstrap = [True, False]"
   ]
  },
  {
   "cell_type": "markdown",
   "metadata": {},
   "source": [
    "#### Using Random Search to Identify Optimal Parameters"
   ]
  },
  {
   "cell_type": "code",
   "execution_count": 73,
   "metadata": {},
   "outputs": [],
   "source": [
    "#Using Random Search to Identify Optimal Parameters\n",
    "random_search = {'n_estimators': n_estimators,\n",
    "               'max_features': max_features,\n",
    "               'max_depth': max_depth,\n",
    "               'min_samples_split': min_samples_split,\n",
    "               'min_samples_leaf': min_samples_leaf,\n",
    "               'bootstrap': bootstrap}"
   ]
  },
  {
   "cell_type": "code",
   "execution_count": 74,
   "metadata": {},
   "outputs": [],
   "source": [
    "rfr_random_search = RandomizedSearchCV(estimator = rfr, \n",
    "                               param_distributions = random_search,\n",
    "                               n_iter = 20, \n",
    "                               cv = 3, \n",
    "                               verbose=0, \n",
    "                               random_state=42, n_jobs = -1)"
   ]
  },
  {
   "cell_type": "code",
   "execution_count": 75,
   "metadata": {},
   "outputs": [
    {
     "data": {
      "text/html": [
       "<style>#sk-container-id-6 {color: black;background-color: white;}#sk-container-id-6 pre{padding: 0;}#sk-container-id-6 div.sk-toggleable {background-color: white;}#sk-container-id-6 label.sk-toggleable__label {cursor: pointer;display: block;width: 100%;margin-bottom: 0;padding: 0.3em;box-sizing: border-box;text-align: center;}#sk-container-id-6 label.sk-toggleable__label-arrow:before {content: \"▸\";float: left;margin-right: 0.25em;color: #696969;}#sk-container-id-6 label.sk-toggleable__label-arrow:hover:before {color: black;}#sk-container-id-6 div.sk-estimator:hover label.sk-toggleable__label-arrow:before {color: black;}#sk-container-id-6 div.sk-toggleable__content {max-height: 0;max-width: 0;overflow: hidden;text-align: left;background-color: #f0f8ff;}#sk-container-id-6 div.sk-toggleable__content pre {margin: 0.2em;color: black;border-radius: 0.25em;background-color: #f0f8ff;}#sk-container-id-6 input.sk-toggleable__control:checked~div.sk-toggleable__content {max-height: 200px;max-width: 100%;overflow: auto;}#sk-container-id-6 input.sk-toggleable__control:checked~label.sk-toggleable__label-arrow:before {content: \"▾\";}#sk-container-id-6 div.sk-estimator input.sk-toggleable__control:checked~label.sk-toggleable__label {background-color: #d4ebff;}#sk-container-id-6 div.sk-label input.sk-toggleable__control:checked~label.sk-toggleable__label {background-color: #d4ebff;}#sk-container-id-6 input.sk-hidden--visually {border: 0;clip: rect(1px 1px 1px 1px);clip: rect(1px, 1px, 1px, 1px);height: 1px;margin: -1px;overflow: hidden;padding: 0;position: absolute;width: 1px;}#sk-container-id-6 div.sk-estimator {font-family: monospace;background-color: #f0f8ff;border: 1px dotted black;border-radius: 0.25em;box-sizing: border-box;margin-bottom: 0.5em;}#sk-container-id-6 div.sk-estimator:hover {background-color: #d4ebff;}#sk-container-id-6 div.sk-parallel-item::after {content: \"\";width: 100%;border-bottom: 1px solid gray;flex-grow: 1;}#sk-container-id-6 div.sk-label:hover label.sk-toggleable__label {background-color: #d4ebff;}#sk-container-id-6 div.sk-serial::before {content: \"\";position: absolute;border-left: 1px solid gray;box-sizing: border-box;top: 0;bottom: 0;left: 50%;z-index: 0;}#sk-container-id-6 div.sk-serial {display: flex;flex-direction: column;align-items: center;background-color: white;padding-right: 0.2em;padding-left: 0.2em;position: relative;}#sk-container-id-6 div.sk-item {position: relative;z-index: 1;}#sk-container-id-6 div.sk-parallel {display: flex;align-items: stretch;justify-content: center;background-color: white;position: relative;}#sk-container-id-6 div.sk-item::before, #sk-container-id-6 div.sk-parallel-item::before {content: \"\";position: absolute;border-left: 1px solid gray;box-sizing: border-box;top: 0;bottom: 0;left: 50%;z-index: -1;}#sk-container-id-6 div.sk-parallel-item {display: flex;flex-direction: column;z-index: 1;position: relative;background-color: white;}#sk-container-id-6 div.sk-parallel-item:first-child::after {align-self: flex-end;width: 50%;}#sk-container-id-6 div.sk-parallel-item:last-child::after {align-self: flex-start;width: 50%;}#sk-container-id-6 div.sk-parallel-item:only-child::after {width: 0;}#sk-container-id-6 div.sk-dashed-wrapped {border: 1px dashed gray;margin: 0 0.4em 0.5em 0.4em;box-sizing: border-box;padding-bottom: 0.4em;background-color: white;}#sk-container-id-6 div.sk-label label {font-family: monospace;font-weight: bold;display: inline-block;line-height: 1.2em;}#sk-container-id-6 div.sk-label-container {text-align: center;}#sk-container-id-6 div.sk-container {/* jupyter's `normalize.less` sets `[hidden] { display: none; }` but bootstrap.min.css set `[hidden] { display: none !important; }` so we also need the `!important` here to be able to override the default hidden behavior on the sphinx rendered scikit-learn.org. See: https://github.com/scikit-learn/scikit-learn/issues/21755 */display: inline-block !important;position: relative;}#sk-container-id-6 div.sk-text-repr-fallback {display: none;}</style><div id=\"sk-container-id-6\" class=\"sk-top-container\"><div class=\"sk-text-repr-fallback\"><pre>RandomizedSearchCV(cv=3,\n",
       "                   estimator=RandomForestRegressor(n_estimators=10,\n",
       "                                                   random_state=0),\n",
       "                   n_iter=20, n_jobs=-1,\n",
       "                   param_distributions={&#x27;bootstrap&#x27;: [True, False],\n",
       "                                        &#x27;max_depth&#x27;: [10, 20, 30, 40, 50, 60,\n",
       "                                                      70, 80, 90, 100, 110,\n",
       "                                                      None],\n",
       "                                        &#x27;max_features&#x27;: [&#x27;auto&#x27;, &#x27;sqrt&#x27;],\n",
       "                                        &#x27;min_samples_leaf&#x27;: [1, 2, 4],\n",
       "                                        &#x27;min_samples_split&#x27;: [2, 5, 10],\n",
       "                                        &#x27;n_estimators&#x27;: [200, 208, 216, 224,\n",
       "                                                         232, 240, 248, 256,\n",
       "                                                         264, 272, 280, 288,\n",
       "                                                         296, 305, 313, 321,\n",
       "                                                         329, 337, 345, 353,\n",
       "                                                         361, 369, 377, 385,\n",
       "                                                         393, 402, 410, 418,\n",
       "                                                         426, 434, ...]},\n",
       "                   random_state=42)</pre><b>In a Jupyter environment, please rerun this cell to show the HTML representation or trust the notebook. <br />On GitHub, the HTML representation is unable to render, please try loading this page with nbviewer.org.</b></div><div class=\"sk-container\" hidden><div class=\"sk-item sk-dashed-wrapped\"><div class=\"sk-label-container\"><div class=\"sk-label sk-toggleable\"><input class=\"sk-toggleable__control sk-hidden--visually\" id=\"sk-estimator-id-15\" type=\"checkbox\" ><label for=\"sk-estimator-id-15\" class=\"sk-toggleable__label sk-toggleable__label-arrow\">RandomizedSearchCV</label><div class=\"sk-toggleable__content\"><pre>RandomizedSearchCV(cv=3,\n",
       "                   estimator=RandomForestRegressor(n_estimators=10,\n",
       "                                                   random_state=0),\n",
       "                   n_iter=20, n_jobs=-1,\n",
       "                   param_distributions={&#x27;bootstrap&#x27;: [True, False],\n",
       "                                        &#x27;max_depth&#x27;: [10, 20, 30, 40, 50, 60,\n",
       "                                                      70, 80, 90, 100, 110,\n",
       "                                                      None],\n",
       "                                        &#x27;max_features&#x27;: [&#x27;auto&#x27;, &#x27;sqrt&#x27;],\n",
       "                                        &#x27;min_samples_leaf&#x27;: [1, 2, 4],\n",
       "                                        &#x27;min_samples_split&#x27;: [2, 5, 10],\n",
       "                                        &#x27;n_estimators&#x27;: [200, 208, 216, 224,\n",
       "                                                         232, 240, 248, 256,\n",
       "                                                         264, 272, 280, 288,\n",
       "                                                         296, 305, 313, 321,\n",
       "                                                         329, 337, 345, 353,\n",
       "                                                         361, 369, 377, 385,\n",
       "                                                         393, 402, 410, 418,\n",
       "                                                         426, 434, ...]},\n",
       "                   random_state=42)</pre></div></div></div><div class=\"sk-parallel\"><div class=\"sk-parallel-item\"><div class=\"sk-item\"><div class=\"sk-label-container\"><div class=\"sk-label sk-toggleable\"><input class=\"sk-toggleable__control sk-hidden--visually\" id=\"sk-estimator-id-16\" type=\"checkbox\" ><label for=\"sk-estimator-id-16\" class=\"sk-toggleable__label sk-toggleable__label-arrow\">estimator: RandomForestRegressor</label><div class=\"sk-toggleable__content\"><pre>RandomForestRegressor(n_estimators=10, random_state=0)</pre></div></div></div><div class=\"sk-serial\"><div class=\"sk-item\"><div class=\"sk-estimator sk-toggleable\"><input class=\"sk-toggleable__control sk-hidden--visually\" id=\"sk-estimator-id-17\" type=\"checkbox\" ><label for=\"sk-estimator-id-17\" class=\"sk-toggleable__label sk-toggleable__label-arrow\">RandomForestRegressor</label><div class=\"sk-toggleable__content\"><pre>RandomForestRegressor(n_estimators=10, random_state=0)</pre></div></div></div></div></div></div></div></div></div></div>"
      ],
      "text/plain": [
       "RandomizedSearchCV(cv=3,\n",
       "                   estimator=RandomForestRegressor(n_estimators=10,\n",
       "                                                   random_state=0),\n",
       "                   n_iter=20, n_jobs=-1,\n",
       "                   param_distributions={'bootstrap': [True, False],\n",
       "                                        'max_depth': [10, 20, 30, 40, 50, 60,\n",
       "                                                      70, 80, 90, 100, 110,\n",
       "                                                      None],\n",
       "                                        'max_features': ['auto', 'sqrt'],\n",
       "                                        'min_samples_leaf': [1, 2, 4],\n",
       "                                        'min_samples_split': [2, 5, 10],\n",
       "                                        'n_estimators': [200, 208, 216, 224,\n",
       "                                                         232, 240, 248, 256,\n",
       "                                                         264, 272, 280, 288,\n",
       "                                                         296, 305, 313, 321,\n",
       "                                                         329, 337, 345, 353,\n",
       "                                                         361, 369, 377, 385,\n",
       "                                                         393, 402, 410, 418,\n",
       "                                                         426, 434, ...]},\n",
       "                   random_state=42)"
      ]
     },
     "execution_count": 75,
     "metadata": {},
     "output_type": "execute_result"
    }
   ],
   "source": [
    "rfr_random_search.fit(X_train, y_train)"
   ]
  },
  {
   "cell_type": "code",
   "execution_count": 76,
   "metadata": {},
   "outputs": [
    {
     "data": {
      "text/plain": [
       "0.9347380410842782"
      ]
     },
     "execution_count": 76,
     "metadata": {},
     "output_type": "execute_result"
    }
   ],
   "source": [
    "best_random = rfr_random_search.best_estimator_\n",
    "random_search_R2 = best_random.score(X_test, y_test)\n",
    "random_search_R2\n",
    "#With the optimization of the forest, R2 is 93.47%, MAE is 0.55, it is not optimized"
   ]
  },
  {
   "cell_type": "code",
   "execution_count": 77,
   "metadata": {},
   "outputs": [
    {
     "data": {
      "text/plain": [
       "{'MAE': 0.5551801531657721,\n",
       " 'MSE': 0.8207694687630922,\n",
       " 'RMSE': 0.9059632822378025,\n",
       " 'R2': 0.9347380410842782}"
      ]
     },
     "execution_count": 77,
     "metadata": {},
     "output_type": "execute_result"
    }
   ],
   "source": [
    "regress_eval(rfr_random_search, X_test, y_test)"
   ]
  },
  {
   "cell_type": "markdown",
   "metadata": {},
   "source": [
    "#### Using Grid Search to Identify Optimal Parameters"
   ]
  },
  {
   "cell_type": "code",
   "execution_count": 78,
   "metadata": {},
   "outputs": [],
   "source": [
    "grid_search = {\n",
    "    'bootstrap': [True],\n",
    "    'max_depth': [80, 90, 100],\n",
    "    'max_features': [2, 3],\n",
    "    'min_samples_leaf': [3, 4, 5],\n",
    "    'min_samples_split': [8, 10, 12],\n",
    "    'n_estimators': [100, 500]\n",
    "}\n",
    "\n",
    "grid_search = GridSearchCV(estimator = rfr, param_grid = grid_search, \n",
    "                          cv = 3, n_jobs = -1, verbose = 0)"
   ]
  },
  {
   "cell_type": "code",
   "execution_count": 79,
   "metadata": {},
   "outputs": [
    {
     "data": {
      "text/html": [
       "<style>#sk-container-id-7 {color: black;background-color: white;}#sk-container-id-7 pre{padding: 0;}#sk-container-id-7 div.sk-toggleable {background-color: white;}#sk-container-id-7 label.sk-toggleable__label {cursor: pointer;display: block;width: 100%;margin-bottom: 0;padding: 0.3em;box-sizing: border-box;text-align: center;}#sk-container-id-7 label.sk-toggleable__label-arrow:before {content: \"▸\";float: left;margin-right: 0.25em;color: #696969;}#sk-container-id-7 label.sk-toggleable__label-arrow:hover:before {color: black;}#sk-container-id-7 div.sk-estimator:hover label.sk-toggleable__label-arrow:before {color: black;}#sk-container-id-7 div.sk-toggleable__content {max-height: 0;max-width: 0;overflow: hidden;text-align: left;background-color: #f0f8ff;}#sk-container-id-7 div.sk-toggleable__content pre {margin: 0.2em;color: black;border-radius: 0.25em;background-color: #f0f8ff;}#sk-container-id-7 input.sk-toggleable__control:checked~div.sk-toggleable__content {max-height: 200px;max-width: 100%;overflow: auto;}#sk-container-id-7 input.sk-toggleable__control:checked~label.sk-toggleable__label-arrow:before {content: \"▾\";}#sk-container-id-7 div.sk-estimator input.sk-toggleable__control:checked~label.sk-toggleable__label {background-color: #d4ebff;}#sk-container-id-7 div.sk-label input.sk-toggleable__control:checked~label.sk-toggleable__label {background-color: #d4ebff;}#sk-container-id-7 input.sk-hidden--visually {border: 0;clip: rect(1px 1px 1px 1px);clip: rect(1px, 1px, 1px, 1px);height: 1px;margin: -1px;overflow: hidden;padding: 0;position: absolute;width: 1px;}#sk-container-id-7 div.sk-estimator {font-family: monospace;background-color: #f0f8ff;border: 1px dotted black;border-radius: 0.25em;box-sizing: border-box;margin-bottom: 0.5em;}#sk-container-id-7 div.sk-estimator:hover {background-color: #d4ebff;}#sk-container-id-7 div.sk-parallel-item::after {content: \"\";width: 100%;border-bottom: 1px solid gray;flex-grow: 1;}#sk-container-id-7 div.sk-label:hover label.sk-toggleable__label {background-color: #d4ebff;}#sk-container-id-7 div.sk-serial::before {content: \"\";position: absolute;border-left: 1px solid gray;box-sizing: border-box;top: 0;bottom: 0;left: 50%;z-index: 0;}#sk-container-id-7 div.sk-serial {display: flex;flex-direction: column;align-items: center;background-color: white;padding-right: 0.2em;padding-left: 0.2em;position: relative;}#sk-container-id-7 div.sk-item {position: relative;z-index: 1;}#sk-container-id-7 div.sk-parallel {display: flex;align-items: stretch;justify-content: center;background-color: white;position: relative;}#sk-container-id-7 div.sk-item::before, #sk-container-id-7 div.sk-parallel-item::before {content: \"\";position: absolute;border-left: 1px solid gray;box-sizing: border-box;top: 0;bottom: 0;left: 50%;z-index: -1;}#sk-container-id-7 div.sk-parallel-item {display: flex;flex-direction: column;z-index: 1;position: relative;background-color: white;}#sk-container-id-7 div.sk-parallel-item:first-child::after {align-self: flex-end;width: 50%;}#sk-container-id-7 div.sk-parallel-item:last-child::after {align-self: flex-start;width: 50%;}#sk-container-id-7 div.sk-parallel-item:only-child::after {width: 0;}#sk-container-id-7 div.sk-dashed-wrapped {border: 1px dashed gray;margin: 0 0.4em 0.5em 0.4em;box-sizing: border-box;padding-bottom: 0.4em;background-color: white;}#sk-container-id-7 div.sk-label label {font-family: monospace;font-weight: bold;display: inline-block;line-height: 1.2em;}#sk-container-id-7 div.sk-label-container {text-align: center;}#sk-container-id-7 div.sk-container {/* jupyter's `normalize.less` sets `[hidden] { display: none; }` but bootstrap.min.css set `[hidden] { display: none !important; }` so we also need the `!important` here to be able to override the default hidden behavior on the sphinx rendered scikit-learn.org. See: https://github.com/scikit-learn/scikit-learn/issues/21755 */display: inline-block !important;position: relative;}#sk-container-id-7 div.sk-text-repr-fallback {display: none;}</style><div id=\"sk-container-id-7\" class=\"sk-top-container\"><div class=\"sk-text-repr-fallback\"><pre>GridSearchCV(cv=3,\n",
       "             estimator=RandomForestRegressor(n_estimators=10, random_state=0),\n",
       "             n_jobs=-1,\n",
       "             param_grid={&#x27;bootstrap&#x27;: [True], &#x27;max_depth&#x27;: [80, 90, 100],\n",
       "                         &#x27;max_features&#x27;: [2, 3], &#x27;min_samples_leaf&#x27;: [3, 4, 5],\n",
       "                         &#x27;min_samples_split&#x27;: [8, 10, 12],\n",
       "                         &#x27;n_estimators&#x27;: [100, 500]})</pre><b>In a Jupyter environment, please rerun this cell to show the HTML representation or trust the notebook. <br />On GitHub, the HTML representation is unable to render, please try loading this page with nbviewer.org.</b></div><div class=\"sk-container\" hidden><div class=\"sk-item sk-dashed-wrapped\"><div class=\"sk-label-container\"><div class=\"sk-label sk-toggleable\"><input class=\"sk-toggleable__control sk-hidden--visually\" id=\"sk-estimator-id-18\" type=\"checkbox\" ><label for=\"sk-estimator-id-18\" class=\"sk-toggleable__label sk-toggleable__label-arrow\">GridSearchCV</label><div class=\"sk-toggleable__content\"><pre>GridSearchCV(cv=3,\n",
       "             estimator=RandomForestRegressor(n_estimators=10, random_state=0),\n",
       "             n_jobs=-1,\n",
       "             param_grid={&#x27;bootstrap&#x27;: [True], &#x27;max_depth&#x27;: [80, 90, 100],\n",
       "                         &#x27;max_features&#x27;: [2, 3], &#x27;min_samples_leaf&#x27;: [3, 4, 5],\n",
       "                         &#x27;min_samples_split&#x27;: [8, 10, 12],\n",
       "                         &#x27;n_estimators&#x27;: [100, 500]})</pre></div></div></div><div class=\"sk-parallel\"><div class=\"sk-parallel-item\"><div class=\"sk-item\"><div class=\"sk-label-container\"><div class=\"sk-label sk-toggleable\"><input class=\"sk-toggleable__control sk-hidden--visually\" id=\"sk-estimator-id-19\" type=\"checkbox\" ><label for=\"sk-estimator-id-19\" class=\"sk-toggleable__label sk-toggleable__label-arrow\">estimator: RandomForestRegressor</label><div class=\"sk-toggleable__content\"><pre>RandomForestRegressor(n_estimators=10, random_state=0)</pre></div></div></div><div class=\"sk-serial\"><div class=\"sk-item\"><div class=\"sk-estimator sk-toggleable\"><input class=\"sk-toggleable__control sk-hidden--visually\" id=\"sk-estimator-id-20\" type=\"checkbox\" ><label for=\"sk-estimator-id-20\" class=\"sk-toggleable__label sk-toggleable__label-arrow\">RandomForestRegressor</label><div class=\"sk-toggleable__content\"><pre>RandomForestRegressor(n_estimators=10, random_state=0)</pre></div></div></div></div></div></div></div></div></div></div>"
      ],
      "text/plain": [
       "GridSearchCV(cv=3,\n",
       "             estimator=RandomForestRegressor(n_estimators=10, random_state=0),\n",
       "             n_jobs=-1,\n",
       "             param_grid={'bootstrap': [True], 'max_depth': [80, 90, 100],\n",
       "                         'max_features': [2, 3], 'min_samples_leaf': [3, 4, 5],\n",
       "                         'min_samples_split': [8, 10, 12],\n",
       "                         'n_estimators': [100, 500]})"
      ]
     },
     "execution_count": 79,
     "metadata": {},
     "output_type": "execute_result"
    }
   ],
   "source": [
    "grid_search.fit(X_train, y_train)"
   ]
  },
  {
   "cell_type": "code",
   "execution_count": 80,
   "metadata": {},
   "outputs": [
    {
     "data": {
      "text/plain": [
       "0.9089657206202575"
      ]
     },
     "execution_count": 80,
     "metadata": {},
     "output_type": "execute_result"
    }
   ],
   "source": [
    "best_grid_search = grid_search.best_estimator_\n",
    "grid_search_R2 = best_grid_search.score(X_test, y_test)\n",
    "grid_search_R2\n",
    "#With Grid Search, R2 score is 90.89%, it is not optimized"
   ]
  },
  {
   "cell_type": "code",
   "execution_count": 81,
   "metadata": {},
   "outputs": [
    {
     "data": {
      "text/html": [
       "<div>\n",
       "<style scoped>\n",
       "    .dataframe tbody tr th:only-of-type {\n",
       "        vertical-align: middle;\n",
       "    }\n",
       "\n",
       "    .dataframe tbody tr th {\n",
       "        vertical-align: top;\n",
       "    }\n",
       "\n",
       "    .dataframe thead th {\n",
       "        text-align: right;\n",
       "    }\n",
       "</style>\n",
       "<table border=\"1\" class=\"dataframe\">\n",
       "  <thead>\n",
       "    <tr style=\"text-align: right;\">\n",
       "      <th></th>\n",
       "      <th>R2</th>\n",
       "    </tr>\n",
       "  </thead>\n",
       "  <tbody>\n",
       "    <tr>\n",
       "      <th>random search</th>\n",
       "      <td>0.934738</td>\n",
       "    </tr>\n",
       "    <tr>\n",
       "      <th>grid search</th>\n",
       "      <td>0.908966</td>\n",
       "    </tr>\n",
       "    <tr>\n",
       "      <th>default parameters</th>\n",
       "      <td>0.941983</td>\n",
       "    </tr>\n",
       "  </tbody>\n",
       "</table>\n",
       "</div>"
      ],
      "text/plain": [
       "                          R2\n",
       "random search       0.934738\n",
       "grid search         0.908966\n",
       "default parameters  0.941983"
      ]
     },
     "execution_count": 81,
     "metadata": {},
     "output_type": "execute_result"
    }
   ],
   "source": [
    "pd.DataFrame([random_search_R2, grid_search_R2, no_tuning_R2], \n",
    "             index = ['random search', \"grid search\", \"default parameters\"], \n",
    "             columns = ['R2'])"
   ]
  },
  {
   "cell_type": "code",
   "execution_count": null,
   "metadata": {},
   "outputs": [],
   "source": [
    "# For the moment Random forest has the best r2 score to predict wage (R2_score of 94.19%, MAE is 0.55)"
   ]
  },
  {
   "cell_type": "markdown",
   "metadata": {},
   "source": [
    "## Evaluation of Feature Importance using Random Forest "
   ]
  },
  {
   "cell_type": "code",
   "execution_count": 60,
   "metadata": {},
   "outputs": [
    {
     "data": {
      "text/plain": [
       "array([0.16651723, 0.1277227 , 0.57997417, 0.1257859 ])"
      ]
     },
     "execution_count": 60,
     "metadata": {},
     "output_type": "execute_result"
    }
   ],
   "source": [
    "#Feature Importance with Random Forest\n",
    "rfr.feature_importances_"
   ]
  },
  {
   "cell_type": "code",
   "execution_count": 61,
   "metadata": {},
   "outputs": [
    {
     "data": {
      "text/plain": [
       "Text(0.5, 0, 'Permutation Importance (from scikit-learn)')"
      ]
     },
     "execution_count": 61,
     "metadata": {},
     "output_type": "execute_result"
    },
    {
     "data": {
      "image/png": "[encoded data removed]",
      "text/plain": [
       "<Figure size 432x288 with 1 Axes>"
      ]
     },
     "metadata": {
      "needs_background": "light"
     },
     "output_type": "display_data"
    }
   ],
   "source": [
    "#from sklearn.inspection import permutation_importance\n",
    "\n",
    "perm_importance = permutation_importance(rfr, X_test, y_test)\n",
    "sorted_idx = perm_importance.importances_mean.argsort()\n",
    "plt.barh(reformatted_salary.columns[sorted_idx], perm_importance.importances_mean[sorted_idx], color = \"orange\")\n",
    "plt.xlabel(\"Permutation Importance (from scikit-learn)\")"
   ]
  },
  {
   "cell_type": "code",
   "execution_count": null,
   "metadata": {},
   "outputs": [],
   "source": [
    "# We see that Position is the most important feature to evaluate the wage with the RF Predictor,\n",
    "# We notice that (before the location), Age and Gender play a small role in definition of wage with this method.\n",
    "# Nethertheless, it underlines the Gender wage gap in France."
   ]
  },
  {
   "cell_type": "code",
   "execution_count": 64,
   "metadata": {},
   "outputs": [],
   "source": [
    "feats_rfr = rfr.feature_names_in_"
   ]
  },
  {
   "cell_type": "markdown",
   "metadata": {},
   "source": [
    "### Using feature importance to train the Random Forest model"
   ]
  },
  {
   "cell_type": "code",
   "execution_count": 67,
   "metadata": {},
   "outputs": [],
   "source": [
    "rfr.fit(X_train[feats_rfr], y_train)\n",
    "\n",
    "# Predicting the Test set results\n",
    "y_pred = rfr.predict(X_test[feats_rfr])"
   ]
  },
  {
   "cell_type": "code",
   "execution_count": 68,
   "metadata": {},
   "outputs": [
    {
     "data": {
      "text/plain": [
       "{'MAE': 0.5514584128007854,\n",
       " 'MSE': 0.7296542756514827,\n",
       " 'RMSE': 0.8541980306998388,\n",
       " 'R2': 0.9419828963277477}"
      ]
     },
     "execution_count": 68,
     "metadata": {},
     "output_type": "execute_result"
    }
   ],
   "source": [
    "regress_eval(rfr, X_test[feats_rfr], y_test)"
   ]
  },
  {
   "cell_type": "markdown",
   "metadata": {},
   "source": [
    "## 4th model / Ensemble Methods : Boosting"
   ]
  },
  {
   "cell_type": "code",
   "execution_count": 83,
   "metadata": {},
   "outputs": [],
   "source": [
    "from sklearn.ensemble import GradientBoostingRegressor, AdaBoostRegressor\n",
    "\n",
    "gbr = GradientBoostingRegressor()\n",
    "abr = AdaBoostRegressor()"
   ]
  },
  {
   "cell_type": "code",
   "execution_count": 84,
   "metadata": {},
   "outputs": [
    {
     "name": "stdout",
     "output_type": "stream",
     "text": [
      "GBR: {'MAE': 0.5890670051432877, 'MSE': 0.9055760257570044, 'RMSE': 0.9516175837788016, 'R2': 0.9279948053171617}\n",
      "ABR: {'MAE': 1.4565592475068927, 'MSE': 3.4259063618321632, 'RMSE': 1.8509204093726352, 'R2': 0.7275954226563277}\n"
     ]
    }
   ],
   "source": [
    "gbr.fit(X_train, y_train)\n",
    "abr.fit(X_train, y_train)\n",
    "\n",
    "print(\"GBR:\", (regress_eval(gbr, X_test, y_test)))\n",
    "print(\"ABR:\", (regress_eval(abr, X_test, y_test)))"
   ]
  },
  {
   "cell_type": "code",
   "execution_count": 88,
   "metadata": {},
   "outputs": [],
   "source": [
    "no_tuning_GBR = gbr.score(X_test, y_test)"
   ]
  },
  {
   "cell_type": "code",
   "execution_count": null,
   "metadata": {},
   "outputs": [],
   "source": [
    "# Gradient Boosting has a better score (R2 is 0.927) than Adaboost"
   ]
  },
  {
   "cell_type": "code",
   "execution_count": 86,
   "metadata": {},
   "outputs": [
    {
     "data": {
      "text/plain": [
       "{'alpha': 0.9,\n",
       " 'ccp_alpha': 0.0,\n",
       " 'criterion': 'friedman_mse',\n",
       " 'init': None,\n",
       " 'learning_rate': 0.1,\n",
       " 'loss': 'squared_error',\n",
       " 'max_depth': 3,\n",
       " 'max_features': None,\n",
       " 'max_leaf_nodes': None,\n",
       " 'min_impurity_decrease': 0.0,\n",
       " 'min_samples_leaf': 1,\n",
       " 'min_samples_split': 2,\n",
       " 'min_weight_fraction_leaf': 0.0,\n",
       " 'n_estimators': 100,\n",
       " 'n_iter_no_change': None,\n",
       " 'random_state': None,\n",
       " 'subsample': 1.0,\n",
       " 'tol': 0.0001,\n",
       " 'validation_fraction': 0.1,\n",
       " 'verbose': 0,\n",
       " 'warm_start': False}"
      ]
     },
     "execution_count": 86,
     "metadata": {},
     "output_type": "execute_result"
    }
   ],
   "source": [
    "gbr.get_params()"
   ]
  },
  {
   "cell_type": "code",
   "execution_count": 87,
   "metadata": {},
   "outputs": [],
   "source": [
    "params={'subsample':[0.65, 0.7, 0.75],\n",
    "       # 'n_estimators':[300, 500, 1000],\n",
    "          'n_estimators':[100, 300, 700],\n",
    "         'learning_rate':[0.05, 0.075, 0.1]}"
   ]
  },
  {
   "cell_type": "markdown",
   "metadata": {},
   "source": [
    "### Tuning with Randomized Search"
   ]
  },
  {
   "cell_type": "code",
   "execution_count": 89,
   "metadata": {},
   "outputs": [
    {
     "data": {
      "text/html": [
       "<style>#sk-container-id-8 {color: black;background-color: white;}#sk-container-id-8 pre{padding: 0;}#sk-container-id-8 div.sk-toggleable {background-color: white;}#sk-container-id-8 label.sk-toggleable__label {cursor: pointer;display: block;width: 100%;margin-bottom: 0;padding: 0.3em;box-sizing: border-box;text-align: center;}#sk-container-id-8 label.sk-toggleable__label-arrow:before {content: \"▸\";float: left;margin-right: 0.25em;color: #696969;}#sk-container-id-8 label.sk-toggleable__label-arrow:hover:before {color: black;}#sk-container-id-8 div.sk-estimator:hover label.sk-toggleable__label-arrow:before {color: black;}#sk-container-id-8 div.sk-toggleable__content {max-height: 0;max-width: 0;overflow: hidden;text-align: left;background-color: #f0f8ff;}#sk-container-id-8 div.sk-toggleable__content pre {margin: 0.2em;color: black;border-radius: 0.25em;background-color: #f0f8ff;}#sk-container-id-8 input.sk-toggleable__control:checked~div.sk-toggleable__content {max-height: 200px;max-width: 100%;overflow: auto;}#sk-container-id-8 input.sk-toggleable__control:checked~label.sk-toggleable__label-arrow:before {content: \"▾\";}#sk-container-id-8 div.sk-estimator input.sk-toggleable__control:checked~label.sk-toggleable__label {background-color: #d4ebff;}#sk-container-id-8 div.sk-label input.sk-toggleable__control:checked~label.sk-toggleable__label {background-color: #d4ebff;}#sk-container-id-8 input.sk-hidden--visually {border: 0;clip: rect(1px 1px 1px 1px);clip: rect(1px, 1px, 1px, 1px);height: 1px;margin: -1px;overflow: hidden;padding: 0;position: absolute;width: 1px;}#sk-container-id-8 div.sk-estimator {font-family: monospace;background-color: #f0f8ff;border: 1px dotted black;border-radius: 0.25em;box-sizing: border-box;margin-bottom: 0.5em;}#sk-container-id-8 div.sk-estimator:hover {background-color: #d4ebff;}#sk-container-id-8 div.sk-parallel-item::after {content: \"\";width: 100%;border-bottom: 1px solid gray;flex-grow: 1;}#sk-container-id-8 div.sk-label:hover label.sk-toggleable__label {background-color: #d4ebff;}#sk-container-id-8 div.sk-serial::before {content: \"\";position: absolute;border-left: 1px solid gray;box-sizing: border-box;top: 0;bottom: 0;left: 50%;z-index: 0;}#sk-container-id-8 div.sk-serial {display: flex;flex-direction: column;align-items: center;background-color: white;padding-right: 0.2em;padding-left: 0.2em;position: relative;}#sk-container-id-8 div.sk-item {position: relative;z-index: 1;}#sk-container-id-8 div.sk-parallel {display: flex;align-items: stretch;justify-content: center;background-color: white;position: relative;}#sk-container-id-8 div.sk-item::before, #sk-container-id-8 div.sk-parallel-item::before {content: \"\";position: absolute;border-left: 1px solid gray;box-sizing: border-box;top: 0;bottom: 0;left: 50%;z-index: -1;}#sk-container-id-8 div.sk-parallel-item {display: flex;flex-direction: column;z-index: 1;position: relative;background-color: white;}#sk-container-id-8 div.sk-parallel-item:first-child::after {align-self: flex-end;width: 50%;}#sk-container-id-8 div.sk-parallel-item:last-child::after {align-self: flex-start;width: 50%;}#sk-container-id-8 div.sk-parallel-item:only-child::after {width: 0;}#sk-container-id-8 div.sk-dashed-wrapped {border: 1px dashed gray;margin: 0 0.4em 0.5em 0.4em;box-sizing: border-box;padding-bottom: 0.4em;background-color: white;}#sk-container-id-8 div.sk-label label {font-family: monospace;font-weight: bold;display: inline-block;line-height: 1.2em;}#sk-container-id-8 div.sk-label-container {text-align: center;}#sk-container-id-8 div.sk-container {/* jupyter's `normalize.less` sets `[hidden] { display: none; }` but bootstrap.min.css set `[hidden] { display: none !important; }` so we also need the `!important` here to be able to override the default hidden behavior on the sphinx rendered scikit-learn.org. See: https://github.com/scikit-learn/scikit-learn/issues/21755 */display: inline-block !important;position: relative;}#sk-container-id-8 div.sk-text-repr-fallback {display: none;}</style><div id=\"sk-container-id-8\" class=\"sk-top-container\"><div class=\"sk-text-repr-fallback\"><pre>RandomizedSearchCV(cv=10, estimator=GradientBoostingRegressor(), n_jobs=-1,\n",
       "                   param_distributions={&#x27;learning_rate&#x27;: [0.05, 0.075, 0.1],\n",
       "                                        &#x27;n_estimators&#x27;: [100, 300, 700],\n",
       "                                        &#x27;subsample&#x27;: [0.65, 0.7, 0.75]},\n",
       "                   random_state=2)</pre><b>In a Jupyter environment, please rerun this cell to show the HTML representation or trust the notebook. <br />On GitHub, the HTML representation is unable to render, please try loading this page with nbviewer.org.</b></div><div class=\"sk-container\" hidden><div class=\"sk-item sk-dashed-wrapped\"><div class=\"sk-label-container\"><div class=\"sk-label sk-toggleable\"><input class=\"sk-toggleable__control sk-hidden--visually\" id=\"sk-estimator-id-21\" type=\"checkbox\" ><label for=\"sk-estimator-id-21\" class=\"sk-toggleable__label sk-toggleable__label-arrow\">RandomizedSearchCV</label><div class=\"sk-toggleable__content\"><pre>RandomizedSearchCV(cv=10, estimator=GradientBoostingRegressor(), n_jobs=-1,\n",
       "                   param_distributions={&#x27;learning_rate&#x27;: [0.05, 0.075, 0.1],\n",
       "                                        &#x27;n_estimators&#x27;: [100, 300, 700],\n",
       "                                        &#x27;subsample&#x27;: [0.65, 0.7, 0.75]},\n",
       "                   random_state=2)</pre></div></div></div><div class=\"sk-parallel\"><div class=\"sk-parallel-item\"><div class=\"sk-item\"><div class=\"sk-label-container\"><div class=\"sk-label sk-toggleable\"><input class=\"sk-toggleable__control sk-hidden--visually\" id=\"sk-estimator-id-22\" type=\"checkbox\" ><label for=\"sk-estimator-id-22\" class=\"sk-toggleable__label sk-toggleable__label-arrow\">estimator: GradientBoostingRegressor</label><div class=\"sk-toggleable__content\"><pre>GradientBoostingRegressor()</pre></div></div></div><div class=\"sk-serial\"><div class=\"sk-item\"><div class=\"sk-estimator sk-toggleable\"><input class=\"sk-toggleable__control sk-hidden--visually\" id=\"sk-estimator-id-23\" type=\"checkbox\" ><label for=\"sk-estimator-id-23\" class=\"sk-toggleable__label sk-toggleable__label-arrow\">GradientBoostingRegressor</label><div class=\"sk-toggleable__content\"><pre>GradientBoostingRegressor()</pre></div></div></div></div></div></div></div></div></div></div>"
      ],
      "text/plain": [
       "RandomizedSearchCV(cv=10, estimator=GradientBoostingRegressor(), n_jobs=-1,\n",
       "                   param_distributions={'learning_rate': [0.05, 0.075, 0.1],\n",
       "                                        'n_estimators': [100, 300, 700],\n",
       "                                        'subsample': [0.65, 0.7, 0.75]},\n",
       "                   random_state=2)"
      ]
     },
     "execution_count": 89,
     "metadata": {},
     "output_type": "execute_result"
    }
   ],
   "source": [
    "# Tuning with Randomized Search\n",
    "\n",
    "gbr_tuned = RandomizedSearchCV(gbr, params, n_iter=10, cv=10, n_jobs=-1, random_state=2)\n",
    "gbr_tuned.fit(X_train, y_train)\n"
   ]
  },
  {
   "cell_type": "code",
   "execution_count": 90,
   "metadata": {},
   "outputs": [
    {
     "name": "stdout",
     "output_type": "stream",
     "text": [
      "GBR_tuned: {'MAE': 0.34134715015288813, 'MSE': 0.27488513991628877, 'RMSE': 0.5242948978545269, 'R2': 0.9781430189712169}\n"
     ]
    }
   ],
   "source": [
    "print(\"GBR_tuned:\", (regress_eval(gbr_tuned, X_test, y_test)))"
   ]
  },
  {
   "cell_type": "code",
   "execution_count": 91,
   "metadata": {},
   "outputs": [],
   "source": [
    "GBR_tuned = gbr_tuned.score(X_test, y_test)\n",
    "# GBR has the best r2 score optimized with Random Search : 0.97 and MAE is 0.35"
   ]
  },
  {
   "cell_type": "markdown",
   "metadata": {},
   "source": [
    "### Tuning with Bagging"
   ]
  },
  {
   "cell_type": "code",
   "execution_count": 93,
   "metadata": {},
   "outputs": [
    {
     "data": {
      "text/html": [
       "<style>#sk-container-id-9 {color: black;background-color: white;}#sk-container-id-9 pre{padding: 0;}#sk-container-id-9 div.sk-toggleable {background-color: white;}#sk-container-id-9 label.sk-toggleable__label {cursor: pointer;display: block;width: 100%;margin-bottom: 0;padding: 0.3em;box-sizing: border-box;text-align: center;}#sk-container-id-9 label.sk-toggleable__label-arrow:before {content: \"▸\";float: left;margin-right: 0.25em;color: #696969;}#sk-container-id-9 label.sk-toggleable__label-arrow:hover:before {color: black;}#sk-container-id-9 div.sk-estimator:hover label.sk-toggleable__label-arrow:before {color: black;}#sk-container-id-9 div.sk-toggleable__content {max-height: 0;max-width: 0;overflow: hidden;text-align: left;background-color: #f0f8ff;}#sk-container-id-9 div.sk-toggleable__content pre {margin: 0.2em;color: black;border-radius: 0.25em;background-color: #f0f8ff;}#sk-container-id-9 input.sk-toggleable__control:checked~div.sk-toggleable__content {max-height: 200px;max-width: 100%;overflow: auto;}#sk-container-id-9 input.sk-toggleable__control:checked~label.sk-toggleable__label-arrow:before {content: \"▾\";}#sk-container-id-9 div.sk-estimator input.sk-toggleable__control:checked~label.sk-toggleable__label {background-color: #d4ebff;}#sk-container-id-9 div.sk-label input.sk-toggleable__control:checked~label.sk-toggleable__label {background-color: #d4ebff;}#sk-container-id-9 input.sk-hidden--visually {border: 0;clip: rect(1px 1px 1px 1px);clip: rect(1px, 1px, 1px, 1px);height: 1px;margin: -1px;overflow: hidden;padding: 0;position: absolute;width: 1px;}#sk-container-id-9 div.sk-estimator {font-family: monospace;background-color: #f0f8ff;border: 1px dotted black;border-radius: 0.25em;box-sizing: border-box;margin-bottom: 0.5em;}#sk-container-id-9 div.sk-estimator:hover {background-color: #d4ebff;}#sk-container-id-9 div.sk-parallel-item::after {content: \"\";width: 100%;border-bottom: 1px solid gray;flex-grow: 1;}#sk-container-id-9 div.sk-label:hover label.sk-toggleable__label {background-color: #d4ebff;}#sk-container-id-9 div.sk-serial::before {content: \"\";position: absolute;border-left: 1px solid gray;box-sizing: border-box;top: 0;bottom: 0;left: 50%;z-index: 0;}#sk-container-id-9 div.sk-serial {display: flex;flex-direction: column;align-items: center;background-color: white;padding-right: 0.2em;padding-left: 0.2em;position: relative;}#sk-container-id-9 div.sk-item {position: relative;z-index: 1;}#sk-container-id-9 div.sk-parallel {display: flex;align-items: stretch;justify-content: center;background-color: white;position: relative;}#sk-container-id-9 div.sk-item::before, #sk-container-id-9 div.sk-parallel-item::before {content: \"\";position: absolute;border-left: 1px solid gray;box-sizing: border-box;top: 0;bottom: 0;left: 50%;z-index: -1;}#sk-container-id-9 div.sk-parallel-item {display: flex;flex-direction: column;z-index: 1;position: relative;background-color: white;}#sk-container-id-9 div.sk-parallel-item:first-child::after {align-self: flex-end;width: 50%;}#sk-container-id-9 div.sk-parallel-item:last-child::after {align-self: flex-start;width: 50%;}#sk-container-id-9 div.sk-parallel-item:only-child::after {width: 0;}#sk-container-id-9 div.sk-dashed-wrapped {border: 1px dashed gray;margin: 0 0.4em 0.5em 0.4em;box-sizing: border-box;padding-bottom: 0.4em;background-color: white;}#sk-container-id-9 div.sk-label label {font-family: monospace;font-weight: bold;display: inline-block;line-height: 1.2em;}#sk-container-id-9 div.sk-label-container {text-align: center;}#sk-container-id-9 div.sk-container {/* jupyter's `normalize.less` sets `[hidden] { display: none; }` but bootstrap.min.css set `[hidden] { display: none !important; }` so we also need the `!important` here to be able to override the default hidden behavior on the sphinx rendered scikit-learn.org. See: https://github.com/scikit-learn/scikit-learn/issues/21755 */display: inline-block !important;position: relative;}#sk-container-id-9 div.sk-text-repr-fallback {display: none;}</style><div id=\"sk-container-id-9\" class=\"sk-top-container\"><div class=\"sk-text-repr-fallback\"><pre>BaggingRegressor(base_estimator=GradientBoostingRegressor())</pre><b>In a Jupyter environment, please rerun this cell to show the HTML representation or trust the notebook. <br />On GitHub, the HTML representation is unable to render, please try loading this page with nbviewer.org.</b></div><div class=\"sk-container\" hidden><div class=\"sk-item sk-dashed-wrapped\"><div class=\"sk-label-container\"><div class=\"sk-label sk-toggleable\"><input class=\"sk-toggleable__control sk-hidden--visually\" id=\"sk-estimator-id-24\" type=\"checkbox\" ><label for=\"sk-estimator-id-24\" class=\"sk-toggleable__label sk-toggleable__label-arrow\">BaggingRegressor</label><div class=\"sk-toggleable__content\"><pre>BaggingRegressor(base_estimator=GradientBoostingRegressor())</pre></div></div></div><div class=\"sk-parallel\"><div class=\"sk-parallel-item\"><div class=\"sk-item\"><div class=\"sk-label-container\"><div class=\"sk-label sk-toggleable\"><input class=\"sk-toggleable__control sk-hidden--visually\" id=\"sk-estimator-id-25\" type=\"checkbox\" ><label for=\"sk-estimator-id-25\" class=\"sk-toggleable__label sk-toggleable__label-arrow\">base_estimator: GradientBoostingRegressor</label><div class=\"sk-toggleable__content\"><pre>GradientBoostingRegressor()</pre></div></div></div><div class=\"sk-serial\"><div class=\"sk-item\"><div class=\"sk-estimator sk-toggleable\"><input class=\"sk-toggleable__control sk-hidden--visually\" id=\"sk-estimator-id-26\" type=\"checkbox\" ><label for=\"sk-estimator-id-26\" class=\"sk-toggleable__label sk-toggleable__label-arrow\">GradientBoostingRegressor</label><div class=\"sk-toggleable__content\"><pre>GradientBoostingRegressor()</pre></div></div></div></div></div></div></div></div></div></div>"
      ],
      "text/plain": [
       "BaggingRegressor(base_estimator=GradientBoostingRegressor())"
      ]
     },
     "execution_count": 93,
     "metadata": {},
     "output_type": "execute_result"
    }
   ],
   "source": [
    "# Tuning with Bagging\n",
    "\n",
    "bagged_gbr = BaggingRegressor(GradientBoostingRegressor())\n",
    "bagged_gbr.fit(X_train, y_train)"
   ]
  },
  {
   "cell_type": "code",
   "execution_count": 94,
   "metadata": {},
   "outputs": [
    {
     "name": "stdout",
     "output_type": "stream",
     "text": [
      "bagged_gbr: {'MAE': 0.5932106164213702, 'MSE': 0.9197235906243506, 'RMSE': 0.9590222054907543, 'R2': 0.9268698879898619}\n"
     ]
    }
   ],
   "source": [
    "print(\"bagged_gbr:\", (regress_eval(bagged_gbr, X_test, y_test)))"
   ]
  },
  {
   "cell_type": "code",
   "execution_count": 95,
   "metadata": {},
   "outputs": [],
   "source": [
    "bagged_GBR = bagged_gbr.score(X_test, y_test)"
   ]
  },
  {
   "cell_type": "code",
   "execution_count": 96,
   "metadata": {},
   "outputs": [
    {
     "data": {
      "text/html": [
       "<div>\n",
       "<style scoped>\n",
       "    .dataframe tbody tr th:only-of-type {\n",
       "        vertical-align: middle;\n",
       "    }\n",
       "\n",
       "    .dataframe tbody tr th {\n",
       "        vertical-align: top;\n",
       "    }\n",
       "\n",
       "    .dataframe thead th {\n",
       "        text-align: right;\n",
       "    }\n",
       "</style>\n",
       "<table border=\"1\" class=\"dataframe\">\n",
       "  <thead>\n",
       "    <tr style=\"text-align: right;\">\n",
       "      <th></th>\n",
       "      <th>R2</th>\n",
       "    </tr>\n",
       "  </thead>\n",
       "  <tbody>\n",
       "    <tr>\n",
       "      <th>GBR Default</th>\n",
       "      <td>0.927995</td>\n",
       "    </tr>\n",
       "    <tr>\n",
       "      <th>Bagged GBR</th>\n",
       "      <td>0.926870</td>\n",
       "    </tr>\n",
       "    <tr>\n",
       "      <th>Random Search GBR</th>\n",
       "      <td>0.978143</td>\n",
       "    </tr>\n",
       "  </tbody>\n",
       "</table>\n",
       "</div>"
      ],
      "text/plain": [
       "                         R2\n",
       "GBR Default        0.927995\n",
       "Bagged GBR         0.926870\n",
       "Random Search GBR  0.978143"
      ]
     },
     "execution_count": 96,
     "metadata": {},
     "output_type": "execute_result"
    }
   ],
   "source": [
    "pd.DataFrame([no_tuning_GBR, bagged_GBR, GBR_tuned], \n",
    "             index = ['GBR Default', \"Bagged GBR\", \"Random Search GBR\",], \n",
    "             columns = ['R2'])"
   ]
  },
  {
   "cell_type": "code",
   "execution_count": null,
   "metadata": {},
   "outputs": [],
   "source": [
    "# Gradient Boosting tuned with Random Search method has the best metrics to predict the wage in this model (r2 is 0.978 and MAE is 0,35)"
   ]
  },
  {
   "cell_type": "markdown",
   "metadata": {},
   "source": [
    "# Conclusions"
   ]
  },
  {
   "cell_type": "markdown",
   "metadata": {},
   "source": [
    "What can we conclude? Is the model successful? How will it be used? Importantly, what are some limitations that you might need to address going forward?\n",
    "\n",
    "In conclusion, The best model (The Gradient Boosting Regressor) shows that the algorithm is successful to predict an hourly mean wage based on the position level, age, gender, and location. The R2_score (97.8%) of the best model enables accurate predictions of the mean wage samples.\n",
    "The preliminary analysis showed trends and patterns in gender pay disparities between male and female employees.\n",
    "The predictive model can be a tool for HR staff to ensure accuracy in mandatory annual reports, and consequently reduce expenses related to the French government fines. It can help companies to close gender inequality barriers and allow women to see the same advancement and progression as their male counterparts.\n",
    "\n",
    "Limitations of the model:\n",
    "As the data is highly aggregated (it comes from a French official source), we could only see a high-level analysis of the situation.\n",
    "Additional social factors such as education, seniority, and household information (having children or not), would be highly helpful to explain the gender wage gap in France. \n",
    "Because many local factors affect pay, we should try to separately measure them to understand how each impacts pay. In addition to gender, this comparison would ensure we have accounted for all the detailed differences in education, experience, type of job role, and other factors that differ between men and women of a similar position.\n"
   ]
  },
  {
   "cell_type": "markdown",
   "metadata": {},
   "source": [
    "# Bonus (Explainable AI)"
   ]
  },
  {
   "cell_type": "markdown",
   "metadata": {},
   "source": [
    "In the real world, people are rightfully skeptical when they hear about AI/ML success. Help build confidence in the model's predictions by using tools in the Week 10 Notebook. "
   ]
  },
  {
   "cell_type": "markdown",
   "metadata": {},
   "source": [
    "## Performing Interpretability functions helped with TreeExplainer and the Random Forest estimators"
   ]
  },
  {
   "cell_type": "code",
   "execution_count": 107,
   "metadata": {},
   "outputs": [],
   "source": [
    "#!pip install shap"
   ]
  },
  {
   "cell_type": "code",
   "execution_count": 97,
   "metadata": {},
   "outputs": [],
   "source": [
    "# Performing interpretability functions (tree explainer) to see \"feature contributions\" to the predictions of the \n",
    "# tree-based model (Random Forest)\n",
    "\n",
    "import shap"
   ]
  },
  {
   "cell_type": "code",
   "execution_count": 99,
   "metadata": {},
   "outputs": [],
   "source": [
    "explainer = shap.TreeExplainer(rfr)\n",
    "shap_values = explainer.shap_values(X_train)\n",
    "expected_value = explainer.expected_value"
   ]
  },
  {
   "cell_type": "code",
   "execution_count": 100,
   "metadata": {},
   "outputs": [
    {
     "data": {
      "image/png": "[encoded data removed]",
      "text/plain": [
       "<Figure size 576x223.2 with 2 Axes>"
      ]
     },
     "metadata": {
      "needs_background": "light"
     },
     "output_type": "display_data"
    }
   ],
   "source": [
    "shap.summary_plot(shap_values, X_train, title=\"Summary Plot\") \n",
    "# Plotting the \"feature contributions\" to the predictions"
   ]
  },
  {
   "cell_type": "code",
   "execution_count": 101,
   "metadata": {},
   "outputs": [
    {
     "data": {
      "image/png": "[encoded data removed]",
      "text/plain": [
       "<Figure size 576x223.2 with 1 Axes>"
      ]
     },
     "metadata": {
      "needs_background": "light"
     },
     "output_type": "display_data"
    },
    {
     "data": {
      "image/png": "[encoded data removed]",
      "text/plain": [
       "<Figure size 576x252 with 3 Axes>"
      ]
     },
     "metadata": {},
     "output_type": "display_data"
    }
   ],
   "source": [
    "# Check features that contribute to the efficiency of the model / Interaction Plots\n",
    "\n",
    "shap.summary_plot(shap_values, X_train, plot_type=\"bar\") \n",
    "\n",
    "shap.plots._waterfall.waterfall_legacy(expected_value[0], shap_values[2], \n",
    "                                   features=X_train.iloc[3,:],\n",
    "                                    feature_names=X_train.columns, \n",
    "                                       max_display=4, show=True)\n",
    "\n",
    "# We see the features average impact on model magnitude below.  \n"
   ]
  },
  {
   "cell_type": "markdown",
   "metadata": {},
   "source": [
    "## Explaining Models with ExplainerDashboards"
   ]
  },
  {
   "cell_type": "code",
   "execution_count": 108,
   "metadata": {},
   "outputs": [],
   "source": [
    "# Explaining Models with ExplainerDashboards\n",
    "\n",
    "#!pip install explainerdashboard"
   ]
  },
  {
   "cell_type": "code",
   "execution_count": 102,
   "metadata": {},
   "outputs": [],
   "source": [
    "from explainerdashboard import ExplainerDashboard\n"
   ]
  },
  {
   "cell_type": "code",
   "execution_count": 109,
   "metadata": {},
   "outputs": [],
   "source": [
    "# Evaluating contribution and importance of the features by capturing dependence plots\n",
    "#!pip install dalex\n"
   ]
  },
  {
   "cell_type": "code",
   "execution_count": 104,
   "metadata": {},
   "outputs": [
    {
     "name": "stdout",
     "output_type": "stream",
     "text": [
      "Preparation of a new explainer is initiated\n",
      "\n",
      "  -> data              : 6278 rows 4 cols\n",
      "  -> target variable   : Parameter 'y' was a pandas.Series. Converted to a numpy.ndarray.\n",
      "  -> target variable   : 6278 values\n",
      "  -> model_class       : sklearn.ensemble._forest.RandomForestRegressor (default)\n",
      "  -> label             : Not specified, model's class short name will be used. (default)\n",
      "  -> predict function  : <function yhat_default at 0x0000021148BD94C0> will be used (default)\n",
      "  -> predict function  : Accepts pandas.DataFrame and numpy.ndarray.\n",
      "  -> predicted values  : min = 9.05, mean = 14.1, max = 36.8\n",
      "  -> model type        : regression will be used (default)\n",
      "  -> residual function : difference between y and yhat (default)\n",
      "  -> residuals         : min = -3.02, mean = 0.000335, max = 5.18\n",
      "  -> model_info        : package sklearn\n",
      "\n",
      "A new explainer has been created!\n"
     ]
    }
   ],
   "source": [
    "import dalex\n",
    "explainer = dalex.Explainer(rfr,X_train,y_train ) \n"
   ]
  },
  {
   "cell_type": "code",
   "execution_count": 110,
   "metadata": {},
   "outputs": [
    {
     "data": {
      "application/vnd.plotly.v1+json": {
       "config": {
        "displaylogo": false,
        "modeBarButtonsToRemove": [
         "sendDataToCloud",
         "lasso2d",
         "autoScale2d",
         "select2d",
         "zoom2d",
         "pan2d",
         "zoomIn2d",
         "zoomOut2d",
         "resetScale2d",
         "toggleSpikelines",
         "hoverCompareCartesian",
         "hoverClosestCartesian"
        ],
        "plotlyServerURL": "https://plot.ly",
        "staticPlot": false,
        "toImageButtonOptions": {
         "height": null,
         "width": null
        }
       },
       "data": [
        {
         "base": 0.3796140009642606,
         "hoverinfo": "text",
         "hoverlabel": {
          "bgcolor": "rgba(0,0,0,0.8)"
         },
         "hovertext": [
          "Model: RandomForestRegressor loss after<br>variable: POSITION is permuted: 3.733<br>Drop-out loss change: +3.353",
          "Model: RandomForestRegressor loss after<br>variable: AGE is permuted: 1.962<br>Drop-out loss change: +1.582",
          "Model: RandomForestRegressor loss after<br>variable: CODGEO is permuted: 1.929<br>Drop-out loss change: +1.55",
          "Model: RandomForestRegressor loss after<br>variable: GENDER is permuted: 1.823<br>Drop-out loss change: +1.444"
         ],
         "marker": {
          "color": "#46bac2"
         },
         "orientation": "h",
         "showlegend": false,
         "text": [
          "+3.353",
          "+1.582",
          "+1.55",
          "+1.444"
         ],
         "textposition": "outside",
         "type": "bar",
         "x": [
          3.3532656503292393,
          1.5823833851832931,
          1.5497059416276364,
          1.4435442091153288
         ],
         "xaxis": "x",
         "y": [
          "POSITION",
          "AGE",
          "CODGEO",
          "GENDER"
         ],
         "yaxis": "y"
        }
       ],
       "layout": {
        "annotations": [
         {
          "font": {
           "size": 16
          },
          "showarrow": false,
          "text": "RandomForestRegressor",
          "x": 0.5,
          "xanchor": "center",
          "xref": "paper",
          "y": 1,
          "yanchor": "bottom",
          "yref": "paper"
         },
         {
          "font": {
           "size": 16
          },
          "showarrow": false,
          "text": "drop-out loss",
          "x": 0.5,
          "xanchor": "center",
          "xref": "paper",
          "y": 0,
          "yanchor": "top",
          "yref": "paper",
          "yshift": -30
         }
        ],
        "font": {
         "color": "#371ea3"
        },
        "height": 263,
        "margin": {
         "b": 71,
         "r": 30,
         "t": 78
        },
        "shapes": [
         {
          "line": {
           "color": "#371ea3",
           "dash": "dot",
           "width": 1.5
          },
          "type": "line",
          "x0": 0.3796140009642606,
          "x1": 0.3796140009642606,
          "xref": "x",
          "y0": -1,
          "y1": 4,
          "yref": "y"
         }
        ],
        "template": {
         "data": {
          "scatter": [
           {
            "type": "scatter"
           }
          ]
         }
        },
        "title": {
         "text": "Variable Importance",
         "x": 0.15
        },
        "xaxis": {
         "anchor": "y",
         "automargin": true,
         "domain": [
          0,
          1
         ],
         "fixedrange": true,
         "gridwidth": 2,
         "range": [
          -0.12337584658512529,
          4.235869498842886
         ],
         "tickcolor": "white",
         "ticklen": 3,
         "ticks": "outside",
         "type": "linear",
         "zeroline": false
        },
        "yaxis": {
         "anchor": "x",
         "automargin": true,
         "autorange": "reversed",
         "domain": [
          0,
          1
         ],
         "fixedrange": true,
         "gridwidth": 2,
         "tickcolor": "white",
         "ticklen": 10,
         "ticks": "outside",
         "type": "category"
        }
       }
      },
      "text/html": [
       "<div>                            <div id=\"7b40143d-2519-466e-8dfd-be38ac9ed8f1\" class=\"plotly-graph-div\" style=\"height:263.0px; width:100%;\"></div>            <script type=\"text/javascript\">                require([\"plotly\"], function(Plotly) {                    window.PLOTLYENV=window.PLOTLYENV || {};                                    if (document.getElementById(\"7b40143d-2519-466e-8dfd-be38ac9ed8f1\")) {                    Plotly.newPlot(                        \"7b40143d-2519-466e-8dfd-be38ac9ed8f1\",                        [{\"base\":0.3796140009642606,\"hoverinfo\":\"text\",\"hoverlabel\":{\"bgcolor\":\"rgba(0,0,0,0.8)\"},\"hovertext\":[\"Model: RandomForestRegressor loss after<br>variable: POSITION is permuted: 3.733<br>Drop-out loss change: +3.353\",\"Model: RandomForestRegressor loss after<br>variable: AGE is permuted: 1.962<br>Drop-out loss change: +1.582\",\"Model: RandomForestRegressor loss after<br>variable: CODGEO is permuted: 1.929<br>Drop-out loss change: +1.55\",\"Model: RandomForestRegressor loss after<br>variable: GENDER is permuted: 1.823<br>Drop-out loss change: +1.444\"],\"marker\":{\"color\":\"#46bac2\"},\"orientation\":\"h\",\"showlegend\":false,\"text\":[\"+3.353\",\"+1.582\",\"+1.55\",\"+1.444\"],\"textposition\":\"outside\",\"x\":[3.3532656503292393,1.5823833851832931,1.5497059416276364,1.4435442091153288],\"y\":[\"POSITION\",\"AGE\",\"CODGEO\",\"GENDER\"],\"type\":\"bar\",\"xaxis\":\"x\",\"yaxis\":\"y\"}],                        {\"template\":{\"data\":{\"scatter\":[{\"type\":\"scatter\"}]}},\"xaxis\":{\"anchor\":\"y\",\"domain\":[0.0,1.0],\"type\":\"linear\",\"gridwidth\":2,\"zeroline\":false,\"automargin\":true,\"ticks\":\"outside\",\"tickcolor\":\"white\",\"ticklen\":3,\"fixedrange\":true,\"range\":[-0.12337584658512529,4.235869498842886]},\"yaxis\":{\"anchor\":\"x\",\"domain\":[0.0,1.0],\"type\":\"category\",\"autorange\":\"reversed\",\"gridwidth\":2,\"automargin\":true,\"ticks\":\"outside\",\"tickcolor\":\"white\",\"ticklen\":10,\"fixedrange\":true},\"annotations\":[{\"font\":{\"size\":16},\"showarrow\":false,\"text\":\"RandomForestRegressor\",\"x\":0.5,\"xanchor\":\"center\",\"xref\":\"paper\",\"y\":1.0,\"yanchor\":\"bottom\",\"yref\":\"paper\"},{\"font\":{\"size\":16},\"showarrow\":false,\"text\":\"drop-out loss\",\"x\":0.5,\"xanchor\":\"center\",\"xref\":\"paper\",\"y\":0,\"yanchor\":\"top\",\"yref\":\"paper\",\"yshift\":-30}],\"shapes\":[{\"line\":{\"color\":\"#371ea3\",\"dash\":\"dot\",\"width\":1.5},\"type\":\"line\",\"x0\":0.3796140009642606,\"x1\":0.3796140009642606,\"xref\":\"x\",\"y0\":-1,\"y1\":4,\"yref\":\"y\"}],\"title\":{\"text\":\"Variable Importance\",\"x\":0.15},\"font\":{\"color\":\"#371ea3\"},\"margin\":{\"t\":78,\"b\":71,\"r\":30},\"height\":263.0},                        {\"displaylogo\": false, \"staticPlot\": false, \"toImageButtonOptions\": {\"height\": null, \"width\": null}, \"modeBarButtonsToRemove\": [\"sendDataToCloud\", \"lasso2d\", \"autoScale2d\", \"select2d\", \"zoom2d\", \"pan2d\", \"zoomIn2d\", \"zoomOut2d\", \"resetScale2d\", \"toggleSpikelines\", \"hoverCompareCartesian\", \"hoverClosestCartesian\"], \"responsive\": true}                    ).then(function(){\n",
       "                            \n",
       "var gd = document.getElementById('7b40143d-2519-466e-8dfd-be38ac9ed8f1');\n",
       "var x = new MutationObserver(function (mutations, observer) {{\n",
       "        var display = window.getComputedStyle(gd).display;\n",
       "        if (!display || display === 'none') {{\n",
       "            console.log([gd, 'removed!']);\n",
       "            Plotly.purge(gd);\n",
       "            observer.disconnect();\n",
       "        }}\n",
       "}});\n",
       "\n",
       "// Listen for the removal of the full notebook cells\n",
       "var notebookContainer = gd.closest('#notebook-container');\n",
       "if (notebookContainer) {{\n",
       "    x.observe(notebookContainer, {childList: true});\n",
       "}}\n",
       "\n",
       "// Listen for the clearing of the current output cell\n",
       "var outputEl = gd.closest('.output');\n",
       "if (outputEl) {{\n",
       "    x.observe(outputEl, {childList: true});\n",
       "}}\n",
       "\n",
       "                        })                };                });            </script>        </div>"
      ]
     },
     "metadata": {},
     "output_type": "display_data"
    },
    {
     "data": {
      "application/vnd.plotly.v1+json": {
       "config": {
        "plotlyServerURL": "https://plot.ly"
       },
       "data": [
        {
         "line": {
          "shape": "hv"
         },
         "marker": {
          "color": "#46bac2"
         },
         "name": "RandomForestRegressor",
         "type": "scatter",
         "x": [
          0,
          0.004012589573822101,
          0.017175175028505966,
          0.020193359181265705,
          0.02799682841372549,
          0.06377636050875586,
          0.08168733966900027,
          0.08692155193737483,
          0.08951892918982059,
          0.09970117860245895,
          0.10521357565527656,
          0.14011859347724634,
          0.15291822484978515,
          0.15396263409020425,
          0.19382833192329418,
          0.19609831563122482,
          0.2040595001964755,
          0.21831214987355113,
          0.25339733927027175,
          0.2630298364889525,
          0.3196107412322352,
          0.33237455930629145,
          0.33682732638753876,
          0.35482386258245,
          0.3762043081533403,
          0.3824033023187547,
          0.4249860588297266,
          0.42515682331168864,
          0.42620107163587967,
          0.4303061125407179,
          0.46989568695910006,
          0.4767079849854545,
          0.487941897715787,
          0.48809912934801325,
          0.4941204258889786,
          0.4970199087191619,
          0.49929173881753525,
          0.5122882075469669,
          0.5237134255358218,
          0.5290740713120564,
          0.5359464754634983,
          0.5748341749754933,
          0.5888178185731279,
          0.5889692808923056,
          0.5901772130979194,
          0.5942535391615933,
          0.5981422334410782,
          0.6042453619823452,
          0.6195707655419046,
          0.6237359746883712,
          0.6313771561892,
          0.6447351953221199,
          0.6631385373758897,
          0.6708677140262655,
          0.6757417881127364,
          0.6766005964339474,
          0.6831862620828222,
          0.6903047896065537,
          0.7070850580010126,
          0.7282539950125494,
          0.7289393171646733,
          0.7348164193744784,
          0.7394628777085028,
          0.7555031006075009,
          0.7724177619443029,
          0.7753144045682319,
          0.7770262028962227,
          0.7822886145152187,
          0.7851715824515055,
          0.7869975032717912,
          0.807018775206916,
          0.8174421750328792,
          0.8280154375480316,
          0.8347320598976755,
          0.8354934818455045,
          0.8397709572614152,
          0.8453210531727832,
          0.8479379923621536,
          0.8534351377375065,
          0.8572959907742898,
          0.8589148548775835,
          0.8640012641313688,
          0.8673295688003708,
          0.8812247327636872,
          0.8814717261144105,
          0.882331185647739,
          0.8908858411342662,
          0.8930661096733805,
          0.8993442719313939,
          0.9126424587448295,
          0.9165480971557265,
          0.9244167788784788,
          0.9259239764949007,
          0.9385739388968561,
          0.9393680758693793,
          0.9469468266810388,
          0.9514352123382349,
          0.9655181924172153,
          0.9691408268417817,
          0.9709996104486204,
          0.9839566955920085,
          0.9991895393522973
         ],
         "y": [
          0,
          0.0038408836907259407,
          0.01656677696282928,
          0.019495122230994907,
          0.027072640371038452,
          0.0619182658591233,
          0.07940599883266941,
          0.08451745503838651,
          0.08705485423851593,
          0.09701189876741918,
          0.10240440572668541,
          0.13659581671656623,
          0.14915405801934217,
          0.1501808705729295,
          0.1893652528581826,
          0.1915984906511841,
          0.19943556354894248,
          0.213479352938205,
          0.24807551556272156,
          0.2575896374299867,
          0.3135351390563399,
          0.3261731394495249,
          0.33058120872335955,
          0.3484197020370585,
          0.3696280415955219,
          0.37578275827490115,
          0.4181017619802173,
          0.4182717119670477,
          0.41930967812770054,
          0.423394696184174,
          0.4628311887221165,
          0.4696235073016667,
          0.48084016579634636,
          0.4809975432365061,
          0.4870097780821357,
          0.48990696691099456,
          0.4921758293865335,
          0.5051656085918842,
          0.5165939064672327,
          0.5219584616009495,
          0.5288405304350448,
          0.567828409616441,
          0.5818596470323779,
          0.5820116645550794,
          0.583224305652276,
          0.5873165558118825,
          0.5912231856012141,
          0.5973566579936905,
          0.6127587770400089,
          0.616944906164258,
          0.6246316240588868,
          0.638070347355347,
          0.6566032661489669,
          0.6643943411880613,
          0.6693068521922999,
          0.6701725373376758,
          0.67681082109769,
          0.6839893667976698,
          0.700923961847538,
          0.722308804131967,
          0.7230020107367288,
          0.7289481020365177,
          0.7336491491047428,
          0.7498962129463482,
          0.7670573922365383,
          0.7699971548208464,
          0.7717344227744733,
          0.7770755331614129,
          0.7800025914260876,
          0.7818571867428911,
          0.802198409495531,
          0.8127977070575277,
          0.8235588391279403,
          0.8303979085163937,
          0.8311731179121429,
          0.8355313654186177,
          0.8411849581825652,
          0.8438535622325076,
          0.8494579618776156,
          0.8533952415862878,
          0.8550461700105388,
          0.8602350704213274,
          0.8636323794503684,
          0.8778187810208395,
          0.8780708537125745,
          0.8789484469640111,
          0.8876872737987013,
          0.8899162844228798,
          0.8963367041336177,
          0.9099458843751645,
          0.9139473776570018,
          0.9220149987232918,
          0.9235621846139926,
          0.9365578359208575,
          0.9373747419585581,
          0.9451730058693228,
          0.9497950158658033,
          0.964314149416651,
          0.9680527209269775,
          0.9699717563713481,
          0.9833657677618393,
          0.9991566255251073
         ]
        }
       ],
       "layout": {
        "font": {
         "color": "#371ea3"
        },
        "margin": {
         "b": 71,
         "r": 30,
         "t": 78
        },
        "template": {
         "data": {
          "scatter": [
           {
            "type": "scatter"
           }
          ]
         }
        },
        "title": {
         "text": "Receiver Operating Characteristic",
         "x": 0.15
        },
        "xaxis": {
         "automargin": true,
         "fixedrange": true,
         "gridwidth": 2,
         "tickcolor": "white",
         "ticklen": 10,
         "ticks": "outside",
         "title": {
          "text": "False positive rate"
         },
         "type": "linear",
         "zeroline": false
        },
        "yaxis": {
         "automargin": true,
         "fixedrange": true,
         "gridwidth": 2,
         "tickcolor": "white",
         "ticklen": 10,
         "ticks": "outside",
         "title": {
          "text": "True positive rate"
         },
         "type": "linear",
         "zeroline": false
        }
       }
      },
      "text/html": [
       "<div>                            <div id=\"1140e918-1bef-459b-b288-256956d976b8\" class=\"plotly-graph-div\" style=\"height:525px; width:100%;\"></div>            <script type=\"text/javascript\">                require([\"plotly\"], function(Plotly) {                    window.PLOTLYENV=window.PLOTLYENV || {};                                    if (document.getElementById(\"1140e918-1bef-459b-b288-256956d976b8\")) {                    Plotly.newPlot(                        \"1140e918-1bef-459b-b288-256956d976b8\",                        [{\"line\":{\"shape\":\"hv\"},\"marker\":{\"color\":\"#46bac2\"},\"name\":\"RandomForestRegressor\",\"x\":[0,0.004012589573822101,0.017175175028505966,0.020193359181265705,0.02799682841372549,0.06377636050875586,0.08168733966900027,0.08692155193737483,0.08951892918982059,0.09970117860245895,0.10521357565527656,0.14011859347724634,0.15291822484978515,0.15396263409020425,0.19382833192329418,0.19609831563122482,0.2040595001964755,0.21831214987355113,0.25339733927027175,0.2630298364889525,0.3196107412322352,0.33237455930629145,0.33682732638753876,0.35482386258245,0.3762043081533403,0.3824033023187547,0.4249860588297266,0.42515682331168864,0.42620107163587967,0.4303061125407179,0.46989568695910006,0.4767079849854545,0.487941897715787,0.48809912934801325,0.4941204258889786,0.4970199087191619,0.49929173881753525,0.5122882075469669,0.5237134255358218,0.5290740713120564,0.5359464754634983,0.5748341749754933,0.5888178185731279,0.5889692808923056,0.5901772130979194,0.5942535391615933,0.5981422334410782,0.6042453619823452,0.6195707655419046,0.6237359746883712,0.6313771561892,0.6447351953221199,0.6631385373758897,0.6708677140262655,0.6757417881127364,0.6766005964339474,0.6831862620828222,0.6903047896065537,0.7070850580010126,0.7282539950125494,0.7289393171646733,0.7348164193744784,0.7394628777085028,0.7555031006075009,0.7724177619443029,0.7753144045682319,0.7770262028962227,0.7822886145152187,0.7851715824515055,0.7869975032717912,0.807018775206916,0.8174421750328792,0.8280154375480316,0.8347320598976755,0.8354934818455045,0.8397709572614152,0.8453210531727832,0.8479379923621536,0.8534351377375065,0.8572959907742898,0.8589148548775835,0.8640012641313688,0.8673295688003708,0.8812247327636872,0.8814717261144105,0.882331185647739,0.8908858411342662,0.8930661096733805,0.8993442719313939,0.9126424587448295,0.9165480971557265,0.9244167788784788,0.9259239764949007,0.9385739388968561,0.9393680758693793,0.9469468266810388,0.9514352123382349,0.9655181924172153,0.9691408268417817,0.9709996104486204,0.9839566955920085,0.9991895393522973],\"y\":[0,0.0038408836907259407,0.01656677696282928,0.019495122230994907,0.027072640371038452,0.0619182658591233,0.07940599883266941,0.08451745503838651,0.08705485423851593,0.09701189876741918,0.10240440572668541,0.13659581671656623,0.14915405801934217,0.1501808705729295,0.1893652528581826,0.1915984906511841,0.19943556354894248,0.213479352938205,0.24807551556272156,0.2575896374299867,0.3135351390563399,0.3261731394495249,0.33058120872335955,0.3484197020370585,0.3696280415955219,0.37578275827490115,0.4181017619802173,0.4182717119670477,0.41930967812770054,0.423394696184174,0.4628311887221165,0.4696235073016667,0.48084016579634636,0.4809975432365061,0.4870097780821357,0.48990696691099456,0.4921758293865335,0.5051656085918842,0.5165939064672327,0.5219584616009495,0.5288405304350448,0.567828409616441,0.5818596470323779,0.5820116645550794,0.583224305652276,0.5873165558118825,0.5912231856012141,0.5973566579936905,0.6127587770400089,0.616944906164258,0.6246316240588868,0.638070347355347,0.6566032661489669,0.6643943411880613,0.6693068521922999,0.6701725373376758,0.67681082109769,0.6839893667976698,0.700923961847538,0.722308804131967,0.7230020107367288,0.7289481020365177,0.7336491491047428,0.7498962129463482,0.7670573922365383,0.7699971548208464,0.7717344227744733,0.7770755331614129,0.7800025914260876,0.7818571867428911,0.802198409495531,0.8127977070575277,0.8235588391279403,0.8303979085163937,0.8311731179121429,0.8355313654186177,0.8411849581825652,0.8438535622325076,0.8494579618776156,0.8533952415862878,0.8550461700105388,0.8602350704213274,0.8636323794503684,0.8778187810208395,0.8780708537125745,0.8789484469640111,0.8876872737987013,0.8899162844228798,0.8963367041336177,0.9099458843751645,0.9139473776570018,0.9220149987232918,0.9235621846139926,0.9365578359208575,0.9373747419585581,0.9451730058693228,0.9497950158658033,0.964314149416651,0.9680527209269775,0.9699717563713481,0.9833657677618393,0.9991566255251073],\"type\":\"scatter\"}],                        {\"template\":{\"data\":{\"scatter\":[{\"type\":\"scatter\"}]}},\"yaxis\":{\"title\":{\"text\":\"True positive rate\"},\"type\":\"linear\",\"gridwidth\":2,\"zeroline\":false,\"automargin\":true,\"ticks\":\"outside\",\"tickcolor\":\"white\",\"ticklen\":10,\"fixedrange\":true},\"xaxis\":{\"title\":{\"text\":\"False positive rate\"},\"type\":\"linear\",\"gridwidth\":2,\"zeroline\":false,\"automargin\":true,\"ticks\":\"outside\",\"tickcolor\":\"white\",\"ticklen\":10,\"fixedrange\":true},\"title\":{\"text\":\"Receiver Operating Characteristic\",\"x\":0.15},\"font\":{\"color\":\"#371ea3\"},\"margin\":{\"t\":78,\"b\":71,\"r\":30}},                        {\"responsive\": true}                    ).then(function(){\n",
       "                            \n",
       "var gd = document.getElementById('1140e918-1bef-459b-b288-256956d976b8');\n",
       "var x = new MutationObserver(function (mutations, observer) {{\n",
       "        var display = window.getComputedStyle(gd).display;\n",
       "        if (!display || display === 'none') {{\n",
       "            console.log([gd, 'removed!']);\n",
       "            Plotly.purge(gd);\n",
       "            observer.disconnect();\n",
       "        }}\n",
       "}});\n",
       "\n",
       "// Listen for the removal of the full notebook cells\n",
       "var notebookContainer = gd.closest('#notebook-container');\n",
       "if (notebookContainer) {{\n",
       "    x.observe(notebookContainer, {childList: true});\n",
       "}}\n",
       "\n",
       "// Listen for the clearing of the current output cell\n",
       "var outputEl = gd.closest('.output');\n",
       "if (outputEl) {{\n",
       "    x.observe(outputEl, {childList: true});\n",
       "}}\n",
       "\n",
       "                        })                };                });            </script>        </div>"
      ]
     },
     "metadata": {},
     "output_type": "display_data"
    }
   ],
   "source": [
    "# Plotting importance of features / dependence_plot to see interaction between different features\n",
    "\n",
    "explainer.model_parts().plot(max_vars=5)\n",
    "\n",
    "explainer.model_performance(model_type='regression').plot(geom='roc')\n",
    "\n",
    "# As already mentionned before the conclusion,\n",
    "# We see that Position is the most important feature to evaluate the wage with the Random Forest Predictor ,\n",
    "# then the Age and the Gender play a small role in definition of wage. Nethertheless,\n",
    "# it underlines the Gender wage gap in France.\n",
    "# Location (CODGEO) can play a role in definition of wages (large cities can be more dynamic about employment)\n"
   ]
  },
  {
   "cell_type": "code",
   "execution_count": 106,
   "metadata": {},
   "outputs": [
    {
     "data": {
      "application/vnd.plotly.v1+json": {
       "config": {
        "displaylogo": false,
        "modeBarButtonsToRemove": [
         "sendDataToCloud",
         "lasso2d",
         "autoScale2d",
         "select2d",
         "zoom2d",
         "pan2d",
         "zoomIn2d",
         "zoomOut2d",
         "resetScale2d",
         "toggleSpikelines",
         "hoverCompareCartesian",
         "hoverClosestCartesian"
        ],
        "plotlyServerURL": "https://plot.ly",
        "staticPlot": false,
        "toImageButtonOptions": {
         "height": null,
         "width": null
        }
       },
       "data": [
        {
         "base": 14.091934800888948,
         "hoverinfo": "text",
         "hoverlabel": {
          "bgcolor": "rgba(0,0,0,0.8)"
         },
         "hovertext": [
          "Average response: 14.092<br>Prediction: 13.067<br>AGE = 1.0<br>decreases average response <br>by 1.529",
          "Average response: 14.092<br>Prediction: 13.067<br>GENDER = 2.0<br>increases average response <br>by 0.919",
          "Average response: 14.092<br>Prediction: 13.067<br>CODGEO = 584.0<br>decreases average response <br>by 0.38",
          "Average response: 14.092<br>Prediction: 13.067<br>POSITION = 3.0<br>decreases average response <br>by 0.034"
         ],
         "marker": {
          "color": [
           "#f05a71",
           "#8bdcbe",
           "#f05a71",
           "#f05a71"
          ]
         },
         "orientation": "h",
         "showlegend": false,
         "text": [
          "-1.529",
          "+0.919",
          "-0.38",
          "-0.034"
         ],
         "textposition": "outside",
         "type": "bar",
         "x": [
          -1.529,
          0.919,
          -0.38,
          -0.034
         ],
         "xaxis": "x",
         "y": [
          "AGE = 1.0",
          "GENDER = 2.0",
          "CODGEO = 584.0",
          "POSITION = 3.0"
         ],
         "yaxis": "y"
        }
       ],
       "layout": {
        "annotations": [
         {
          "font": {
           "size": 16
          },
          "showarrow": false,
          "text": "RandomForestRegressor",
          "x": 0.5,
          "xanchor": "center",
          "xref": "paper",
          "y": 1,
          "yanchor": "bottom",
          "yref": "paper"
         },
         {
          "font": {
           "size": 16
          },
          "showarrow": false,
          "text": "contribution",
          "x": 0.5,
          "xanchor": "center",
          "xref": "paper",
          "y": 0,
          "yanchor": "top",
          "yref": "paper",
          "yshift": -30
         }
        ],
        "font": {
         "color": "#371ea3"
        },
        "height": 233,
        "margin": {
         "b": 71,
         "r": 30,
         "t": 78
        },
        "shapes": [
         {
          "line": {
           "color": "#371ea3",
           "dash": "dot",
           "width": 1.5
          },
          "type": "line",
          "x0": 14.091934800888948,
          "x1": 14.091934800888948,
          "xref": "x",
          "y0": -1,
          "y1": 4,
          "yref": "y"
         }
        ],
        "template": {
         "data": {
          "scatter": [
           {
            "type": "scatter"
           }
          ]
         }
        },
        "title": {
         "text": "Shapley Values",
         "x": 0.15
        },
        "xaxis": {
         "anchor": "y",
         "automargin": true,
         "domain": [
          0,
          1
         ],
         "fixedrange": true,
         "gridwidth": 2,
         "range": [
          0,
          1
         ],
         "tickcolor": "white",
         "ticklen": 3,
         "ticks": "outside",
         "type": "linear",
         "zeroline": false
        },
        "yaxis": {
         "anchor": "x",
         "automargin": true,
         "autorange": "reversed",
         "domain": [
          0,
          1
         ],
         "fixedrange": true,
         "gridwidth": 2,
         "tickcolor": "white",
         "ticklen": 10,
         "ticks": "outside",
         "type": "category"
        }
       }
      },
      "text/html": [
       "<div>                            <div id=\"23853f74-2db4-4e79-bad3-5bc9e0c5ef7e\" class=\"plotly-graph-div\" style=\"height:233.0px; width:100%;\"></div>            <script type=\"text/javascript\">                require([\"plotly\"], function(Plotly) {                    window.PLOTLYENV=window.PLOTLYENV || {};                                    if (document.getElementById(\"23853f74-2db4-4e79-bad3-5bc9e0c5ef7e\")) {                    Plotly.newPlot(                        \"23853f74-2db4-4e79-bad3-5bc9e0c5ef7e\",                        [{\"base\":14.091934800888948,\"hoverinfo\":\"text\",\"hoverlabel\":{\"bgcolor\":\"rgba(0,0,0,0.8)\"},\"hovertext\":[\"Average response: 14.092<br>Prediction: 13.067<br>AGE = 1.0<br>decreases average response <br>by 1.529\",\"Average response: 14.092<br>Prediction: 13.067<br>GENDER = 2.0<br>increases average response <br>by 0.919\",\"Average response: 14.092<br>Prediction: 13.067<br>CODGEO = 584.0<br>decreases average response <br>by 0.38\",\"Average response: 14.092<br>Prediction: 13.067<br>POSITION = 3.0<br>decreases average response <br>by 0.034\"],\"marker\":{\"color\":[\"#f05a71\",\"#8bdcbe\",\"#f05a71\",\"#f05a71\"]},\"orientation\":\"h\",\"showlegend\":false,\"text\":[\"-1.529\",\"+0.919\",\"-0.38\",\"-0.034\"],\"textposition\":\"outside\",\"x\":[-1.529,0.919,-0.38,-0.034],\"y\":[\"AGE = 1.0\",\"GENDER = 2.0\",\"CODGEO = 584.0\",\"POSITION = 3.0\"],\"type\":\"bar\",\"xaxis\":\"x\",\"yaxis\":\"y\"}],                        {\"template\":{\"data\":{\"scatter\":[{\"type\":\"scatter\"}]}},\"xaxis\":{\"anchor\":\"y\",\"domain\":[0.0,1.0],\"type\":\"linear\",\"gridwidth\":2,\"zeroline\":false,\"automargin\":true,\"ticks\":\"outside\",\"tickcolor\":\"white\",\"ticklen\":3,\"fixedrange\":true,\"range\":[0,1]},\"yaxis\":{\"anchor\":\"x\",\"domain\":[0.0,1.0],\"type\":\"category\",\"autorange\":\"reversed\",\"gridwidth\":2,\"automargin\":true,\"ticks\":\"outside\",\"tickcolor\":\"white\",\"ticklen\":10,\"fixedrange\":true},\"annotations\":[{\"font\":{\"size\":16},\"showarrow\":false,\"text\":\"RandomForestRegressor\",\"x\":0.5,\"xanchor\":\"center\",\"xref\":\"paper\",\"y\":1.0,\"yanchor\":\"bottom\",\"yref\":\"paper\"},{\"font\":{\"size\":16},\"showarrow\":false,\"text\":\"contribution\",\"x\":0.5,\"xanchor\":\"center\",\"xref\":\"paper\",\"y\":0,\"yanchor\":\"top\",\"yref\":\"paper\",\"yshift\":-30}],\"shapes\":[{\"line\":{\"color\":\"#371ea3\",\"dash\":\"dot\",\"width\":1.5},\"type\":\"line\",\"x0\":14.091934800888948,\"x1\":14.091934800888948,\"xref\":\"x\",\"y0\":-1,\"y1\":4,\"yref\":\"y\"}],\"title\":{\"text\":\"Shapley Values\",\"x\":0.15},\"font\":{\"color\":\"#371ea3\"},\"margin\":{\"t\":78,\"b\":71,\"r\":30},\"height\":233.0},                        {\"displaylogo\": false, \"staticPlot\": false, \"toImageButtonOptions\": {\"height\": null, \"width\": null}, \"modeBarButtonsToRemove\": [\"sendDataToCloud\", \"lasso2d\", \"autoScale2d\", \"select2d\", \"zoom2d\", \"pan2d\", \"zoomIn2d\", \"zoomOut2d\", \"resetScale2d\", \"toggleSpikelines\", \"hoverCompareCartesian\", \"hoverClosestCartesian\"], \"responsive\": true}                    ).then(function(){\n",
       "                            \n",
       "var gd = document.getElementById('23853f74-2db4-4e79-bad3-5bc9e0c5ef7e');\n",
       "var x = new MutationObserver(function (mutations, observer) {{\n",
       "        var display = window.getComputedStyle(gd).display;\n",
       "        if (!display || display === 'none') {{\n",
       "            console.log([gd, 'removed!']);\n",
       "            Plotly.purge(gd);\n",
       "            observer.disconnect();\n",
       "        }}\n",
       "}});\n",
       "\n",
       "// Listen for the removal of the full notebook cells\n",
       "var notebookContainer = gd.closest('#notebook-container');\n",
       "if (notebookContainer) {{\n",
       "    x.observe(notebookContainer, {childList: true});\n",
       "}}\n",
       "\n",
       "// Listen for the clearing of the current output cell\n",
       "var outputEl = gd.closest('.output');\n",
       "if (outputEl) {{\n",
       "    x.observe(outputEl, {childList: true});\n",
       "}}\n",
       "\n",
       "                        })                };                });            </script>        </div>"
      ]
     },
     "metadata": {},
     "output_type": "display_data"
    },
    {
     "data": {
      "application/vnd.plotly.v1+json": {
       "config": {
        "displaylogo": false,
        "modeBarButtonsToRemove": [
         "sendDataToCloud",
         "lasso2d",
         "autoScale2d",
         "select2d",
         "zoom2d",
         "pan2d",
         "zoomIn2d",
         "zoomOut2d",
         "resetScale2d",
         "toggleSpikelines",
         "hoverCompareCartesian",
         "hoverClosestCartesian"
        ],
        "plotlyServerURL": "https://plot.ly",
        "staticPlot": false,
        "toImageButtonOptions": {
         "height": null,
         "width": null
        }
       },
       "data": [
        {
         "base": 14.091934800888948,
         "connector": {
          "line": {
           "color": "#371ea3",
           "dash": "solid",
           "width": 1
          },
          "mode": "spanning"
         },
         "decreasing": {
          "marker": {
           "color": "#f05a71"
          }
         },
         "hoverinfo": "text+delta",
         "hoverlabel": {
          "bgcolor": "rgba(0,0,0,0.8)"
         },
         "hovertext": [
          "Average response: 14.092<br>Prediction: 13.067",
          "AGE = 1.0<br>decreases average response by",
          "GENDER = 2.0<br>increases average response by",
          "CODGEO = 584.0<br>decreases average response by",
          "POSITION = 3.0<br>decreases average response by",
          "Average response: 14.092<br>Prediction: 13.067"
         ],
         "increasing": {
          "marker": {
           "color": "#8bdcbe"
          }
         },
         "measure": [
          "relative",
          "relative",
          "relative",
          "relative",
          "relative",
          "total"
         ],
         "orientation": "h",
         "showlegend": false,
         "text": [
          "14.092",
          "-1.563",
          "+0.668",
          "-0.041",
          "-0.089",
          "13.067"
         ],
         "textposition": "outside",
         "totals": {
          "marker": {
           "color": "#371ea3"
          }
         },
         "type": "waterfall",
         "x": [
          0,
          -1.563,
          0.668,
          -0.041,
          -0.089,
          -1.025
         ],
         "xaxis": "x",
         "y": [
          "intercept",
          "AGE = 1.0",
          "GENDER = 2.0",
          "CODGEO = 584.0",
          "POSITION = 3.0",
          "prediction"
         ],
         "yaxis": "y"
        }
       ],
       "layout": {
        "annotations": [
         {
          "font": {
           "size": 16
          },
          "showarrow": false,
          "text": "RandomForestRegressor",
          "x": 0.5,
          "xanchor": "center",
          "xref": "paper",
          "y": 1,
          "yanchor": "bottom",
          "yref": "paper"
         },
         {
          "font": {
           "size": 16
          },
          "showarrow": false,
          "text": "contribution",
          "x": 0.5,
          "xanchor": "center",
          "xref": "paper",
          "y": 0,
          "yanchor": "top",
          "yref": "paper",
          "yshift": -30
         }
        ],
        "font": {
         "color": "#371ea3"
        },
        "height": 273,
        "margin": {
         "b": 71,
         "r": 30,
         "t": 78
        },
        "shapes": [
         {
          "line": {
           "color": "#371ea3",
           "dash": "dot",
           "width": 1.5
          },
          "type": "line",
          "x0": 14.091934800888948,
          "x1": 14.091934800888948,
          "xref": "x",
          "y0": -1,
          "y1": 6,
          "yref": "y"
         }
        ],
        "template": {
         "data": {
          "scatter": [
           {
            "type": "scatter"
           }
          ]
         }
        },
        "title": {
         "text": "Break Down",
         "x": 0.15
        },
        "xaxis": {
         "anchor": "y",
         "automargin": true,
         "domain": [
          0,
          1
         ],
         "fixedrange": true,
         "gridwidth": 2,
         "range": [
          12.29455,
          14.326450000000001
         ],
         "tickcolor": "white",
         "ticklen": 3,
         "ticks": "outside",
         "type": "linear",
         "zeroline": false
        },
        "yaxis": {
         "anchor": "x",
         "automargin": true,
         "autorange": "reversed",
         "domain": [
          0,
          1
         ],
         "fixedrange": true,
         "gridwidth": 2,
         "tickcolor": "white",
         "ticklen": 10,
         "ticks": "outside",
         "type": "category"
        }
       }
      },
      "text/html": [
       "<div>                            <div id=\"33484e2c-e84c-4b46-bb67-f933355a398d\" class=\"plotly-graph-div\" style=\"height:273.0px; width:100%;\"></div>            <script type=\"text/javascript\">                require([\"plotly\"], function(Plotly) {                    window.PLOTLYENV=window.PLOTLYENV || {};                                    if (document.getElementById(\"33484e2c-e84c-4b46-bb67-f933355a398d\")) {                    Plotly.newPlot(                        \"33484e2c-e84c-4b46-bb67-f933355a398d\",                        [{\"base\":14.091934800888948,\"connector\":{\"line\":{\"color\":\"#371ea3\",\"dash\":\"solid\",\"width\":1},\"mode\":\"spanning\"},\"decreasing\":{\"marker\":{\"color\":\"#f05a71\"}},\"hoverinfo\":\"text+delta\",\"hoverlabel\":{\"bgcolor\":\"rgba(0,0,0,0.8)\"},\"hovertext\":[\"Average response: 14.092<br>Prediction: 13.067\",\"AGE = 1.0<br>decreases average response by\",\"GENDER = 2.0<br>increases average response by\",\"CODGEO = 584.0<br>decreases average response by\",\"POSITION = 3.0<br>decreases average response by\",\"Average response: 14.092<br>Prediction: 13.067\"],\"increasing\":{\"marker\":{\"color\":\"#8bdcbe\"}},\"measure\":[\"relative\",\"relative\",\"relative\",\"relative\",\"relative\",\"total\"],\"orientation\":\"h\",\"showlegend\":false,\"text\":[\"14.092\",\"-1.563\",\"+0.668\",\"-0.041\",\"-0.089\",\"13.067\"],\"textposition\":\"outside\",\"totals\":{\"marker\":{\"color\":\"#371ea3\"}},\"x\":[0.0,-1.563,0.668,-0.041,-0.089,-1.025],\"y\":[\"intercept\",\"AGE = 1.0\",\"GENDER = 2.0\",\"CODGEO = 584.0\",\"POSITION = 3.0\",\"prediction\"],\"type\":\"waterfall\",\"xaxis\":\"x\",\"yaxis\":\"y\"}],                        {\"template\":{\"data\":{\"scatter\":[{\"type\":\"scatter\"}]}},\"xaxis\":{\"anchor\":\"y\",\"domain\":[0.0,1.0],\"type\":\"linear\",\"gridwidth\":2,\"zeroline\":false,\"automargin\":true,\"ticks\":\"outside\",\"tickcolor\":\"white\",\"ticklen\":3,\"fixedrange\":true,\"range\":[12.29455,14.326450000000001]},\"yaxis\":{\"anchor\":\"x\",\"domain\":[0.0,1.0],\"type\":\"category\",\"autorange\":\"reversed\",\"gridwidth\":2,\"automargin\":true,\"ticks\":\"outside\",\"tickcolor\":\"white\",\"ticklen\":10,\"fixedrange\":true},\"annotations\":[{\"font\":{\"size\":16},\"showarrow\":false,\"text\":\"RandomForestRegressor\",\"x\":0.5,\"xanchor\":\"center\",\"xref\":\"paper\",\"y\":1.0,\"yanchor\":\"bottom\",\"yref\":\"paper\"},{\"font\":{\"size\":16},\"showarrow\":false,\"text\":\"contribution\",\"x\":0.5,\"xanchor\":\"center\",\"xref\":\"paper\",\"y\":0,\"yanchor\":\"top\",\"yref\":\"paper\",\"yshift\":-30}],\"shapes\":[{\"line\":{\"color\":\"#371ea3\",\"dash\":\"dot\",\"width\":1.5},\"type\":\"line\",\"x0\":14.091934800888948,\"x1\":14.091934800888948,\"xref\":\"x\",\"y0\":-1,\"y1\":6,\"yref\":\"y\"}],\"title\":{\"text\":\"Break Down\",\"x\":0.15},\"font\":{\"color\":\"#371ea3\"},\"margin\":{\"t\":78,\"b\":71,\"r\":30},\"height\":273.0},                        {\"displaylogo\": false, \"staticPlot\": false, \"toImageButtonOptions\": {\"height\": null, \"width\": null}, \"modeBarButtonsToRemove\": [\"sendDataToCloud\", \"lasso2d\", \"autoScale2d\", \"select2d\", \"zoom2d\", \"pan2d\", \"zoomIn2d\", \"zoomOut2d\", \"resetScale2d\", \"toggleSpikelines\", \"hoverCompareCartesian\", \"hoverClosestCartesian\"], \"responsive\": true}                    ).then(function(){\n",
       "                            \n",
       "var gd = document.getElementById('33484e2c-e84c-4b46-bb67-f933355a398d');\n",
       "var x = new MutationObserver(function (mutations, observer) {{\n",
       "        var display = window.getComputedStyle(gd).display;\n",
       "        if (!display || display === 'none') {{\n",
       "            console.log([gd, 'removed!']);\n",
       "            Plotly.purge(gd);\n",
       "            observer.disconnect();\n",
       "        }}\n",
       "}});\n",
       "\n",
       "// Listen for the removal of the full notebook cells\n",
       "var notebookContainer = gd.closest('#notebook-container');\n",
       "if (notebookContainer) {{\n",
       "    x.observe(notebookContainer, {childList: true});\n",
       "}}\n",
       "\n",
       "// Listen for the clearing of the current output cell\n",
       "var outputEl = gd.closest('.output');\n",
       "if (outputEl) {{\n",
       "    x.observe(outputEl, {childList: true});\n",
       "}}\n",
       "\n",
       "                        })                };                });            </script>        </div>"
      ]
     },
     "metadata": {},
     "output_type": "display_data"
    },
    {
     "name": "stderr",
     "output_type": "stream",
     "text": [
      "Calculating ceteris paribus: 100%|███████████████████████████████████████████████████████| 4/4 [00:00<00:00, 27.75it/s]\n"
     ]
    },
    {
     "data": {
      "application/vnd.plotly.v1+json": {
       "config": {
        "displaylogo": false,
        "modeBarButtonsToRemove": [
         "sendDataToCloud",
         "lasso2d",
         "autoScale2d",
         "select2d",
         "zoom2d",
         "pan2d",
         "zoomIn2d",
         "zoomOut2d",
         "resetScale2d",
         "toggleSpikelines",
         "hoverCompareCartesian",
         "hoverClosestCartesian"
        ],
        "plotlyServerURL": "https://plot.ly",
        "staticPlot": false,
        "toImageButtonOptions": {
         "height": null,
         "width": null
        }
       },
       "data": [
        {
         "customdata": [
          [
           14.123708698134102,
           "pdp",
           "CODGEO"
          ],
          [
           14.123708698134102,
           "pdp",
           "CODGEO"
          ],
          [
           14.123708698134102,
           "pdp",
           "CODGEO"
          ],
          [
           14.123708698134102,
           "pdp",
           "CODGEO"
          ],
          [
           14.123708698134102,
           "pdp",
           "CODGEO"
          ],
          [
           14.123708698134102,
           "pdp",
           "CODGEO"
          ],
          [
           14.123708698134102,
           "pdp",
           "CODGEO"
          ],
          [
           14.123708698134102,
           "pdp",
           "CODGEO"
          ],
          [
           14.123708698134102,
           "pdp",
           "CODGEO"
          ],
          [
           14.123708698134102,
           "pdp",
           "CODGEO"
          ],
          [
           14.123708698134102,
           "pdp",
           "CODGEO"
          ],
          [
           14.123708698134102,
           "pdp",
           "CODGEO"
          ],
          [
           14.123708698134102,
           "pdp",
           "CODGEO"
          ],
          [
           14.123708698134102,
           "pdp",
           "CODGEO"
          ],
          [
           14.123708698134102,
           "pdp",
           "CODGEO"
          ],
          [
           14.123708698134102,
           "pdp",
           "CODGEO"
          ],
          [
           14.123708698134102,
           "pdp",
           "CODGEO"
          ],
          [
           14.123708698134102,
           "pdp",
           "CODGEO"
          ],
          [
           14.123708698134102,
           "pdp",
           "CODGEO"
          ],
          [
           14.123708698134102,
           "pdp",
           "CODGEO"
          ],
          [
           14.123708698134102,
           "pdp",
           "CODGEO"
          ],
          [
           14.123708698134102,
           "pdp",
           "CODGEO"
          ],
          [
           14.123708698134102,
           "pdp",
           "CODGEO"
          ],
          [
           14.123708698134102,
           "pdp",
           "CODGEO"
          ],
          [
           14.123708698134102,
           "pdp",
           "CODGEO"
          ],
          [
           14.123708698134102,
           "pdp",
           "CODGEO"
          ],
          [
           14.123708698134102,
           "pdp",
           "CODGEO"
          ],
          [
           14.123708698134102,
           "pdp",
           "CODGEO"
          ],
          [
           14.123708698134102,
           "pdp",
           "CODGEO"
          ],
          [
           14.123708698134102,
           "pdp",
           "CODGEO"
          ],
          [
           14.123708698134102,
           "pdp",
           "CODGEO"
          ],
          [
           14.123708698134102,
           "pdp",
           "CODGEO"
          ],
          [
           14.123708698134102,
           "pdp",
           "CODGEO"
          ],
          [
           14.123708698134102,
           "pdp",
           "CODGEO"
          ],
          [
           14.123708698134102,
           "pdp",
           "CODGEO"
          ],
          [
           14.123708698134102,
           "pdp",
           "CODGEO"
          ],
          [
           14.123708698134102,
           "pdp",
           "CODGEO"
          ],
          [
           14.123708698134102,
           "pdp",
           "CODGEO"
          ],
          [
           14.123708698134102,
           "pdp",
           "CODGEO"
          ],
          [
           14.123708698134102,
           "pdp",
           "CODGEO"
          ],
          [
           14.123708698134102,
           "pdp",
           "CODGEO"
          ],
          [
           14.123708698134102,
           "pdp",
           "CODGEO"
          ],
          [
           14.123708698134102,
           "pdp",
           "CODGEO"
          ],
          [
           14.123708698134102,
           "pdp",
           "CODGEO"
          ],
          [
           14.123708698134102,
           "pdp",
           "CODGEO"
          ],
          [
           14.123708698134102,
           "pdp",
           "CODGEO"
          ],
          [
           14.123708698134102,
           "pdp",
           "CODGEO"
          ],
          [
           14.123708698134102,
           "pdp",
           "CODGEO"
          ],
          [
           14.123708698134102,
           "pdp",
           "CODGEO"
          ],
          [
           14.123708698134102,
           "pdp",
           "CODGEO"
          ],
          [
           14.123708698134102,
           "pdp",
           "CODGEO"
          ],
          [
           14.123708698134102,
           "pdp",
           "CODGEO"
          ],
          [
           14.123708698134102,
           "pdp",
           "CODGEO"
          ],
          [
           14.123708698134102,
           "pdp",
           "CODGEO"
          ],
          [
           14.123708698134102,
           "pdp",
           "CODGEO"
          ],
          [
           14.123708698134102,
           "pdp",
           "CODGEO"
          ],
          [
           14.123708698134102,
           "pdp",
           "CODGEO"
          ],
          [
           14.123708698134102,
           "pdp",
           "CODGEO"
          ],
          [
           14.123708698134102,
           "pdp",
           "CODGEO"
          ],
          [
           14.123708698134102,
           "pdp",
           "CODGEO"
          ],
          [
           14.123708698134102,
           "pdp",
           "CODGEO"
          ],
          [
           14.123708698134102,
           "pdp",
           "CODGEO"
          ],
          [
           14.123708698134102,
           "pdp",
           "CODGEO"
          ],
          [
           14.123708698134102,
           "pdp",
           "CODGEO"
          ],
          [
           14.123708698134102,
           "pdp",
           "CODGEO"
          ],
          [
           14.123708698134102,
           "pdp",
           "CODGEO"
          ],
          [
           14.123708698134102,
           "pdp",
           "CODGEO"
          ],
          [
           14.123708698134102,
           "pdp",
           "CODGEO"
          ],
          [
           14.123708698134102,
           "pdp",
           "CODGEO"
          ],
          [
           14.123708698134102,
           "pdp",
           "CODGEO"
          ],
          [
           14.123708698134102,
           "pdp",
           "CODGEO"
          ],
          [
           14.123708698134102,
           "pdp",
           "CODGEO"
          ],
          [
           14.123708698134102,
           "pdp",
           "CODGEO"
          ],
          [
           14.123708698134102,
           "pdp",
           "CODGEO"
          ],
          [
           14.123708698134102,
           "pdp",
           "CODGEO"
          ],
          [
           14.123708698134102,
           "pdp",
           "CODGEO"
          ],
          [
           14.123708698134102,
           "pdp",
           "CODGEO"
          ],
          [
           14.123708698134102,
           "pdp",
           "CODGEO"
          ],
          [
           14.123708698134102,
           "pdp",
           "CODGEO"
          ],
          [
           14.123708698134102,
           "pdp",
           "CODGEO"
          ],
          [
           14.123708698134102,
           "pdp",
           "CODGEO"
          ],
          [
           14.123708698134102,
           "pdp",
           "CODGEO"
          ],
          [
           14.123708698134102,
           "pdp",
           "CODGEO"
          ],
          [
           14.123708698134102,
           "pdp",
           "CODGEO"
          ],
          [
           14.123708698134102,
           "pdp",
           "CODGEO"
          ],
          [
           14.123708698134102,
           "pdp",
           "CODGEO"
          ],
          [
           14.123708698134102,
           "pdp",
           "CODGEO"
          ],
          [
           14.123708698134102,
           "pdp",
           "CODGEO"
          ],
          [
           14.123708698134102,
           "pdp",
           "CODGEO"
          ],
          [
           14.123708698134102,
           "pdp",
           "CODGEO"
          ],
          [
           14.123708698134102,
           "pdp",
           "CODGEO"
          ],
          [
           14.123708698134102,
           "pdp",
           "CODGEO"
          ],
          [
           14.123708698134102,
           "pdp",
           "CODGEO"
          ],
          [
           14.123708698134102,
           "pdp",
           "CODGEO"
          ],
          [
           14.123708698134102,
           "pdp",
           "CODGEO"
          ],
          [
           14.123708698134102,
           "pdp",
           "CODGEO"
          ],
          [
           14.123708698134102,
           "pdp",
           "CODGEO"
          ],
          [
           14.123708698134102,
           "pdp",
           "CODGEO"
          ],
          [
           14.123708698134102,
           "pdp",
           "CODGEO"
          ],
          [
           14.123708698134102,
           "pdp",
           "CODGEO"
          ],
          [
           14.123708698134102,
           "pdp",
           "CODGEO"
          ]
         ],
         "hovertemplate": "<b>%{hovertext}</b><br><br>prediction=%{y:.3f}<br>mean_prediction=%{customdata[0]:.3f}<extra></extra>",
         "hovertext": [
          "pdp",
          "pdp",
          "pdp",
          "pdp",
          "pdp",
          "pdp",
          "pdp",
          "pdp",
          "pdp",
          "pdp",
          "pdp",
          "pdp",
          "pdp",
          "pdp",
          "pdp",
          "pdp",
          "pdp",
          "pdp",
          "pdp",
          "pdp",
          "pdp",
          "pdp",
          "pdp",
          "pdp",
          "pdp",
          "pdp",
          "pdp",
          "pdp",
          "pdp",
          "pdp",
          "pdp",
          "pdp",
          "pdp",
          "pdp",
          "pdp",
          "pdp",
          "pdp",
          "pdp",
          "pdp",
          "pdp",
          "pdp",
          "pdp",
          "pdp",
          "pdp",
          "pdp",
          "pdp",
          "pdp",
          "pdp",
          "pdp",
          "pdp",
          "pdp",
          "pdp",
          "pdp",
          "pdp",
          "pdp",
          "pdp",
          "pdp",
          "pdp",
          "pdp",
          "pdp",
          "pdp",
          "pdp",
          "pdp",
          "pdp",
          "pdp",
          "pdp",
          "pdp",
          "pdp",
          "pdp",
          "pdp",
          "pdp",
          "pdp",
          "pdp",
          "pdp",
          "pdp",
          "pdp",
          "pdp",
          "pdp",
          "pdp",
          "pdp",
          "pdp",
          "pdp",
          "pdp",
          "pdp",
          "pdp",
          "pdp",
          "pdp",
          "pdp",
          "pdp",
          "pdp",
          "pdp",
          "pdp",
          "pdp",
          "pdp",
          "pdp",
          "pdp",
          "pdp",
          "pdp",
          "pdp",
          "pdp",
          "pdp"
         ],
         "legendgroup": "pdp",
         "line": {
          "color": "#46bac2",
          "dash": "solid",
          "width": 2
         },
         "marker": {
          "symbol": "circle"
         },
         "mode": "lines",
         "name": "pdp",
         "opacity": 1,
         "orientation": "v",
         "showlegend": true,
         "type": "scatter",
         "x": [
          11,
          108.33,
          205.66,
          302.99,
          400.32,
          497.65,
          594.98,
          692.31,
          789.64,
          886.97,
          984.3,
          1081.6299999999999,
          1178.96,
          1276.29,
          1373.62,
          1470.95,
          1568.28,
          1665.61,
          1762.94,
          1860.27,
          1957.6,
          2054.9300000000003,
          2152.2599999999998,
          2249.59,
          2346.92,
          2444.25,
          2541.58,
          2638.91,
          2736.24,
          2833.57,
          2930.9,
          3028.23,
          3125.56,
          3222.89,
          3320.22,
          3417.5499999999997,
          3514.88,
          3612.21,
          3709.54,
          3806.87,
          3904.2,
          4001.5299999999997,
          4098.860000000001,
          4196.19,
          4293.5199999999995,
          4390.85,
          4488.18,
          4585.51,
          4682.84,
          4780.17,
          4877.5,
          4974.83,
          5072.16,
          5169.49,
          5266.82,
          5364.15,
          5461.48,
          5558.8099999999995,
          5656.14,
          5753.47,
          5850.8,
          5948.13,
          6045.46,
          6142.79,
          6240.12,
          6337.45,
          6434.78,
          6532.11,
          6629.44,
          6726.7699999999995,
          6824.099999999999,
          6921.43,
          7018.76,
          7116.09,
          7213.42,
          7310.75,
          7408.08,
          7505.41,
          7602.74,
          7700.07,
          7797.4,
          7894.73,
          7992.0599999999995,
          8089.389999999999,
          8186.72,
          8284.05,
          8381.38,
          8478.71,
          8576.039999999999,
          8673.369999999999,
          8770.7,
          8868.03,
          8965.36,
          9062.69,
          9160.02,
          9257.35,
          9354.68,
          9452.01,
          9549.34,
          9646.67,
          9744
         ],
         "xaxis": "x3",
         "y": [
          14.545796963569668,
          12.925314263802543,
          14.119402282406478,
          13.351603914645143,
          13.65451381419511,
          13.555895388286197,
          14.324575837374086,
          15.107066675363779,
          13.918621029663042,
          13.433336945010497,
          15.59068143314333,
          15.59068143314333,
          15.59068143314333,
          15.59068143314333,
          15.59068143314333,
          15.59068143314333,
          15.59068143314333,
          15.59068143314333,
          15.59068143314333,
          15.59068143314333,
          15.59068143314333,
          15.59068143314333,
          15.59068143314333,
          15.59068143314333,
          15.59068143314333,
          15.59068143314333,
          15.59068143314333,
          15.59068143314333,
          15.59068143314333,
          15.59068143314333,
          15.59068143314333,
          15.59068143314333,
          15.59068143314333,
          15.59068143314333,
          15.59068143314333,
          15.59068143314333,
          15.59068143314333,
          15.59068143314333,
          15.59068143314333,
          15.59068143314333,
          15.59068143314333,
          15.59068143314333,
          15.59068143314333,
          15.59068143314333,
          15.59068143314333,
          15.59068143314333,
          15.59068143314333,
          15.59068143314333,
          15.59068143314333,
          15.59068143314333,
          15.59068143314333,
          15.59068143314333,
          15.59068143314333,
          15.59068143314333,
          15.59068143314333,
          14.877513404337597,
          14.877513404337597,
          14.877513404337597,
          14.877513404337597,
          14.877513404337597,
          14.877513404337597,
          14.877513404337597,
          14.877513404337597,
          14.877513404337597,
          14.877513404337597,
          14.877513404337597,
          14.877513404337597,
          14.877513404337597,
          14.877513404337597,
          14.877513404337597,
          14.877513404337597,
          14.877513404337597,
          14.877513404337597,
          14.877513404337597,
          14.877513404337597,
          14.877513404337597,
          14.877513404337597,
          14.877513404337597,
          14.877513404337597,
          14.877513404337597,
          14.877513404337597,
          14.877513404337597,
          14.877513404337597,
          14.877513404337597,
          14.877513404337597,
          14.877513404337597,
          14.877513404337597,
          14.877513404337597,
          14.877513404337597,
          14.877513404337597,
          14.877513404337597,
          14.877513404337597,
          14.877513404337597,
          14.877513404337597,
          14.877513404337597,
          14.877513404337597,
          14.877513404337597,
          14.877513404337597,
          14.877513404337597,
          14.877513404337597,
          14.143352261181313
         ],
         "yaxis": "y3"
        },
        {
         "customdata": [
          [
           14.123708698134102,
           "pdp",
           "GENDER"
          ],
          [
           14.123708698134102,
           "pdp",
           "GENDER"
          ],
          [
           14.123708698134102,
           "pdp",
           "GENDER"
          ],
          [
           14.123708698134102,
           "pdp",
           "GENDER"
          ],
          [
           14.123708698134102,
           "pdp",
           "GENDER"
          ],
          [
           14.123708698134102,
           "pdp",
           "GENDER"
          ],
          [
           14.123708698134102,
           "pdp",
           "GENDER"
          ],
          [
           14.123708698134102,
           "pdp",
           "GENDER"
          ],
          [
           14.123708698134102,
           "pdp",
           "GENDER"
          ],
          [
           14.123708698134102,
           "pdp",
           "GENDER"
          ],
          [
           14.123708698134102,
           "pdp",
           "GENDER"
          ],
          [
           14.123708698134102,
           "pdp",
           "GENDER"
          ],
          [
           14.123708698134102,
           "pdp",
           "GENDER"
          ],
          [
           14.123708698134102,
           "pdp",
           "GENDER"
          ],
          [
           14.123708698134102,
           "pdp",
           "GENDER"
          ],
          [
           14.123708698134102,
           "pdp",
           "GENDER"
          ],
          [
           14.123708698134102,
           "pdp",
           "GENDER"
          ],
          [
           14.123708698134102,
           "pdp",
           "GENDER"
          ],
          [
           14.123708698134102,
           "pdp",
           "GENDER"
          ],
          [
           14.123708698134102,
           "pdp",
           "GENDER"
          ],
          [
           14.123708698134102,
           "pdp",
           "GENDER"
          ],
          [
           14.123708698134102,
           "pdp",
           "GENDER"
          ],
          [
           14.123708698134102,
           "pdp",
           "GENDER"
          ],
          [
           14.123708698134102,
           "pdp",
           "GENDER"
          ],
          [
           14.123708698134102,
           "pdp",
           "GENDER"
          ],
          [
           14.123708698134102,
           "pdp",
           "GENDER"
          ],
          [
           14.123708698134102,
           "pdp",
           "GENDER"
          ],
          [
           14.123708698134102,
           "pdp",
           "GENDER"
          ],
          [
           14.123708698134102,
           "pdp",
           "GENDER"
          ],
          [
           14.123708698134102,
           "pdp",
           "GENDER"
          ],
          [
           14.123708698134102,
           "pdp",
           "GENDER"
          ],
          [
           14.123708698134102,
           "pdp",
           "GENDER"
          ],
          [
           14.123708698134102,
           "pdp",
           "GENDER"
          ],
          [
           14.123708698134102,
           "pdp",
           "GENDER"
          ],
          [
           14.123708698134102,
           "pdp",
           "GENDER"
          ],
          [
           14.123708698134102,
           "pdp",
           "GENDER"
          ],
          [
           14.123708698134102,
           "pdp",
           "GENDER"
          ],
          [
           14.123708698134102,
           "pdp",
           "GENDER"
          ],
          [
           14.123708698134102,
           "pdp",
           "GENDER"
          ],
          [
           14.123708698134102,
           "pdp",
           "GENDER"
          ],
          [
           14.123708698134102,
           "pdp",
           "GENDER"
          ],
          [
           14.123708698134102,
           "pdp",
           "GENDER"
          ],
          [
           14.123708698134102,
           "pdp",
           "GENDER"
          ],
          [
           14.123708698134102,
           "pdp",
           "GENDER"
          ],
          [
           14.123708698134102,
           "pdp",
           "GENDER"
          ],
          [
           14.123708698134102,
           "pdp",
           "GENDER"
          ],
          [
           14.123708698134102,
           "pdp",
           "GENDER"
          ],
          [
           14.123708698134102,
           "pdp",
           "GENDER"
          ],
          [
           14.123708698134102,
           "pdp",
           "GENDER"
          ],
          [
           14.123708698134102,
           "pdp",
           "GENDER"
          ],
          [
           14.123708698134102,
           "pdp",
           "GENDER"
          ],
          [
           14.123708698134102,
           "pdp",
           "GENDER"
          ],
          [
           14.123708698134102,
           "pdp",
           "GENDER"
          ],
          [
           14.123708698134102,
           "pdp",
           "GENDER"
          ],
          [
           14.123708698134102,
           "pdp",
           "GENDER"
          ],
          [
           14.123708698134102,
           "pdp",
           "GENDER"
          ],
          [
           14.123708698134102,
           "pdp",
           "GENDER"
          ],
          [
           14.123708698134102,
           "pdp",
           "GENDER"
          ],
          [
           14.123708698134102,
           "pdp",
           "GENDER"
          ],
          [
           14.123708698134102,
           "pdp",
           "GENDER"
          ],
          [
           14.123708698134102,
           "pdp",
           "GENDER"
          ],
          [
           14.123708698134102,
           "pdp",
           "GENDER"
          ],
          [
           14.123708698134102,
           "pdp",
           "GENDER"
          ],
          [
           14.123708698134102,
           "pdp",
           "GENDER"
          ],
          [
           14.123708698134102,
           "pdp",
           "GENDER"
          ],
          [
           14.123708698134102,
           "pdp",
           "GENDER"
          ],
          [
           14.123708698134102,
           "pdp",
           "GENDER"
          ],
          [
           14.123708698134102,
           "pdp",
           "GENDER"
          ],
          [
           14.123708698134102,
           "pdp",
           "GENDER"
          ],
          [
           14.123708698134102,
           "pdp",
           "GENDER"
          ],
          [
           14.123708698134102,
           "pdp",
           "GENDER"
          ],
          [
           14.123708698134102,
           "pdp",
           "GENDER"
          ],
          [
           14.123708698134102,
           "pdp",
           "GENDER"
          ],
          [
           14.123708698134102,
           "pdp",
           "GENDER"
          ],
          [
           14.123708698134102,
           "pdp",
           "GENDER"
          ],
          [
           14.123708698134102,
           "pdp",
           "GENDER"
          ],
          [
           14.123708698134102,
           "pdp",
           "GENDER"
          ],
          [
           14.123708698134102,
           "pdp",
           "GENDER"
          ],
          [
           14.123708698134102,
           "pdp",
           "GENDER"
          ],
          [
           14.123708698134102,
           "pdp",
           "GENDER"
          ],
          [
           14.123708698134102,
           "pdp",
           "GENDER"
          ],
          [
           14.123708698134102,
           "pdp",
           "GENDER"
          ],
          [
           14.123708698134102,
           "pdp",
           "GENDER"
          ],
          [
           14.123708698134102,
           "pdp",
           "GENDER"
          ],
          [
           14.123708698134102,
           "pdp",
           "GENDER"
          ],
          [
           14.123708698134102,
           "pdp",
           "GENDER"
          ],
          [
           14.123708698134102,
           "pdp",
           "GENDER"
          ],
          [
           14.123708698134102,
           "pdp",
           "GENDER"
          ],
          [
           14.123708698134102,
           "pdp",
           "GENDER"
          ],
          [
           14.123708698134102,
           "pdp",
           "GENDER"
          ],
          [
           14.123708698134102,
           "pdp",
           "GENDER"
          ],
          [
           14.123708698134102,
           "pdp",
           "GENDER"
          ],
          [
           14.123708698134102,
           "pdp",
           "GENDER"
          ],
          [
           14.123708698134102,
           "pdp",
           "GENDER"
          ],
          [
           14.123708698134102,
           "pdp",
           "GENDER"
          ],
          [
           14.123708698134102,
           "pdp",
           "GENDER"
          ],
          [
           14.123708698134102,
           "pdp",
           "GENDER"
          ],
          [
           14.123708698134102,
           "pdp",
           "GENDER"
          ],
          [
           14.123708698134102,
           "pdp",
           "GENDER"
          ],
          [
           14.123708698134102,
           "pdp",
           "GENDER"
          ],
          [
           14.123708698134102,
           "pdp",
           "GENDER"
          ]
         ],
         "hovertemplate": "<b>%{hovertext}</b><br><br>prediction=%{y:.3f}<br>mean_prediction=%{customdata[0]:.3f}<extra></extra>",
         "hovertext": [
          "pdp",
          "pdp",
          "pdp",
          "pdp",
          "pdp",
          "pdp",
          "pdp",
          "pdp",
          "pdp",
          "pdp",
          "pdp",
          "pdp",
          "pdp",
          "pdp",
          "pdp",
          "pdp",
          "pdp",
          "pdp",
          "pdp",
          "pdp",
          "pdp",
          "pdp",
          "pdp",
          "pdp",
          "pdp",
          "pdp",
          "pdp",
          "pdp",
          "pdp",
          "pdp",
          "pdp",
          "pdp",
          "pdp",
          "pdp",
          "pdp",
          "pdp",
          "pdp",
          "pdp",
          "pdp",
          "pdp",
          "pdp",
          "pdp",
          "pdp",
          "pdp",
          "pdp",
          "pdp",
          "pdp",
          "pdp",
          "pdp",
          "pdp",
          "pdp",
          "pdp",
          "pdp",
          "pdp",
          "pdp",
          "pdp",
          "pdp",
          "pdp",
          "pdp",
          "pdp",
          "pdp",
          "pdp",
          "pdp",
          "pdp",
          "pdp",
          "pdp",
          "pdp",
          "pdp",
          "pdp",
          "pdp",
          "pdp",
          "pdp",
          "pdp",
          "pdp",
          "pdp",
          "pdp",
          "pdp",
          "pdp",
          "pdp",
          "pdp",
          "pdp",
          "pdp",
          "pdp",
          "pdp",
          "pdp",
          "pdp",
          "pdp",
          "pdp",
          "pdp",
          "pdp",
          "pdp",
          "pdp",
          "pdp",
          "pdp",
          "pdp",
          "pdp",
          "pdp",
          "pdp",
          "pdp",
          "pdp",
          "pdp"
         ],
         "legendgroup": "pdp",
         "line": {
          "color": "#46bac2",
          "dash": "solid",
          "width": 2
         },
         "marker": {
          "symbol": "circle"
         },
         "mode": "lines",
         "name": "pdp",
         "opacity": 1,
         "orientation": "v",
         "showlegend": false,
         "type": "scatter",
         "x": [
          1,
          1.01,
          1.02,
          1.03,
          1.04,
          1.05,
          1.06,
          1.07,
          1.08,
          1.09,
          1.1,
          1.11,
          1.12,
          1.13,
          1.1400000000000001,
          1.15,
          1.16,
          1.17,
          1.18,
          1.19,
          1.2,
          1.21,
          1.22,
          1.23,
          1.24,
          1.25,
          1.26,
          1.27,
          1.28,
          1.29,
          1.3,
          1.31,
          1.32,
          1.33,
          1.34,
          1.35,
          1.3599999999999999,
          1.37,
          1.38,
          1.3900000000000001,
          1.4,
          1.4100000000000001,
          1.42,
          1.43,
          1.44,
          1.45,
          1.46,
          1.47,
          1.48,
          1.49,
          1.5,
          1.51,
          1.52,
          1.53,
          1.54,
          1.55,
          1.56,
          1.57,
          1.58,
          1.5899999999999999,
          1.6,
          1.6099999999999999,
          1.62,
          1.63,
          1.6400000000000001,
          1.65,
          1.6600000000000001,
          1.67,
          1.6800000000000002,
          1.69,
          1.7000000000000002,
          1.71,
          1.72,
          1.73,
          1.74,
          1.75,
          1.76,
          1.77,
          1.78,
          1.79,
          1.8,
          1.81,
          1.82,
          1.83,
          1.8399999999999999,
          1.85,
          1.8599999999999999,
          1.87,
          1.88,
          1.8900000000000001,
          1.9,
          1.9100000000000001,
          1.92,
          1.9300000000000002,
          1.94,
          1.9500000000000002,
          1.96,
          1.97,
          1.98,
          1.99,
          2
         ],
         "xaxis": "x4",
         "y": [
          12.978999825027168,
          12.978999825027168,
          12.978999825027168,
          12.978999825027168,
          12.978999825027168,
          12.978999825027168,
          12.978999825027168,
          12.978999825027168,
          12.978999825027168,
          12.978999825027168,
          12.978999825027168,
          12.978999825027168,
          12.978999825027168,
          12.978999825027168,
          12.978999825027168,
          12.978999825027168,
          12.978999825027168,
          12.978999825027168,
          12.978999825027168,
          12.978999825027168,
          12.978999825027168,
          12.978999825027168,
          12.978999825027168,
          12.978999825027168,
          12.978999825027168,
          12.978999825027168,
          12.978999825027168,
          12.978999825027168,
          12.978999825027168,
          12.978999825027168,
          12.978999825027168,
          12.978999825027168,
          12.978999825027168,
          12.978999825027168,
          12.978999825027168,
          12.978999825027168,
          12.978999825027168,
          12.978999825027168,
          12.978999825027168,
          12.978999825027168,
          12.978999825027168,
          12.978999825027168,
          12.978999825027168,
          12.978999825027168,
          12.978999825027168,
          12.978999825027168,
          12.978999825027168,
          12.978999825027168,
          12.978999825027168,
          12.978999825027168,
          12.978999825027168,
          15.202963297613145,
          15.202963297613145,
          15.202963297613145,
          15.202963297613145,
          15.202963297613145,
          15.202963297613145,
          15.202963297613145,
          15.202963297613145,
          15.202963297613145,
          15.202963297613145,
          15.202963297613145,
          15.202963297613145,
          15.202963297613145,
          15.202963297613145,
          15.202963297613145,
          15.202963297613145,
          15.202963297613145,
          15.202963297613145,
          15.202963297613145,
          15.202963297613145,
          15.202963297613145,
          15.202963297613145,
          15.202963297613145,
          15.202963297613145,
          15.202963297613145,
          15.202963297613145,
          15.202963297613145,
          15.202963297613145,
          15.202963297613145,
          15.202963297613145,
          15.202963297613145,
          15.202963297613145,
          15.202963297613145,
          15.202963297613145,
          15.202963297613145,
          15.202963297613145,
          15.202963297613145,
          15.202963297613145,
          15.202963297613145,
          15.202963297613145,
          15.202963297613145,
          15.202963297613145,
          15.202963297613145,
          15.202963297613145,
          15.202963297613145,
          15.202963297613145,
          15.202963297613145,
          15.202963297613145,
          15.202963297613145,
          15.202963297613145
         ],
         "yaxis": "y4"
        },
        {
         "customdata": [
          [
           14.123708698134102,
           "pdp",
           "POSITION"
          ],
          [
           14.123708698134102,
           "pdp",
           "POSITION"
          ],
          [
           14.123708698134102,
           "pdp",
           "POSITION"
          ],
          [
           14.123708698134102,
           "pdp",
           "POSITION"
          ],
          [
           14.123708698134102,
           "pdp",
           "POSITION"
          ],
          [
           14.123708698134102,
           "pdp",
           "POSITION"
          ],
          [
           14.123708698134102,
           "pdp",
           "POSITION"
          ],
          [
           14.123708698134102,
           "pdp",
           "POSITION"
          ],
          [
           14.123708698134102,
           "pdp",
           "POSITION"
          ],
          [
           14.123708698134102,
           "pdp",
           "POSITION"
          ],
          [
           14.123708698134102,
           "pdp",
           "POSITION"
          ],
          [
           14.123708698134102,
           "pdp",
           "POSITION"
          ],
          [
           14.123708698134102,
           "pdp",
           "POSITION"
          ],
          [
           14.123708698134102,
           "pdp",
           "POSITION"
          ],
          [
           14.123708698134102,
           "pdp",
           "POSITION"
          ],
          [
           14.123708698134102,
           "pdp",
           "POSITION"
          ],
          [
           14.123708698134102,
           "pdp",
           "POSITION"
          ],
          [
           14.123708698134102,
           "pdp",
           "POSITION"
          ],
          [
           14.123708698134102,
           "pdp",
           "POSITION"
          ],
          [
           14.123708698134102,
           "pdp",
           "POSITION"
          ],
          [
           14.123708698134102,
           "pdp",
           "POSITION"
          ],
          [
           14.123708698134102,
           "pdp",
           "POSITION"
          ],
          [
           14.123708698134102,
           "pdp",
           "POSITION"
          ],
          [
           14.123708698134102,
           "pdp",
           "POSITION"
          ],
          [
           14.123708698134102,
           "pdp",
           "POSITION"
          ],
          [
           14.123708698134102,
           "pdp",
           "POSITION"
          ],
          [
           14.123708698134102,
           "pdp",
           "POSITION"
          ],
          [
           14.123708698134102,
           "pdp",
           "POSITION"
          ],
          [
           14.123708698134102,
           "pdp",
           "POSITION"
          ],
          [
           14.123708698134102,
           "pdp",
           "POSITION"
          ],
          [
           14.123708698134102,
           "pdp",
           "POSITION"
          ],
          [
           14.123708698134102,
           "pdp",
           "POSITION"
          ],
          [
           14.123708698134102,
           "pdp",
           "POSITION"
          ],
          [
           14.123708698134102,
           "pdp",
           "POSITION"
          ],
          [
           14.123708698134102,
           "pdp",
           "POSITION"
          ],
          [
           14.123708698134102,
           "pdp",
           "POSITION"
          ],
          [
           14.123708698134102,
           "pdp",
           "POSITION"
          ],
          [
           14.123708698134102,
           "pdp",
           "POSITION"
          ],
          [
           14.123708698134102,
           "pdp",
           "POSITION"
          ],
          [
           14.123708698134102,
           "pdp",
           "POSITION"
          ],
          [
           14.123708698134102,
           "pdp",
           "POSITION"
          ],
          [
           14.123708698134102,
           "pdp",
           "POSITION"
          ],
          [
           14.123708698134102,
           "pdp",
           "POSITION"
          ],
          [
           14.123708698134102,
           "pdp",
           "POSITION"
          ],
          [
           14.123708698134102,
           "pdp",
           "POSITION"
          ],
          [
           14.123708698134102,
           "pdp",
           "POSITION"
          ],
          [
           14.123708698134102,
           "pdp",
           "POSITION"
          ],
          [
           14.123708698134102,
           "pdp",
           "POSITION"
          ],
          [
           14.123708698134102,
           "pdp",
           "POSITION"
          ],
          [
           14.123708698134102,
           "pdp",
           "POSITION"
          ],
          [
           14.123708698134102,
           "pdp",
           "POSITION"
          ],
          [
           14.123708698134102,
           "pdp",
           "POSITION"
          ],
          [
           14.123708698134102,
           "pdp",
           "POSITION"
          ],
          [
           14.123708698134102,
           "pdp",
           "POSITION"
          ],
          [
           14.123708698134102,
           "pdp",
           "POSITION"
          ],
          [
           14.123708698134102,
           "pdp",
           "POSITION"
          ],
          [
           14.123708698134102,
           "pdp",
           "POSITION"
          ],
          [
           14.123708698134102,
           "pdp",
           "POSITION"
          ],
          [
           14.123708698134102,
           "pdp",
           "POSITION"
          ],
          [
           14.123708698134102,
           "pdp",
           "POSITION"
          ],
          [
           14.123708698134102,
           "pdp",
           "POSITION"
          ],
          [
           14.123708698134102,
           "pdp",
           "POSITION"
          ],
          [
           14.123708698134102,
           "pdp",
           "POSITION"
          ],
          [
           14.123708698134102,
           "pdp",
           "POSITION"
          ],
          [
           14.123708698134102,
           "pdp",
           "POSITION"
          ],
          [
           14.123708698134102,
           "pdp",
           "POSITION"
          ],
          [
           14.123708698134102,
           "pdp",
           "POSITION"
          ],
          [
           14.123708698134102,
           "pdp",
           "POSITION"
          ],
          [
           14.123708698134102,
           "pdp",
           "POSITION"
          ],
          [
           14.123708698134102,
           "pdp",
           "POSITION"
          ],
          [
           14.123708698134102,
           "pdp",
           "POSITION"
          ],
          [
           14.123708698134102,
           "pdp",
           "POSITION"
          ],
          [
           14.123708698134102,
           "pdp",
           "POSITION"
          ],
          [
           14.123708698134102,
           "pdp",
           "POSITION"
          ],
          [
           14.123708698134102,
           "pdp",
           "POSITION"
          ],
          [
           14.123708698134102,
           "pdp",
           "POSITION"
          ],
          [
           14.123708698134102,
           "pdp",
           "POSITION"
          ],
          [
           14.123708698134102,
           "pdp",
           "POSITION"
          ],
          [
           14.123708698134102,
           "pdp",
           "POSITION"
          ],
          [
           14.123708698134102,
           "pdp",
           "POSITION"
          ],
          [
           14.123708698134102,
           "pdp",
           "POSITION"
          ],
          [
           14.123708698134102,
           "pdp",
           "POSITION"
          ],
          [
           14.123708698134102,
           "pdp",
           "POSITION"
          ],
          [
           14.123708698134102,
           "pdp",
           "POSITION"
          ],
          [
           14.123708698134102,
           "pdp",
           "POSITION"
          ],
          [
           14.123708698134102,
           "pdp",
           "POSITION"
          ],
          [
           14.123708698134102,
           "pdp",
           "POSITION"
          ],
          [
           14.123708698134102,
           "pdp",
           "POSITION"
          ],
          [
           14.123708698134102,
           "pdp",
           "POSITION"
          ],
          [
           14.123708698134102,
           "pdp",
           "POSITION"
          ],
          [
           14.123708698134102,
           "pdp",
           "POSITION"
          ],
          [
           14.123708698134102,
           "pdp",
           "POSITION"
          ],
          [
           14.123708698134102,
           "pdp",
           "POSITION"
          ],
          [
           14.123708698134102,
           "pdp",
           "POSITION"
          ],
          [
           14.123708698134102,
           "pdp",
           "POSITION"
          ],
          [
           14.123708698134102,
           "pdp",
           "POSITION"
          ],
          [
           14.123708698134102,
           "pdp",
           "POSITION"
          ],
          [
           14.123708698134102,
           "pdp",
           "POSITION"
          ],
          [
           14.123708698134102,
           "pdp",
           "POSITION"
          ],
          [
           14.123708698134102,
           "pdp",
           "POSITION"
          ],
          [
           14.123708698134102,
           "pdp",
           "POSITION"
          ]
         ],
         "hovertemplate": "<b>%{hovertext}</b><br><br>prediction=%{y:.3f}<br>mean_prediction=%{customdata[0]:.3f}<extra></extra>",
         "hovertext": [
          "pdp",
          "pdp",
          "pdp",
          "pdp",
          "pdp",
          "pdp",
          "pdp",
          "pdp",
          "pdp",
          "pdp",
          "pdp",
          "pdp",
          "pdp",
          "pdp",
          "pdp",
          "pdp",
          "pdp",
          "pdp",
          "pdp",
          "pdp",
          "pdp",
          "pdp",
          "pdp",
          "pdp",
          "pdp",
          "pdp",
          "pdp",
          "pdp",
          "pdp",
          "pdp",
          "pdp",
          "pdp",
          "pdp",
          "pdp",
          "pdp",
          "pdp",
          "pdp",
          "pdp",
          "pdp",
          "pdp",
          "pdp",
          "pdp",
          "pdp",
          "pdp",
          "pdp",
          "pdp",
          "pdp",
          "pdp",
          "pdp",
          "pdp",
          "pdp",
          "pdp",
          "pdp",
          "pdp",
          "pdp",
          "pdp",
          "pdp",
          "pdp",
          "pdp",
          "pdp",
          "pdp",
          "pdp",
          "pdp",
          "pdp",
          "pdp",
          "pdp",
          "pdp",
          "pdp",
          "pdp",
          "pdp",
          "pdp",
          "pdp",
          "pdp",
          "pdp",
          "pdp",
          "pdp",
          "pdp",
          "pdp",
          "pdp",
          "pdp",
          "pdp",
          "pdp",
          "pdp",
          "pdp",
          "pdp",
          "pdp",
          "pdp",
          "pdp",
          "pdp",
          "pdp",
          "pdp",
          "pdp",
          "pdp",
          "pdp",
          "pdp",
          "pdp",
          "pdp",
          "pdp",
          "pdp",
          "pdp",
          "pdp"
         ],
         "legendgroup": "pdp",
         "line": {
          "color": "#46bac2",
          "dash": "solid",
          "width": 2
         },
         "marker": {
          "symbol": "circle"
         },
         "mode": "lines",
         "name": "pdp",
         "opacity": 1,
         "orientation": "v",
         "showlegend": false,
         "type": "scatter",
         "x": [
          1,
          1.03,
          1.06,
          1.09,
          1.12,
          1.15,
          1.18,
          1.21,
          1.24,
          1.27,
          1.3,
          1.33,
          1.3599999999999999,
          1.3900000000000001,
          1.42,
          1.45,
          1.48,
          1.51,
          1.54,
          1.5699999999999998,
          1.6,
          1.63,
          1.66,
          1.69,
          1.72,
          1.75,
          1.78,
          1.81,
          1.8399999999999999,
          1.87,
          1.9,
          1.93,
          1.96,
          1.99,
          2.02,
          2.05,
          2.08,
          2.11,
          2.1399999999999997,
          2.17,
          2.2,
          2.23,
          2.26,
          2.29,
          2.32,
          2.3499999999999996,
          2.38,
          2.41,
          2.44,
          2.4699999999999998,
          2.5,
          2.5300000000000002,
          2.56,
          2.59,
          2.62,
          2.65,
          2.6799999999999997,
          2.71,
          2.74,
          2.77,
          2.8,
          2.83,
          2.86,
          2.8899999999999997,
          2.92,
          2.95,
          2.98,
          3.01,
          3.04,
          3.07,
          3.1,
          3.13,
          3.16,
          3.19,
          3.2199999999999998,
          3.25,
          3.28,
          3.31,
          3.34,
          3.37,
          3.4,
          3.4299999999999997,
          3.46,
          3.4899999999999998,
          3.52,
          3.55,
          3.58,
          3.61,
          3.6399999999999997,
          3.67,
          3.6999999999999997,
          3.73,
          3.76,
          3.79,
          3.82,
          3.85,
          3.88,
          3.9099999999999997,
          3.94,
          3.9699999999999998,
          4
         ],
         "xaxis": "x",
         "y": [
          12.308326217118793,
          12.308326217118793,
          12.308326217118793,
          12.308326217118793,
          12.308326217118793,
          12.308326217118793,
          12.308326217118793,
          12.308326217118793,
          12.308326217118793,
          12.308326217118793,
          12.308326217118793,
          12.308326217118793,
          12.308326217118793,
          12.308326217118793,
          12.308326217118793,
          12.308326217118793,
          12.308326217118793,
          12.042964198160218,
          12.042964198160218,
          12.042964198160218,
          12.042964198160218,
          12.042964198160218,
          12.042964198160218,
          12.042964198160218,
          12.042964198160218,
          12.042964198160218,
          12.042964198160218,
          12.042964198160218,
          12.042964198160218,
          12.042964198160218,
          12.042964198160218,
          12.042964198160218,
          12.042964198160218,
          12.042964198160218,
          12.042964198160218,
          12.042964198160218,
          12.042964198160218,
          12.042964198160218,
          12.042964198160218,
          12.042964198160218,
          12.042964198160218,
          12.042964198160218,
          12.042964198160218,
          12.042964198160218,
          12.042964198160218,
          12.042964198160218,
          12.042964198160218,
          12.042964198160218,
          12.042964198160218,
          12.042964198160218,
          12.042964198160218,
          14.301042404913241,
          14.301042404913241,
          14.301042404913241,
          14.301042404913241,
          14.301042404913241,
          14.301042404913241,
          14.301042404913241,
          14.301042404913241,
          14.301042404913241,
          14.301042404913241,
          14.301042404913241,
          14.301042404913241,
          14.301042404913241,
          14.301042404913241,
          14.301042404913241,
          14.301042404913241,
          14.301042404913241,
          14.301042404913241,
          14.301042404913241,
          14.301042404913241,
          14.301042404913241,
          14.301042404913241,
          14.301042404913241,
          14.301042404913241,
          14.301042404913241,
          14.301042404913241,
          14.301042404913241,
          14.301042404913241,
          14.301042404913241,
          14.301042404913241,
          14.301042404913241,
          14.301042404913241,
          14.301042404913241,
          18.566157778041838,
          18.566157778041838,
          18.566157778041838,
          18.566157778041838,
          18.566157778041838,
          18.566157778041838,
          18.566157778041838,
          18.566157778041838,
          18.566157778041838,
          18.566157778041838,
          18.566157778041838,
          18.566157778041838,
          18.566157778041838,
          18.566157778041838,
          18.566157778041838,
          18.566157778041838,
          18.566157778041838
         ],
         "yaxis": "y"
        },
        {
         "customdata": [
          [
           14.123708698134102,
           "pdp",
           "AGE"
          ],
          [
           14.123708698134102,
           "pdp",
           "AGE"
          ],
          [
           14.123708698134102,
           "pdp",
           "AGE"
          ],
          [
           14.123708698134102,
           "pdp",
           "AGE"
          ],
          [
           14.123708698134102,
           "pdp",
           "AGE"
          ],
          [
           14.123708698134102,
           "pdp",
           "AGE"
          ],
          [
           14.123708698134102,
           "pdp",
           "AGE"
          ],
          [
           14.123708698134102,
           "pdp",
           "AGE"
          ],
          [
           14.123708698134102,
           "pdp",
           "AGE"
          ],
          [
           14.123708698134102,
           "pdp",
           "AGE"
          ],
          [
           14.123708698134102,
           "pdp",
           "AGE"
          ],
          [
           14.123708698134102,
           "pdp",
           "AGE"
          ],
          [
           14.123708698134102,
           "pdp",
           "AGE"
          ],
          [
           14.123708698134102,
           "pdp",
           "AGE"
          ],
          [
           14.123708698134102,
           "pdp",
           "AGE"
          ],
          [
           14.123708698134102,
           "pdp",
           "AGE"
          ],
          [
           14.123708698134102,
           "pdp",
           "AGE"
          ],
          [
           14.123708698134102,
           "pdp",
           "AGE"
          ],
          [
           14.123708698134102,
           "pdp",
           "AGE"
          ],
          [
           14.123708698134102,
           "pdp",
           "AGE"
          ],
          [
           14.123708698134102,
           "pdp",
           "AGE"
          ],
          [
           14.123708698134102,
           "pdp",
           "AGE"
          ],
          [
           14.123708698134102,
           "pdp",
           "AGE"
          ],
          [
           14.123708698134102,
           "pdp",
           "AGE"
          ],
          [
           14.123708698134102,
           "pdp",
           "AGE"
          ],
          [
           14.123708698134102,
           "pdp",
           "AGE"
          ],
          [
           14.123708698134102,
           "pdp",
           "AGE"
          ],
          [
           14.123708698134102,
           "pdp",
           "AGE"
          ],
          [
           14.123708698134102,
           "pdp",
           "AGE"
          ],
          [
           14.123708698134102,
           "pdp",
           "AGE"
          ],
          [
           14.123708698134102,
           "pdp",
           "AGE"
          ],
          [
           14.123708698134102,
           "pdp",
           "AGE"
          ],
          [
           14.123708698134102,
           "pdp",
           "AGE"
          ],
          [
           14.123708698134102,
           "pdp",
           "AGE"
          ],
          [
           14.123708698134102,
           "pdp",
           "AGE"
          ],
          [
           14.123708698134102,
           "pdp",
           "AGE"
          ],
          [
           14.123708698134102,
           "pdp",
           "AGE"
          ],
          [
           14.123708698134102,
           "pdp",
           "AGE"
          ],
          [
           14.123708698134102,
           "pdp",
           "AGE"
          ],
          [
           14.123708698134102,
           "pdp",
           "AGE"
          ],
          [
           14.123708698134102,
           "pdp",
           "AGE"
          ],
          [
           14.123708698134102,
           "pdp",
           "AGE"
          ],
          [
           14.123708698134102,
           "pdp",
           "AGE"
          ],
          [
           14.123708698134102,
           "pdp",
           "AGE"
          ],
          [
           14.123708698134102,
           "pdp",
           "AGE"
          ],
          [
           14.123708698134102,
           "pdp",
           "AGE"
          ],
          [
           14.123708698134102,
           "pdp",
           "AGE"
          ],
          [
           14.123708698134102,
           "pdp",
           "AGE"
          ],
          [
           14.123708698134102,
           "pdp",
           "AGE"
          ],
          [
           14.123708698134102,
           "pdp",
           "AGE"
          ],
          [
           14.123708698134102,
           "pdp",
           "AGE"
          ],
          [
           14.123708698134102,
           "pdp",
           "AGE"
          ],
          [
           14.123708698134102,
           "pdp",
           "AGE"
          ],
          [
           14.123708698134102,
           "pdp",
           "AGE"
          ],
          [
           14.123708698134102,
           "pdp",
           "AGE"
          ],
          [
           14.123708698134102,
           "pdp",
           "AGE"
          ],
          [
           14.123708698134102,
           "pdp",
           "AGE"
          ],
          [
           14.123708698134102,
           "pdp",
           "AGE"
          ],
          [
           14.123708698134102,
           "pdp",
           "AGE"
          ],
          [
           14.123708698134102,
           "pdp",
           "AGE"
          ],
          [
           14.123708698134102,
           "pdp",
           "AGE"
          ],
          [
           14.123708698134102,
           "pdp",
           "AGE"
          ],
          [
           14.123708698134102,
           "pdp",
           "AGE"
          ],
          [
           14.123708698134102,
           "pdp",
           "AGE"
          ],
          [
           14.123708698134102,
           "pdp",
           "AGE"
          ],
          [
           14.123708698134102,
           "pdp",
           "AGE"
          ],
          [
           14.123708698134102,
           "pdp",
           "AGE"
          ],
          [
           14.123708698134102,
           "pdp",
           "AGE"
          ],
          [
           14.123708698134102,
           "pdp",
           "AGE"
          ],
          [
           14.123708698134102,
           "pdp",
           "AGE"
          ],
          [
           14.123708698134102,
           "pdp",
           "AGE"
          ],
          [
           14.123708698134102,
           "pdp",
           "AGE"
          ],
          [
           14.123708698134102,
           "pdp",
           "AGE"
          ],
          [
           14.123708698134102,
           "pdp",
           "AGE"
          ],
          [
           14.123708698134102,
           "pdp",
           "AGE"
          ],
          [
           14.123708698134102,
           "pdp",
           "AGE"
          ],
          [
           14.123708698134102,
           "pdp",
           "AGE"
          ],
          [
           14.123708698134102,
           "pdp",
           "AGE"
          ],
          [
           14.123708698134102,
           "pdp",
           "AGE"
          ],
          [
           14.123708698134102,
           "pdp",
           "AGE"
          ],
          [
           14.123708698134102,
           "pdp",
           "AGE"
          ],
          [
           14.123708698134102,
           "pdp",
           "AGE"
          ],
          [
           14.123708698134102,
           "pdp",
           "AGE"
          ],
          [
           14.123708698134102,
           "pdp",
           "AGE"
          ],
          [
           14.123708698134102,
           "pdp",
           "AGE"
          ],
          [
           14.123708698134102,
           "pdp",
           "AGE"
          ],
          [
           14.123708698134102,
           "pdp",
           "AGE"
          ],
          [
           14.123708698134102,
           "pdp",
           "AGE"
          ],
          [
           14.123708698134102,
           "pdp",
           "AGE"
          ],
          [
           14.123708698134102,
           "pdp",
           "AGE"
          ],
          [
           14.123708698134102,
           "pdp",
           "AGE"
          ],
          [
           14.123708698134102,
           "pdp",
           "AGE"
          ],
          [
           14.123708698134102,
           "pdp",
           "AGE"
          ],
          [
           14.123708698134102,
           "pdp",
           "AGE"
          ],
          [
           14.123708698134102,
           "pdp",
           "AGE"
          ],
          [
           14.123708698134102,
           "pdp",
           "AGE"
          ],
          [
           14.123708698134102,
           "pdp",
           "AGE"
          ],
          [
           14.123708698134102,
           "pdp",
           "AGE"
          ],
          [
           14.123708698134102,
           "pdp",
           "AGE"
          ],
          [
           14.123708698134102,
           "pdp",
           "AGE"
          ],
          [
           14.123708698134102,
           "pdp",
           "AGE"
          ]
         ],
         "hovertemplate": "<b>%{hovertext}</b><br><br>prediction=%{y:.3f}<br>mean_prediction=%{customdata[0]:.3f}<extra></extra>",
         "hovertext": [
          "pdp",
          "pdp",
          "pdp",
          "pdp",
          "pdp",
          "pdp",
          "pdp",
          "pdp",
          "pdp",
          "pdp",
          "pdp",
          "pdp",
          "pdp",
          "pdp",
          "pdp",
          "pdp",
          "pdp",
          "pdp",
          "pdp",
          "pdp",
          "pdp",
          "pdp",
          "pdp",
          "pdp",
          "pdp",
          "pdp",
          "pdp",
          "pdp",
          "pdp",
          "pdp",
          "pdp",
          "pdp",
          "pdp",
          "pdp",
          "pdp",
          "pdp",
          "pdp",
          "pdp",
          "pdp",
          "pdp",
          "pdp",
          "pdp",
          "pdp",
          "pdp",
          "pdp",
          "pdp",
          "pdp",
          "pdp",
          "pdp",
          "pdp",
          "pdp",
          "pdp",
          "pdp",
          "pdp",
          "pdp",
          "pdp",
          "pdp",
          "pdp",
          "pdp",
          "pdp",
          "pdp",
          "pdp",
          "pdp",
          "pdp",
          "pdp",
          "pdp",
          "pdp",
          "pdp",
          "pdp",
          "pdp",
          "pdp",
          "pdp",
          "pdp",
          "pdp",
          "pdp",
          "pdp",
          "pdp",
          "pdp",
          "pdp",
          "pdp",
          "pdp",
          "pdp",
          "pdp",
          "pdp",
          "pdp",
          "pdp",
          "pdp",
          "pdp",
          "pdp",
          "pdp",
          "pdp",
          "pdp",
          "pdp",
          "pdp",
          "pdp",
          "pdp",
          "pdp",
          "pdp",
          "pdp",
          "pdp",
          "pdp"
         ],
         "legendgroup": "pdp",
         "line": {
          "color": "#46bac2",
          "dash": "solid",
          "width": 2
         },
         "marker": {
          "symbol": "circle"
         },
         "mode": "lines",
         "name": "pdp",
         "opacity": 1,
         "orientation": "v",
         "showlegend": false,
         "type": "scatter",
         "x": [
          1,
          1.02,
          1.04,
          1.06,
          1.08,
          1.1,
          1.12,
          1.1400000000000001,
          1.16,
          1.18,
          1.2,
          1.22,
          1.24,
          1.26,
          1.28,
          1.3,
          1.32,
          1.34,
          1.3599999999999999,
          1.38,
          1.4,
          1.42,
          1.44,
          1.46,
          1.48,
          1.5,
          1.52,
          1.54,
          1.56,
          1.58,
          1.6,
          1.62,
          1.6400000000000001,
          1.6600000000000001,
          1.6800000000000002,
          1.7000000000000002,
          1.72,
          1.74,
          1.76,
          1.78,
          1.8,
          1.82,
          1.8399999999999999,
          1.8599999999999999,
          1.88,
          1.9,
          1.92,
          1.94,
          1.96,
          1.98,
          2,
          2.02,
          2.04,
          2.06,
          2.08,
          2.1,
          2.12,
          2.14,
          2.16,
          2.1799999999999997,
          2.2,
          2.2199999999999998,
          2.24,
          2.26,
          2.2800000000000002,
          2.3,
          2.3200000000000003,
          2.34,
          2.3600000000000003,
          2.38,
          2.4000000000000004,
          2.42,
          2.44,
          2.46,
          2.48,
          2.5,
          2.52,
          2.54,
          2.56,
          2.58,
          2.6,
          2.62,
          2.64,
          2.66,
          2.6799999999999997,
          2.7,
          2.7199999999999998,
          2.74,
          2.76,
          2.7800000000000002,
          2.8,
          2.8200000000000003,
          2.84,
          2.8600000000000003,
          2.88,
          2.9000000000000004,
          2.92,
          2.94,
          2.96,
          2.98,
          3
         ],
         "xaxis": "x2",
         "y": [
          12.432671010752015,
          12.432671010752015,
          12.432671010752015,
          12.432671010752015,
          12.432671010752015,
          12.432671010752015,
          12.432671010752015,
          12.432671010752015,
          12.432671010752015,
          12.432671010752015,
          12.432671010752015,
          12.432671010752015,
          12.432671010752015,
          12.432671010752015,
          12.432671010752015,
          12.432671010752015,
          12.432671010752015,
          12.432671010752015,
          12.432671010752015,
          12.432671010752015,
          12.432671010752015,
          12.432671010752015,
          12.432671010752015,
          12.432671010752015,
          12.432671010752015,
          12.432671010752015,
          14.40011299044476,
          14.40011299044476,
          14.40011299044476,
          14.40011299044476,
          14.40011299044476,
          14.40011299044476,
          14.40011299044476,
          14.40011299044476,
          14.40011299044476,
          14.40011299044476,
          14.40011299044476,
          14.40011299044476,
          14.40011299044476,
          14.40011299044476,
          14.40011299044476,
          14.40011299044476,
          14.40011299044476,
          14.40011299044476,
          14.40011299044476,
          14.40011299044476,
          14.40011299044476,
          14.40011299044476,
          14.40011299044476,
          14.40011299044476,
          14.40011299044476,
          14.40011299044476,
          14.40011299044476,
          14.40011299044476,
          14.40011299044476,
          14.40011299044476,
          14.40011299044476,
          14.40011299044476,
          14.40011299044476,
          14.40011299044476,
          14.40011299044476,
          14.40011299044476,
          14.40011299044476,
          14.40011299044476,
          14.40011299044476,
          14.40011299044476,
          14.40011299044476,
          14.40011299044476,
          14.40011299044476,
          14.40011299044476,
          14.40011299044476,
          14.40011299044476,
          14.40011299044476,
          14.40011299044476,
          14.40011299044476,
          14.40011299044476,
          15.359702931927698,
          15.359702931927698,
          15.359702931927698,
          15.359702931927698,
          15.359702931927698,
          15.359702931927698,
          15.359702931927698,
          15.359702931927698,
          15.359702931927698,
          15.359702931927698,
          15.359702931927698,
          15.359702931927698,
          15.359702931927698,
          15.359702931927698,
          15.359702931927698,
          15.359702931927698,
          15.359702931927698,
          15.359702931927698,
          15.359702931927698,
          15.359702931927698,
          15.359702931927698,
          15.359702931927698,
          15.359702931927698,
          15.359702931927698,
          15.359702931927698
         ],
         "yaxis": "y2"
        }
       ],
       "layout": {
        "annotations": [
         {
          "font": {
           "size": 13
          },
          "showarrow": false,
          "text": "POSITION",
          "x": 0.2375,
          "xanchor": "center",
          "xref": "paper",
          "y": 0.425,
          "yanchor": "bottom",
          "yref": "paper"
         },
         {
          "font": {
           "size": 13
          },
          "showarrow": false,
          "text": "AGE",
          "x": 0.7625,
          "xanchor": "center",
          "xref": "paper",
          "y": 0.425,
          "yanchor": "bottom",
          "yref": "paper"
         },
         {
          "font": {
           "size": 13
          },
          "showarrow": false,
          "text": "CODGEO",
          "x": 0.2375,
          "xanchor": "center",
          "xref": "paper",
          "y": 1,
          "yanchor": "bottom",
          "yref": "paper"
         },
         {
          "font": {
           "size": 13
          },
          "showarrow": false,
          "text": "GENDER",
          "x": 0.7625,
          "xanchor": "center",
          "xref": "paper",
          "y": 1,
          "yanchor": "bottom",
          "yref": "paper"
         },
         {
          "font": {
           "size": 13
          },
          "showarrow": false,
          "text": "prediction",
          "textangle": -90,
          "x": -0.07,
          "xref": "paper",
          "y": 0.5,
          "yref": "paper"
         }
        ],
        "font": {
         "color": "#371ea3"
        },
        "height": 829,
        "hovermode": "x unified",
        "legend": {
         "font": {
          "size": 11
         },
         "itemsizing": "constant",
         "orientation": "h",
         "title": {
          "font": {
           "size": 12
          },
          "text": "label"
         },
         "tracegroupgap": 0,
         "x": 1,
         "xanchor": "right",
         "y": 1.0361881785283473,
         "yanchor": "bottom"
        },
        "margin": {
         "b": 71,
         "r": 30,
         "t": 78
        },
        "template": {
         "data": {
          "scatter": [
           {
            "type": "scatter"
           }
          ]
         }
        },
        "title": {
         "font": {
          "size": 16
         },
         "text": "Aggregated Profiles",
         "x": 0.15
        },
        "xaxis": {
         "anchor": "y",
         "automargin": true,
         "domain": [
          0,
          0.475
         ],
         "fixedrange": true,
         "gridwidth": 2,
         "showticklabels": true,
         "tickcolor": "white",
         "ticklen": 3,
         "ticks": "outside",
         "title": {
          "text": ""
         },
         "type": "linear",
         "zeroline": false
        },
        "xaxis2": {
         "anchor": "y2",
         "automargin": true,
         "domain": [
          0.525,
          1
         ],
         "fixedrange": true,
         "gridwidth": 2,
         "showticklabels": true,
         "tickcolor": "white",
         "ticklen": 3,
         "ticks": "outside",
         "title": {
          "text": ""
         },
         "type": "linear",
         "zeroline": false
        },
        "xaxis3": {
         "anchor": "y3",
         "automargin": true,
         "domain": [
          0,
          0.475
         ],
         "fixedrange": true,
         "gridwidth": 2,
         "showticklabels": true,
         "tickcolor": "white",
         "ticklen": 3,
         "ticks": "outside",
         "title": {
          "text": ""
         },
         "type": "linear",
         "zeroline": false
        },
        "xaxis4": {
         "anchor": "y4",
         "automargin": true,
         "domain": [
          0.525,
          1
         ],
         "fixedrange": true,
         "gridwidth": 2,
         "showticklabels": true,
         "tickcolor": "white",
         "ticklen": 3,
         "ticks": "outside",
         "title": {
          "text": ""
         },
         "type": "linear",
         "zeroline": false
        },
        "yaxis": {
         "anchor": "x",
         "automargin": true,
         "domain": [
          0,
          0.425
         ],
         "fixedrange": true,
         "gridwidth": 2,
         "range": [
          11.390644840172056,
          19.21847713603
         ],
         "tickcolor": "white",
         "ticklen": 3,
         "ticks": "outside",
         "title": {
          "text": ""
         },
         "type": "linear",
         "zeroline": false
        },
        "yaxis2": {
         "anchor": "x2",
         "automargin": true,
         "domain": [
          0,
          0.425
         ],
         "fixedrange": true,
         "gridwidth": 2,
         "matches": "y",
         "showticklabels": false,
         "tickcolor": "white",
         "ticklen": 3,
         "ticks": "outside",
         "title": {
          "text": ""
         },
         "type": "linear",
         "zeroline": false
        },
        "yaxis3": {
         "anchor": "x3",
         "automargin": true,
         "domain": [
          0.575,
          1
         ],
         "fixedrange": true,
         "gridwidth": 2,
         "matches": "y",
         "range": [
          11.390644840172056,
          19.21847713603
         ],
         "tickcolor": "white",
         "ticklen": 3,
         "ticks": "outside",
         "title": {
          "text": ""
         },
         "type": "linear",
         "zeroline": false
        },
        "yaxis4": {
         "anchor": "x4",
         "automargin": true,
         "domain": [
          0.575,
          1
         ],
         "fixedrange": true,
         "gridwidth": 2,
         "matches": "y",
         "showticklabels": false,
         "tickcolor": "white",
         "ticklen": 3,
         "ticks": "outside",
         "title": {
          "text": ""
         },
         "type": "linear",
         "zeroline": false
        }
       }
      },
      "text/html": [
       "<div>                            <div id=\"a8ba78b1-e170-4463-961c-fe63d6f02255\" class=\"plotly-graph-div\" style=\"height:829px; width:100%;\"></div>            <script type=\"text/javascript\">                require([\"plotly\"], function(Plotly) {                    window.PLOTLYENV=window.PLOTLYENV || {};                                    if (document.getElementById(\"a8ba78b1-e170-4463-961c-fe63d6f02255\")) {                    Plotly.newPlot(                        \"a8ba78b1-e170-4463-961c-fe63d6f02255\",                        [{\"customdata\":[[14.123708698134102,\"pdp\",\"CODGEO\"],[14.123708698134102,\"pdp\",\"CODGEO\"],[14.123708698134102,\"pdp\",\"CODGEO\"],[14.123708698134102,\"pdp\",\"CODGEO\"],[14.123708698134102,\"pdp\",\"CODGEO\"],[14.123708698134102,\"pdp\",\"CODGEO\"],[14.123708698134102,\"pdp\",\"CODGEO\"],[14.123708698134102,\"pdp\",\"CODGEO\"],[14.123708698134102,\"pdp\",\"CODGEO\"],[14.123708698134102,\"pdp\",\"CODGEO\"],[14.123708698134102,\"pdp\",\"CODGEO\"],[14.123708698134102,\"pdp\",\"CODGEO\"],[14.123708698134102,\"pdp\",\"CODGEO\"],[14.123708698134102,\"pdp\",\"CODGEO\"],[14.123708698134102,\"pdp\",\"CODGEO\"],[14.123708698134102,\"pdp\",\"CODGEO\"],[14.123708698134102,\"pdp\",\"CODGEO\"],[14.123708698134102,\"pdp\",\"CODGEO\"],[14.123708698134102,\"pdp\",\"CODGEO\"],[14.123708698134102,\"pdp\",\"CODGEO\"],[14.123708698134102,\"pdp\",\"CODGEO\"],[14.123708698134102,\"pdp\",\"CODGEO\"],[14.123708698134102,\"pdp\",\"CODGEO\"],[14.123708698134102,\"pdp\",\"CODGEO\"],[14.123708698134102,\"pdp\",\"CODGEO\"],[14.123708698134102,\"pdp\",\"CODGEO\"],[14.123708698134102,\"pdp\",\"CODGEO\"],[14.123708698134102,\"pdp\",\"CODGEO\"],[14.123708698134102,\"pdp\",\"CODGEO\"],[14.123708698134102,\"pdp\",\"CODGEO\"],[14.123708698134102,\"pdp\",\"CODGEO\"],[14.123708698134102,\"pdp\",\"CODGEO\"],[14.123708698134102,\"pdp\",\"CODGEO\"],[14.123708698134102,\"pdp\",\"CODGEO\"],[14.123708698134102,\"pdp\",\"CODGEO\"],[14.123708698134102,\"pdp\",\"CODGEO\"],[14.123708698134102,\"pdp\",\"CODGEO\"],[14.123708698134102,\"pdp\",\"CODGEO\"],[14.123708698134102,\"pdp\",\"CODGEO\"],[14.123708698134102,\"pdp\",\"CODGEO\"],[14.123708698134102,\"pdp\",\"CODGEO\"],[14.123708698134102,\"pdp\",\"CODGEO\"],[14.123708698134102,\"pdp\",\"CODGEO\"],[14.123708698134102,\"pdp\",\"CODGEO\"],[14.123708698134102,\"pdp\",\"CODGEO\"],[14.123708698134102,\"pdp\",\"CODGEO\"],[14.123708698134102,\"pdp\",\"CODGEO\"],[14.123708698134102,\"pdp\",\"CODGEO\"],[14.123708698134102,\"pdp\",\"CODGEO\"],[14.123708698134102,\"pdp\",\"CODGEO\"],[14.123708698134102,\"pdp\",\"CODGEO\"],[14.123708698134102,\"pdp\",\"CODGEO\"],[14.123708698134102,\"pdp\",\"CODGEO\"],[14.123708698134102,\"pdp\",\"CODGEO\"],[14.123708698134102,\"pdp\",\"CODGEO\"],[14.123708698134102,\"pdp\",\"CODGEO\"],[14.123708698134102,\"pdp\",\"CODGEO\"],[14.123708698134102,\"pdp\",\"CODGEO\"],[14.123708698134102,\"pdp\",\"CODGEO\"],[14.123708698134102,\"pdp\",\"CODGEO\"],[14.123708698134102,\"pdp\",\"CODGEO\"],[14.123708698134102,\"pdp\",\"CODGEO\"],[14.123708698134102,\"pdp\",\"CODGEO\"],[14.123708698134102,\"pdp\",\"CODGEO\"],[14.123708698134102,\"pdp\",\"CODGEO\"],[14.123708698134102,\"pdp\",\"CODGEO\"],[14.123708698134102,\"pdp\",\"CODGEO\"],[14.123708698134102,\"pdp\",\"CODGEO\"],[14.123708698134102,\"pdp\",\"CODGEO\"],[14.123708698134102,\"pdp\",\"CODGEO\"],[14.123708698134102,\"pdp\",\"CODGEO\"],[14.123708698134102,\"pdp\",\"CODGEO\"],[14.123708698134102,\"pdp\",\"CODGEO\"],[14.123708698134102,\"pdp\",\"CODGEO\"],[14.123708698134102,\"pdp\",\"CODGEO\"],[14.123708698134102,\"pdp\",\"CODGEO\"],[14.123708698134102,\"pdp\",\"CODGEO\"],[14.123708698134102,\"pdp\",\"CODGEO\"],[14.123708698134102,\"pdp\",\"CODGEO\"],[14.123708698134102,\"pdp\",\"CODGEO\"],[14.123708698134102,\"pdp\",\"CODGEO\"],[14.123708698134102,\"pdp\",\"CODGEO\"],[14.123708698134102,\"pdp\",\"CODGEO\"],[14.123708698134102,\"pdp\",\"CODGEO\"],[14.123708698134102,\"pdp\",\"CODGEO\"],[14.123708698134102,\"pdp\",\"CODGEO\"],[14.123708698134102,\"pdp\",\"CODGEO\"],[14.123708698134102,\"pdp\",\"CODGEO\"],[14.123708698134102,\"pdp\",\"CODGEO\"],[14.123708698134102,\"pdp\",\"CODGEO\"],[14.123708698134102,\"pdp\",\"CODGEO\"],[14.123708698134102,\"pdp\",\"CODGEO\"],[14.123708698134102,\"pdp\",\"CODGEO\"],[14.123708698134102,\"pdp\",\"CODGEO\"],[14.123708698134102,\"pdp\",\"CODGEO\"],[14.123708698134102,\"pdp\",\"CODGEO\"],[14.123708698134102,\"pdp\",\"CODGEO\"],[14.123708698134102,\"pdp\",\"CODGEO\"],[14.123708698134102,\"pdp\",\"CODGEO\"],[14.123708698134102,\"pdp\",\"CODGEO\"],[14.123708698134102,\"pdp\",\"CODGEO\"]],\"hovertemplate\":\"<b>%{hovertext}</b><br><br>prediction=%{y:.3f}<br>mean_prediction=%{customdata[0]:.3f}<extra></extra>\",\"hovertext\":[\"pdp\",\"pdp\",\"pdp\",\"pdp\",\"pdp\",\"pdp\",\"pdp\",\"pdp\",\"pdp\",\"pdp\",\"pdp\",\"pdp\",\"pdp\",\"pdp\",\"pdp\",\"pdp\",\"pdp\",\"pdp\",\"pdp\",\"pdp\",\"pdp\",\"pdp\",\"pdp\",\"pdp\",\"pdp\",\"pdp\",\"pdp\",\"pdp\",\"pdp\",\"pdp\",\"pdp\",\"pdp\",\"pdp\",\"pdp\",\"pdp\",\"pdp\",\"pdp\",\"pdp\",\"pdp\",\"pdp\",\"pdp\",\"pdp\",\"pdp\",\"pdp\",\"pdp\",\"pdp\",\"pdp\",\"pdp\",\"pdp\",\"pdp\",\"pdp\",\"pdp\",\"pdp\",\"pdp\",\"pdp\",\"pdp\",\"pdp\",\"pdp\",\"pdp\",\"pdp\",\"pdp\",\"pdp\",\"pdp\",\"pdp\",\"pdp\",\"pdp\",\"pdp\",\"pdp\",\"pdp\",\"pdp\",\"pdp\",\"pdp\",\"pdp\",\"pdp\",\"pdp\",\"pdp\",\"pdp\",\"pdp\",\"pdp\",\"pdp\",\"pdp\",\"pdp\",\"pdp\",\"pdp\",\"pdp\",\"pdp\",\"pdp\",\"pdp\",\"pdp\",\"pdp\",\"pdp\",\"pdp\",\"pdp\",\"pdp\",\"pdp\",\"pdp\",\"pdp\",\"pdp\",\"pdp\",\"pdp\",\"pdp\"],\"legendgroup\":\"pdp\",\"line\":{\"color\":\"#46bac2\",\"dash\":\"solid\",\"width\":2},\"marker\":{\"symbol\":\"circle\"},\"mode\":\"lines\",\"name\":\"pdp\",\"orientation\":\"v\",\"showlegend\":true,\"x\":[11.0,108.33,205.66,302.99,400.32,497.65,594.98,692.31,789.64,886.97,984.3,1081.6299999999999,1178.96,1276.29,1373.62,1470.95,1568.28,1665.61,1762.94,1860.27,1957.6,2054.9300000000003,2152.2599999999998,2249.59,2346.92,2444.25,2541.58,2638.91,2736.24,2833.57,2930.9,3028.23,3125.56,3222.89,3320.22,3417.5499999999997,3514.88,3612.21,3709.54,3806.87,3904.2,4001.5299999999997,4098.860000000001,4196.19,4293.5199999999995,4390.85,4488.18,4585.51,4682.84,4780.17,4877.5,4974.83,5072.16,5169.49,5266.82,5364.15,5461.48,5558.8099999999995,5656.14,5753.47,5850.8,5948.13,6045.46,6142.79,6240.12,6337.45,6434.78,6532.11,6629.44,6726.7699999999995,6824.099999999999,6921.43,7018.76,7116.09,7213.42,7310.75,7408.08,7505.41,7602.74,7700.07,7797.4,7894.73,7992.0599999999995,8089.389999999999,8186.72,8284.05,8381.38,8478.71,8576.039999999999,8673.369999999999,8770.7,8868.03,8965.36,9062.69,9160.02,9257.35,9354.68,9452.01,9549.34,9646.67,9744.0],\"xaxis\":\"x3\",\"y\":[14.545796963569668,12.925314263802543,14.119402282406478,13.351603914645143,13.65451381419511,13.555895388286197,14.324575837374086,15.107066675363779,13.918621029663042,13.433336945010497,15.59068143314333,15.59068143314333,15.59068143314333,15.59068143314333,15.59068143314333,15.59068143314333,15.59068143314333,15.59068143314333,15.59068143314333,15.59068143314333,15.59068143314333,15.59068143314333,15.59068143314333,15.59068143314333,15.59068143314333,15.59068143314333,15.59068143314333,15.59068143314333,15.59068143314333,15.59068143314333,15.59068143314333,15.59068143314333,15.59068143314333,15.59068143314333,15.59068143314333,15.59068143314333,15.59068143314333,15.59068143314333,15.59068143314333,15.59068143314333,15.59068143314333,15.59068143314333,15.59068143314333,15.59068143314333,15.59068143314333,15.59068143314333,15.59068143314333,15.59068143314333,15.59068143314333,15.59068143314333,15.59068143314333,15.59068143314333,15.59068143314333,15.59068143314333,15.59068143314333,14.877513404337597,14.877513404337597,14.877513404337597,14.877513404337597,14.877513404337597,14.877513404337597,14.877513404337597,14.877513404337597,14.877513404337597,14.877513404337597,14.877513404337597,14.877513404337597,14.877513404337597,14.877513404337597,14.877513404337597,14.877513404337597,14.877513404337597,14.877513404337597,14.877513404337597,14.877513404337597,14.877513404337597,14.877513404337597,14.877513404337597,14.877513404337597,14.877513404337597,14.877513404337597,14.877513404337597,14.877513404337597,14.877513404337597,14.877513404337597,14.877513404337597,14.877513404337597,14.877513404337597,14.877513404337597,14.877513404337597,14.877513404337597,14.877513404337597,14.877513404337597,14.877513404337597,14.877513404337597,14.877513404337597,14.877513404337597,14.877513404337597,14.877513404337597,14.877513404337597,14.143352261181313],\"yaxis\":\"y3\",\"type\":\"scatter\",\"opacity\":1},{\"customdata\":[[14.123708698134102,\"pdp\",\"GENDER\"],[14.123708698134102,\"pdp\",\"GENDER\"],[14.123708698134102,\"pdp\",\"GENDER\"],[14.123708698134102,\"pdp\",\"GENDER\"],[14.123708698134102,\"pdp\",\"GENDER\"],[14.123708698134102,\"pdp\",\"GENDER\"],[14.123708698134102,\"pdp\",\"GENDER\"],[14.123708698134102,\"pdp\",\"GENDER\"],[14.123708698134102,\"pdp\",\"GENDER\"],[14.123708698134102,\"pdp\",\"GENDER\"],[14.123708698134102,\"pdp\",\"GENDER\"],[14.123708698134102,\"pdp\",\"GENDER\"],[14.123708698134102,\"pdp\",\"GENDER\"],[14.123708698134102,\"pdp\",\"GENDER\"],[14.123708698134102,\"pdp\",\"GENDER\"],[14.123708698134102,\"pdp\",\"GENDER\"],[14.123708698134102,\"pdp\",\"GENDER\"],[14.123708698134102,\"pdp\",\"GENDER\"],[14.123708698134102,\"pdp\",\"GENDER\"],[14.123708698134102,\"pdp\",\"GENDER\"],[14.123708698134102,\"pdp\",\"GENDER\"],[14.123708698134102,\"pdp\",\"GENDER\"],[14.123708698134102,\"pdp\",\"GENDER\"],[14.123708698134102,\"pdp\",\"GENDER\"],[14.123708698134102,\"pdp\",\"GENDER\"],[14.123708698134102,\"pdp\",\"GENDER\"],[14.123708698134102,\"pdp\",\"GENDER\"],[14.123708698134102,\"pdp\",\"GENDER\"],[14.123708698134102,\"pdp\",\"GENDER\"],[14.123708698134102,\"pdp\",\"GENDER\"],[14.123708698134102,\"pdp\",\"GENDER\"],[14.123708698134102,\"pdp\",\"GENDER\"],[14.123708698134102,\"pdp\",\"GENDER\"],[14.123708698134102,\"pdp\",\"GENDER\"],[14.123708698134102,\"pdp\",\"GENDER\"],[14.123708698134102,\"pdp\",\"GENDER\"],[14.123708698134102,\"pdp\",\"GENDER\"],[14.123708698134102,\"pdp\",\"GENDER\"],[14.123708698134102,\"pdp\",\"GENDER\"],[14.123708698134102,\"pdp\",\"GENDER\"],[14.123708698134102,\"pdp\",\"GENDER\"],[14.123708698134102,\"pdp\",\"GENDER\"],[14.123708698134102,\"pdp\",\"GENDER\"],[14.123708698134102,\"pdp\",\"GENDER\"],[14.123708698134102,\"pdp\",\"GENDER\"],[14.123708698134102,\"pdp\",\"GENDER\"],[14.123708698134102,\"pdp\",\"GENDER\"],[14.123708698134102,\"pdp\",\"GENDER\"],[14.123708698134102,\"pdp\",\"GENDER\"],[14.123708698134102,\"pdp\",\"GENDER\"],[14.123708698134102,\"pdp\",\"GENDER\"],[14.123708698134102,\"pdp\",\"GENDER\"],[14.123708698134102,\"pdp\",\"GENDER\"],[14.123708698134102,\"pdp\",\"GENDER\"],[14.123708698134102,\"pdp\",\"GENDER\"],[14.123708698134102,\"pdp\",\"GENDER\"],[14.123708698134102,\"pdp\",\"GENDER\"],[14.123708698134102,\"pdp\",\"GENDER\"],[14.123708698134102,\"pdp\",\"GENDER\"],[14.123708698134102,\"pdp\",\"GENDER\"],[14.123708698134102,\"pdp\",\"GENDER\"],[14.123708698134102,\"pdp\",\"GENDER\"],[14.123708698134102,\"pdp\",\"GENDER\"],[14.123708698134102,\"pdp\",\"GENDER\"],[14.123708698134102,\"pdp\",\"GENDER\"],[14.123708698134102,\"pdp\",\"GENDER\"],[14.123708698134102,\"pdp\",\"GENDER\"],[14.123708698134102,\"pdp\",\"GENDER\"],[14.123708698134102,\"pdp\",\"GENDER\"],[14.123708698134102,\"pdp\",\"GENDER\"],[14.123708698134102,\"pdp\",\"GENDER\"],[14.123708698134102,\"pdp\",\"GENDER\"],[14.123708698134102,\"pdp\",\"GENDER\"],[14.123708698134102,\"pdp\",\"GENDER\"],[14.123708698134102,\"pdp\",\"GENDER\"],[14.123708698134102,\"pdp\",\"GENDER\"],[14.123708698134102,\"pdp\",\"GENDER\"],[14.123708698134102,\"pdp\",\"GENDER\"],[14.123708698134102,\"pdp\",\"GENDER\"],[14.123708698134102,\"pdp\",\"GENDER\"],[14.123708698134102,\"pdp\",\"GENDER\"],[14.123708698134102,\"pdp\",\"GENDER\"],[14.123708698134102,\"pdp\",\"GENDER\"],[14.123708698134102,\"pdp\",\"GENDER\"],[14.123708698134102,\"pdp\",\"GENDER\"],[14.123708698134102,\"pdp\",\"GENDER\"],[14.123708698134102,\"pdp\",\"GENDER\"],[14.123708698134102,\"pdp\",\"GENDER\"],[14.123708698134102,\"pdp\",\"GENDER\"],[14.123708698134102,\"pdp\",\"GENDER\"],[14.123708698134102,\"pdp\",\"GENDER\"],[14.123708698134102,\"pdp\",\"GENDER\"],[14.123708698134102,\"pdp\",\"GENDER\"],[14.123708698134102,\"pdp\",\"GENDER\"],[14.123708698134102,\"pdp\",\"GENDER\"],[14.123708698134102,\"pdp\",\"GENDER\"],[14.123708698134102,\"pdp\",\"GENDER\"],[14.123708698134102,\"pdp\",\"GENDER\"],[14.123708698134102,\"pdp\",\"GENDER\"],[14.123708698134102,\"pdp\",\"GENDER\"],[14.123708698134102,\"pdp\",\"GENDER\"]],\"hovertemplate\":\"<b>%{hovertext}</b><br><br>prediction=%{y:.3f}<br>mean_prediction=%{customdata[0]:.3f}<extra></extra>\",\"hovertext\":[\"pdp\",\"pdp\",\"pdp\",\"pdp\",\"pdp\",\"pdp\",\"pdp\",\"pdp\",\"pdp\",\"pdp\",\"pdp\",\"pdp\",\"pdp\",\"pdp\",\"pdp\",\"pdp\",\"pdp\",\"pdp\",\"pdp\",\"pdp\",\"pdp\",\"pdp\",\"pdp\",\"pdp\",\"pdp\",\"pdp\",\"pdp\",\"pdp\",\"pdp\",\"pdp\",\"pdp\",\"pdp\",\"pdp\",\"pdp\",\"pdp\",\"pdp\",\"pdp\",\"pdp\",\"pdp\",\"pdp\",\"pdp\",\"pdp\",\"pdp\",\"pdp\",\"pdp\",\"pdp\",\"pdp\",\"pdp\",\"pdp\",\"pdp\",\"pdp\",\"pdp\",\"pdp\",\"pdp\",\"pdp\",\"pdp\",\"pdp\",\"pdp\",\"pdp\",\"pdp\",\"pdp\",\"pdp\",\"pdp\",\"pdp\",\"pdp\",\"pdp\",\"pdp\",\"pdp\",\"pdp\",\"pdp\",\"pdp\",\"pdp\",\"pdp\",\"pdp\",\"pdp\",\"pdp\",\"pdp\",\"pdp\",\"pdp\",\"pdp\",\"pdp\",\"pdp\",\"pdp\",\"pdp\",\"pdp\",\"pdp\",\"pdp\",\"pdp\",\"pdp\",\"pdp\",\"pdp\",\"pdp\",\"pdp\",\"pdp\",\"pdp\",\"pdp\",\"pdp\",\"pdp\",\"pdp\",\"pdp\",\"pdp\"],\"legendgroup\":\"pdp\",\"line\":{\"color\":\"#46bac2\",\"dash\":\"solid\",\"width\":2},\"marker\":{\"symbol\":\"circle\"},\"mode\":\"lines\",\"name\":\"pdp\",\"orientation\":\"v\",\"showlegend\":false,\"x\":[1.0,1.01,1.02,1.03,1.04,1.05,1.06,1.07,1.08,1.09,1.1,1.11,1.12,1.13,1.1400000000000001,1.15,1.16,1.17,1.18,1.19,1.2,1.21,1.22,1.23,1.24,1.25,1.26,1.27,1.28,1.29,1.3,1.31,1.32,1.33,1.34,1.35,1.3599999999999999,1.37,1.38,1.3900000000000001,1.4,1.4100000000000001,1.42,1.43,1.44,1.45,1.46,1.47,1.48,1.49,1.5,1.51,1.52,1.53,1.54,1.55,1.56,1.57,1.58,1.5899999999999999,1.6,1.6099999999999999,1.62,1.63,1.6400000000000001,1.65,1.6600000000000001,1.67,1.6800000000000002,1.69,1.7000000000000002,1.71,1.72,1.73,1.74,1.75,1.76,1.77,1.78,1.79,1.8,1.81,1.82,1.83,1.8399999999999999,1.85,1.8599999999999999,1.87,1.88,1.8900000000000001,1.9,1.9100000000000001,1.92,1.9300000000000002,1.94,1.9500000000000002,1.96,1.97,1.98,1.99,2.0],\"xaxis\":\"x4\",\"y\":[12.978999825027168,12.978999825027168,12.978999825027168,12.978999825027168,12.978999825027168,12.978999825027168,12.978999825027168,12.978999825027168,12.978999825027168,12.978999825027168,12.978999825027168,12.978999825027168,12.978999825027168,12.978999825027168,12.978999825027168,12.978999825027168,12.978999825027168,12.978999825027168,12.978999825027168,12.978999825027168,12.978999825027168,12.978999825027168,12.978999825027168,12.978999825027168,12.978999825027168,12.978999825027168,12.978999825027168,12.978999825027168,12.978999825027168,12.978999825027168,12.978999825027168,12.978999825027168,12.978999825027168,12.978999825027168,12.978999825027168,12.978999825027168,12.978999825027168,12.978999825027168,12.978999825027168,12.978999825027168,12.978999825027168,12.978999825027168,12.978999825027168,12.978999825027168,12.978999825027168,12.978999825027168,12.978999825027168,12.978999825027168,12.978999825027168,12.978999825027168,12.978999825027168,15.202963297613145,15.202963297613145,15.202963297613145,15.202963297613145,15.202963297613145,15.202963297613145,15.202963297613145,15.202963297613145,15.202963297613145,15.202963297613145,15.202963297613145,15.202963297613145,15.202963297613145,15.202963297613145,15.202963297613145,15.202963297613145,15.202963297613145,15.202963297613145,15.202963297613145,15.202963297613145,15.202963297613145,15.202963297613145,15.202963297613145,15.202963297613145,15.202963297613145,15.202963297613145,15.202963297613145,15.202963297613145,15.202963297613145,15.202963297613145,15.202963297613145,15.202963297613145,15.202963297613145,15.202963297613145,15.202963297613145,15.202963297613145,15.202963297613145,15.202963297613145,15.202963297613145,15.202963297613145,15.202963297613145,15.202963297613145,15.202963297613145,15.202963297613145,15.202963297613145,15.202963297613145,15.202963297613145,15.202963297613145,15.202963297613145,15.202963297613145],\"yaxis\":\"y4\",\"type\":\"scatter\",\"opacity\":1},{\"customdata\":[[14.123708698134102,\"pdp\",\"POSITION\"],[14.123708698134102,\"pdp\",\"POSITION\"],[14.123708698134102,\"pdp\",\"POSITION\"],[14.123708698134102,\"pdp\",\"POSITION\"],[14.123708698134102,\"pdp\",\"POSITION\"],[14.123708698134102,\"pdp\",\"POSITION\"],[14.123708698134102,\"pdp\",\"POSITION\"],[14.123708698134102,\"pdp\",\"POSITION\"],[14.123708698134102,\"pdp\",\"POSITION\"],[14.123708698134102,\"pdp\",\"POSITION\"],[14.123708698134102,\"pdp\",\"POSITION\"],[14.123708698134102,\"pdp\",\"POSITION\"],[14.123708698134102,\"pdp\",\"POSITION\"],[14.123708698134102,\"pdp\",\"POSITION\"],[14.123708698134102,\"pdp\",\"POSITION\"],[14.123708698134102,\"pdp\",\"POSITION\"],[14.123708698134102,\"pdp\",\"POSITION\"],[14.123708698134102,\"pdp\",\"POSITION\"],[14.123708698134102,\"pdp\",\"POSITION\"],[14.123708698134102,\"pdp\",\"POSITION\"],[14.123708698134102,\"pdp\",\"POSITION\"],[14.123708698134102,\"pdp\",\"POSITION\"],[14.123708698134102,\"pdp\",\"POSITION\"],[14.123708698134102,\"pdp\",\"POSITION\"],[14.123708698134102,\"pdp\",\"POSITION\"],[14.123708698134102,\"pdp\",\"POSITION\"],[14.123708698134102,\"pdp\",\"POSITION\"],[14.123708698134102,\"pdp\",\"POSITION\"],[14.123708698134102,\"pdp\",\"POSITION\"],[14.123708698134102,\"pdp\",\"POSITION\"],[14.123708698134102,\"pdp\",\"POSITION\"],[14.123708698134102,\"pdp\",\"POSITION\"],[14.123708698134102,\"pdp\",\"POSITION\"],[14.123708698134102,\"pdp\",\"POSITION\"],[14.123708698134102,\"pdp\",\"POSITION\"],[14.123708698134102,\"pdp\",\"POSITION\"],[14.123708698134102,\"pdp\",\"POSITION\"],[14.123708698134102,\"pdp\",\"POSITION\"],[14.123708698134102,\"pdp\",\"POSITION\"],[14.123708698134102,\"pdp\",\"POSITION\"],[14.123708698134102,\"pdp\",\"POSITION\"],[14.123708698134102,\"pdp\",\"POSITION\"],[14.123708698134102,\"pdp\",\"POSITION\"],[14.123708698134102,\"pdp\",\"POSITION\"],[14.123708698134102,\"pdp\",\"POSITION\"],[14.123708698134102,\"pdp\",\"POSITION\"],[14.123708698134102,\"pdp\",\"POSITION\"],[14.123708698134102,\"pdp\",\"POSITION\"],[14.123708698134102,\"pdp\",\"POSITION\"],[14.123708698134102,\"pdp\",\"POSITION\"],[14.123708698134102,\"pdp\",\"POSITION\"],[14.123708698134102,\"pdp\",\"POSITION\"],[14.123708698134102,\"pdp\",\"POSITION\"],[14.123708698134102,\"pdp\",\"POSITION\"],[14.123708698134102,\"pdp\",\"POSITION\"],[14.123708698134102,\"pdp\",\"POSITION\"],[14.123708698134102,\"pdp\",\"POSITION\"],[14.123708698134102,\"pdp\",\"POSITION\"],[14.123708698134102,\"pdp\",\"POSITION\"],[14.123708698134102,\"pdp\",\"POSITION\"],[14.123708698134102,\"pdp\",\"POSITION\"],[14.123708698134102,\"pdp\",\"POSITION\"],[14.123708698134102,\"pdp\",\"POSITION\"],[14.123708698134102,\"pdp\",\"POSITION\"],[14.123708698134102,\"pdp\",\"POSITION\"],[14.123708698134102,\"pdp\",\"POSITION\"],[14.123708698134102,\"pdp\",\"POSITION\"],[14.123708698134102,\"pdp\",\"POSITION\"],[14.123708698134102,\"pdp\",\"POSITION\"],[14.123708698134102,\"pdp\",\"POSITION\"],[14.123708698134102,\"pdp\",\"POSITION\"],[14.123708698134102,\"pdp\",\"POSITION\"],[14.123708698134102,\"pdp\",\"POSITION\"],[14.123708698134102,\"pdp\",\"POSITION\"],[14.123708698134102,\"pdp\",\"POSITION\"],[14.123708698134102,\"pdp\",\"POSITION\"],[14.123708698134102,\"pdp\",\"POSITION\"],[14.123708698134102,\"pdp\",\"POSITION\"],[14.123708698134102,\"pdp\",\"POSITION\"],[14.123708698134102,\"pdp\",\"POSITION\"],[14.123708698134102,\"pdp\",\"POSITION\"],[14.123708698134102,\"pdp\",\"POSITION\"],[14.123708698134102,\"pdp\",\"POSITION\"],[14.123708698134102,\"pdp\",\"POSITION\"],[14.123708698134102,\"pdp\",\"POSITION\"],[14.123708698134102,\"pdp\",\"POSITION\"],[14.123708698134102,\"pdp\",\"POSITION\"],[14.123708698134102,\"pdp\",\"POSITION\"],[14.123708698134102,\"pdp\",\"POSITION\"],[14.123708698134102,\"pdp\",\"POSITION\"],[14.123708698134102,\"pdp\",\"POSITION\"],[14.123708698134102,\"pdp\",\"POSITION\"],[14.123708698134102,\"pdp\",\"POSITION\"],[14.123708698134102,\"pdp\",\"POSITION\"],[14.123708698134102,\"pdp\",\"POSITION\"],[14.123708698134102,\"pdp\",\"POSITION\"],[14.123708698134102,\"pdp\",\"POSITION\"],[14.123708698134102,\"pdp\",\"POSITION\"],[14.123708698134102,\"pdp\",\"POSITION\"],[14.123708698134102,\"pdp\",\"POSITION\"],[14.123708698134102,\"pdp\",\"POSITION\"]],\"hovertemplate\":\"<b>%{hovertext}</b><br><br>prediction=%{y:.3f}<br>mean_prediction=%{customdata[0]:.3f}<extra></extra>\",\"hovertext\":[\"pdp\",\"pdp\",\"pdp\",\"pdp\",\"pdp\",\"pdp\",\"pdp\",\"pdp\",\"pdp\",\"pdp\",\"pdp\",\"pdp\",\"pdp\",\"pdp\",\"pdp\",\"pdp\",\"pdp\",\"pdp\",\"pdp\",\"pdp\",\"pdp\",\"pdp\",\"pdp\",\"pdp\",\"pdp\",\"pdp\",\"pdp\",\"pdp\",\"pdp\",\"pdp\",\"pdp\",\"pdp\",\"pdp\",\"pdp\",\"pdp\",\"pdp\",\"pdp\",\"pdp\",\"pdp\",\"pdp\",\"pdp\",\"pdp\",\"pdp\",\"pdp\",\"pdp\",\"pdp\",\"pdp\",\"pdp\",\"pdp\",\"pdp\",\"pdp\",\"pdp\",\"pdp\",\"pdp\",\"pdp\",\"pdp\",\"pdp\",\"pdp\",\"pdp\",\"pdp\",\"pdp\",\"pdp\",\"pdp\",\"pdp\",\"pdp\",\"pdp\",\"pdp\",\"pdp\",\"pdp\",\"pdp\",\"pdp\",\"pdp\",\"pdp\",\"pdp\",\"pdp\",\"pdp\",\"pdp\",\"pdp\",\"pdp\",\"pdp\",\"pdp\",\"pdp\",\"pdp\",\"pdp\",\"pdp\",\"pdp\",\"pdp\",\"pdp\",\"pdp\",\"pdp\",\"pdp\",\"pdp\",\"pdp\",\"pdp\",\"pdp\",\"pdp\",\"pdp\",\"pdp\",\"pdp\",\"pdp\",\"pdp\"],\"legendgroup\":\"pdp\",\"line\":{\"color\":\"#46bac2\",\"dash\":\"solid\",\"width\":2},\"marker\":{\"symbol\":\"circle\"},\"mode\":\"lines\",\"name\":\"pdp\",\"orientation\":\"v\",\"showlegend\":false,\"x\":[1.0,1.03,1.06,1.09,1.12,1.15,1.18,1.21,1.24,1.27,1.3,1.33,1.3599999999999999,1.3900000000000001,1.42,1.45,1.48,1.51,1.54,1.5699999999999998,1.6,1.63,1.66,1.69,1.72,1.75,1.78,1.81,1.8399999999999999,1.87,1.9,1.93,1.96,1.99,2.02,2.05,2.08,2.11,2.1399999999999997,2.17,2.2,2.23,2.26,2.29,2.32,2.3499999999999996,2.38,2.41,2.44,2.4699999999999998,2.5,2.5300000000000002,2.56,2.59,2.62,2.65,2.6799999999999997,2.71,2.74,2.77,2.8,2.83,2.86,2.8899999999999997,2.92,2.95,2.98,3.01,3.04,3.07,3.1,3.13,3.16,3.19,3.2199999999999998,3.25,3.28,3.31,3.34,3.37,3.4,3.4299999999999997,3.46,3.4899999999999998,3.52,3.55,3.58,3.61,3.6399999999999997,3.67,3.6999999999999997,3.73,3.76,3.79,3.82,3.85,3.88,3.9099999999999997,3.94,3.9699999999999998,4.0],\"xaxis\":\"x\",\"y\":[12.308326217118793,12.308326217118793,12.308326217118793,12.308326217118793,12.308326217118793,12.308326217118793,12.308326217118793,12.308326217118793,12.308326217118793,12.308326217118793,12.308326217118793,12.308326217118793,12.308326217118793,12.308326217118793,12.308326217118793,12.308326217118793,12.308326217118793,12.042964198160218,12.042964198160218,12.042964198160218,12.042964198160218,12.042964198160218,12.042964198160218,12.042964198160218,12.042964198160218,12.042964198160218,12.042964198160218,12.042964198160218,12.042964198160218,12.042964198160218,12.042964198160218,12.042964198160218,12.042964198160218,12.042964198160218,12.042964198160218,12.042964198160218,12.042964198160218,12.042964198160218,12.042964198160218,12.042964198160218,12.042964198160218,12.042964198160218,12.042964198160218,12.042964198160218,12.042964198160218,12.042964198160218,12.042964198160218,12.042964198160218,12.042964198160218,12.042964198160218,12.042964198160218,14.301042404913241,14.301042404913241,14.301042404913241,14.301042404913241,14.301042404913241,14.301042404913241,14.301042404913241,14.301042404913241,14.301042404913241,14.301042404913241,14.301042404913241,14.301042404913241,14.301042404913241,14.301042404913241,14.301042404913241,14.301042404913241,14.301042404913241,14.301042404913241,14.301042404913241,14.301042404913241,14.301042404913241,14.301042404913241,14.301042404913241,14.301042404913241,14.301042404913241,14.301042404913241,14.301042404913241,14.301042404913241,14.301042404913241,14.301042404913241,14.301042404913241,14.301042404913241,14.301042404913241,18.566157778041838,18.566157778041838,18.566157778041838,18.566157778041838,18.566157778041838,18.566157778041838,18.566157778041838,18.566157778041838,18.566157778041838,18.566157778041838,18.566157778041838,18.566157778041838,18.566157778041838,18.566157778041838,18.566157778041838,18.566157778041838,18.566157778041838],\"yaxis\":\"y\",\"type\":\"scatter\",\"opacity\":1},{\"customdata\":[[14.123708698134102,\"pdp\",\"AGE\"],[14.123708698134102,\"pdp\",\"AGE\"],[14.123708698134102,\"pdp\",\"AGE\"],[14.123708698134102,\"pdp\",\"AGE\"],[14.123708698134102,\"pdp\",\"AGE\"],[14.123708698134102,\"pdp\",\"AGE\"],[14.123708698134102,\"pdp\",\"AGE\"],[14.123708698134102,\"pdp\",\"AGE\"],[14.123708698134102,\"pdp\",\"AGE\"],[14.123708698134102,\"pdp\",\"AGE\"],[14.123708698134102,\"pdp\",\"AGE\"],[14.123708698134102,\"pdp\",\"AGE\"],[14.123708698134102,\"pdp\",\"AGE\"],[14.123708698134102,\"pdp\",\"AGE\"],[14.123708698134102,\"pdp\",\"AGE\"],[14.123708698134102,\"pdp\",\"AGE\"],[14.123708698134102,\"pdp\",\"AGE\"],[14.123708698134102,\"pdp\",\"AGE\"],[14.123708698134102,\"pdp\",\"AGE\"],[14.123708698134102,\"pdp\",\"AGE\"],[14.123708698134102,\"pdp\",\"AGE\"],[14.123708698134102,\"pdp\",\"AGE\"],[14.123708698134102,\"pdp\",\"AGE\"],[14.123708698134102,\"pdp\",\"AGE\"],[14.123708698134102,\"pdp\",\"AGE\"],[14.123708698134102,\"pdp\",\"AGE\"],[14.123708698134102,\"pdp\",\"AGE\"],[14.123708698134102,\"pdp\",\"AGE\"],[14.123708698134102,\"pdp\",\"AGE\"],[14.123708698134102,\"pdp\",\"AGE\"],[14.123708698134102,\"pdp\",\"AGE\"],[14.123708698134102,\"pdp\",\"AGE\"],[14.123708698134102,\"pdp\",\"AGE\"],[14.123708698134102,\"pdp\",\"AGE\"],[14.123708698134102,\"pdp\",\"AGE\"],[14.123708698134102,\"pdp\",\"AGE\"],[14.123708698134102,\"pdp\",\"AGE\"],[14.123708698134102,\"pdp\",\"AGE\"],[14.123708698134102,\"pdp\",\"AGE\"],[14.123708698134102,\"pdp\",\"AGE\"],[14.123708698134102,\"pdp\",\"AGE\"],[14.123708698134102,\"pdp\",\"AGE\"],[14.123708698134102,\"pdp\",\"AGE\"],[14.123708698134102,\"pdp\",\"AGE\"],[14.123708698134102,\"pdp\",\"AGE\"],[14.123708698134102,\"pdp\",\"AGE\"],[14.123708698134102,\"pdp\",\"AGE\"],[14.123708698134102,\"pdp\",\"AGE\"],[14.123708698134102,\"pdp\",\"AGE\"],[14.123708698134102,\"pdp\",\"AGE\"],[14.123708698134102,\"pdp\",\"AGE\"],[14.123708698134102,\"pdp\",\"AGE\"],[14.123708698134102,\"pdp\",\"AGE\"],[14.123708698134102,\"pdp\",\"AGE\"],[14.123708698134102,\"pdp\",\"AGE\"],[14.123708698134102,\"pdp\",\"AGE\"],[14.123708698134102,\"pdp\",\"AGE\"],[14.123708698134102,\"pdp\",\"AGE\"],[14.123708698134102,\"pdp\",\"AGE\"],[14.123708698134102,\"pdp\",\"AGE\"],[14.123708698134102,\"pdp\",\"AGE\"],[14.123708698134102,\"pdp\",\"AGE\"],[14.123708698134102,\"pdp\",\"AGE\"],[14.123708698134102,\"pdp\",\"AGE\"],[14.123708698134102,\"pdp\",\"AGE\"],[14.123708698134102,\"pdp\",\"AGE\"],[14.123708698134102,\"pdp\",\"AGE\"],[14.123708698134102,\"pdp\",\"AGE\"],[14.123708698134102,\"pdp\",\"AGE\"],[14.123708698134102,\"pdp\",\"AGE\"],[14.123708698134102,\"pdp\",\"AGE\"],[14.123708698134102,\"pdp\",\"AGE\"],[14.123708698134102,\"pdp\",\"AGE\"],[14.123708698134102,\"pdp\",\"AGE\"],[14.123708698134102,\"pdp\",\"AGE\"],[14.123708698134102,\"pdp\",\"AGE\"],[14.123708698134102,\"pdp\",\"AGE\"],[14.123708698134102,\"pdp\",\"AGE\"],[14.123708698134102,\"pdp\",\"AGE\"],[14.123708698134102,\"pdp\",\"AGE\"],[14.123708698134102,\"pdp\",\"AGE\"],[14.123708698134102,\"pdp\",\"AGE\"],[14.123708698134102,\"pdp\",\"AGE\"],[14.123708698134102,\"pdp\",\"AGE\"],[14.123708698134102,\"pdp\",\"AGE\"],[14.123708698134102,\"pdp\",\"AGE\"],[14.123708698134102,\"pdp\",\"AGE\"],[14.123708698134102,\"pdp\",\"AGE\"],[14.123708698134102,\"pdp\",\"AGE\"],[14.123708698134102,\"pdp\",\"AGE\"],[14.123708698134102,\"pdp\",\"AGE\"],[14.123708698134102,\"pdp\",\"AGE\"],[14.123708698134102,\"pdp\",\"AGE\"],[14.123708698134102,\"pdp\",\"AGE\"],[14.123708698134102,\"pdp\",\"AGE\"],[14.123708698134102,\"pdp\",\"AGE\"],[14.123708698134102,\"pdp\",\"AGE\"],[14.123708698134102,\"pdp\",\"AGE\"],[14.123708698134102,\"pdp\",\"AGE\"],[14.123708698134102,\"pdp\",\"AGE\"],[14.123708698134102,\"pdp\",\"AGE\"]],\"hovertemplate\":\"<b>%{hovertext}</b><br><br>prediction=%{y:.3f}<br>mean_prediction=%{customdata[0]:.3f}<extra></extra>\",\"hovertext\":[\"pdp\",\"pdp\",\"pdp\",\"pdp\",\"pdp\",\"pdp\",\"pdp\",\"pdp\",\"pdp\",\"pdp\",\"pdp\",\"pdp\",\"pdp\",\"pdp\",\"pdp\",\"pdp\",\"pdp\",\"pdp\",\"pdp\",\"pdp\",\"pdp\",\"pdp\",\"pdp\",\"pdp\",\"pdp\",\"pdp\",\"pdp\",\"pdp\",\"pdp\",\"pdp\",\"pdp\",\"pdp\",\"pdp\",\"pdp\",\"pdp\",\"pdp\",\"pdp\",\"pdp\",\"pdp\",\"pdp\",\"pdp\",\"pdp\",\"pdp\",\"pdp\",\"pdp\",\"pdp\",\"pdp\",\"pdp\",\"pdp\",\"pdp\",\"pdp\",\"pdp\",\"pdp\",\"pdp\",\"pdp\",\"pdp\",\"pdp\",\"pdp\",\"pdp\",\"pdp\",\"pdp\",\"pdp\",\"pdp\",\"pdp\",\"pdp\",\"pdp\",\"pdp\",\"pdp\",\"pdp\",\"pdp\",\"pdp\",\"pdp\",\"pdp\",\"pdp\",\"pdp\",\"pdp\",\"pdp\",\"pdp\",\"pdp\",\"pdp\",\"pdp\",\"pdp\",\"pdp\",\"pdp\",\"pdp\",\"pdp\",\"pdp\",\"pdp\",\"pdp\",\"pdp\",\"pdp\",\"pdp\",\"pdp\",\"pdp\",\"pdp\",\"pdp\",\"pdp\",\"pdp\",\"pdp\",\"pdp\",\"pdp\"],\"legendgroup\":\"pdp\",\"line\":{\"color\":\"#46bac2\",\"dash\":\"solid\",\"width\":2},\"marker\":{\"symbol\":\"circle\"},\"mode\":\"lines\",\"name\":\"pdp\",\"orientation\":\"v\",\"showlegend\":false,\"x\":[1.0,1.02,1.04,1.06,1.08,1.1,1.12,1.1400000000000001,1.16,1.18,1.2,1.22,1.24,1.26,1.28,1.3,1.32,1.34,1.3599999999999999,1.38,1.4,1.42,1.44,1.46,1.48,1.5,1.52,1.54,1.56,1.58,1.6,1.62,1.6400000000000001,1.6600000000000001,1.6800000000000002,1.7000000000000002,1.72,1.74,1.76,1.78,1.8,1.82,1.8399999999999999,1.8599999999999999,1.88,1.9,1.92,1.94,1.96,1.98,2.0,2.02,2.04,2.06,2.08,2.1,2.12,2.14,2.16,2.1799999999999997,2.2,2.2199999999999998,2.24,2.26,2.2800000000000002,2.3,2.3200000000000003,2.34,2.3600000000000003,2.38,2.4000000000000004,2.42,2.44,2.46,2.48,2.5,2.52,2.54,2.56,2.58,2.6,2.62,2.64,2.66,2.6799999999999997,2.7,2.7199999999999998,2.74,2.76,2.7800000000000002,2.8,2.8200000000000003,2.84,2.8600000000000003,2.88,2.9000000000000004,2.92,2.94,2.96,2.98,3.0],\"xaxis\":\"x2\",\"y\":[12.432671010752015,12.432671010752015,12.432671010752015,12.432671010752015,12.432671010752015,12.432671010752015,12.432671010752015,12.432671010752015,12.432671010752015,12.432671010752015,12.432671010752015,12.432671010752015,12.432671010752015,12.432671010752015,12.432671010752015,12.432671010752015,12.432671010752015,12.432671010752015,12.432671010752015,12.432671010752015,12.432671010752015,12.432671010752015,12.432671010752015,12.432671010752015,12.432671010752015,12.432671010752015,14.40011299044476,14.40011299044476,14.40011299044476,14.40011299044476,14.40011299044476,14.40011299044476,14.40011299044476,14.40011299044476,14.40011299044476,14.40011299044476,14.40011299044476,14.40011299044476,14.40011299044476,14.40011299044476,14.40011299044476,14.40011299044476,14.40011299044476,14.40011299044476,14.40011299044476,14.40011299044476,14.40011299044476,14.40011299044476,14.40011299044476,14.40011299044476,14.40011299044476,14.40011299044476,14.40011299044476,14.40011299044476,14.40011299044476,14.40011299044476,14.40011299044476,14.40011299044476,14.40011299044476,14.40011299044476,14.40011299044476,14.40011299044476,14.40011299044476,14.40011299044476,14.40011299044476,14.40011299044476,14.40011299044476,14.40011299044476,14.40011299044476,14.40011299044476,14.40011299044476,14.40011299044476,14.40011299044476,14.40011299044476,14.40011299044476,14.40011299044476,15.359702931927698,15.359702931927698,15.359702931927698,15.359702931927698,15.359702931927698,15.359702931927698,15.359702931927698,15.359702931927698,15.359702931927698,15.359702931927698,15.359702931927698,15.359702931927698,15.359702931927698,15.359702931927698,15.359702931927698,15.359702931927698,15.359702931927698,15.359702931927698,15.359702931927698,15.359702931927698,15.359702931927698,15.359702931927698,15.359702931927698,15.359702931927698,15.359702931927698],\"yaxis\":\"y2\",\"type\":\"scatter\",\"opacity\":1}],                        {\"template\":{\"data\":{\"scatter\":[{\"type\":\"scatter\"}]}},\"xaxis\":{\"anchor\":\"y\",\"domain\":[0.0,0.475],\"title\":{\"text\":\"\"},\"showticklabels\":true,\"type\":\"linear\",\"gridwidth\":2,\"zeroline\":false,\"automargin\":true,\"ticks\":\"outside\",\"tickcolor\":\"white\",\"ticklen\":3,\"fixedrange\":true},\"yaxis\":{\"anchor\":\"x\",\"domain\":[0.0,0.425],\"title\":{\"text\":\"\"},\"range\":[11.390644840172056,19.21847713603],\"type\":\"linear\",\"gridwidth\":2,\"zeroline\":false,\"automargin\":true,\"ticks\":\"outside\",\"tickcolor\":\"white\",\"ticklen\":3,\"fixedrange\":true},\"xaxis2\":{\"anchor\":\"y2\",\"domain\":[0.525,1.0],\"title\":{\"text\":\"\"},\"showticklabels\":true,\"type\":\"linear\",\"gridwidth\":2,\"zeroline\":false,\"automargin\":true,\"ticks\":\"outside\",\"tickcolor\":\"white\",\"ticklen\":3,\"fixedrange\":true},\"yaxis2\":{\"anchor\":\"x2\",\"domain\":[0.0,0.425],\"matches\":\"y\",\"showticklabels\":false,\"type\":\"linear\",\"gridwidth\":2,\"zeroline\":false,\"automargin\":true,\"ticks\":\"outside\",\"tickcolor\":\"white\",\"ticklen\":3,\"fixedrange\":true,\"title\":{\"text\":\"\"}},\"xaxis3\":{\"anchor\":\"y3\",\"domain\":[0.0,0.475],\"showticklabels\":true,\"type\":\"linear\",\"gridwidth\":2,\"zeroline\":false,\"automargin\":true,\"ticks\":\"outside\",\"tickcolor\":\"white\",\"ticklen\":3,\"fixedrange\":true,\"title\":{\"text\":\"\"}},\"yaxis3\":{\"anchor\":\"x3\",\"domain\":[0.575,1.0],\"matches\":\"y\",\"title\":{\"text\":\"\"},\"range\":[11.390644840172056,19.21847713603],\"type\":\"linear\",\"gridwidth\":2,\"zeroline\":false,\"automargin\":true,\"ticks\":\"outside\",\"tickcolor\":\"white\",\"ticklen\":3,\"fixedrange\":true},\"xaxis4\":{\"anchor\":\"y4\",\"domain\":[0.525,1.0],\"showticklabels\":true,\"type\":\"linear\",\"gridwidth\":2,\"zeroline\":false,\"automargin\":true,\"ticks\":\"outside\",\"tickcolor\":\"white\",\"ticklen\":3,\"fixedrange\":true,\"title\":{\"text\":\"\"}},\"yaxis4\":{\"anchor\":\"x4\",\"domain\":[0.575,1.0],\"matches\":\"y\",\"showticklabels\":false,\"type\":\"linear\",\"gridwidth\":2,\"zeroline\":false,\"automargin\":true,\"ticks\":\"outside\",\"tickcolor\":\"white\",\"ticklen\":3,\"fixedrange\":true,\"title\":{\"text\":\"\"}},\"annotations\":[{\"font\":{\"size\":13},\"showarrow\":false,\"text\":\"POSITION\",\"x\":0.2375,\"xanchor\":\"center\",\"xref\":\"paper\",\"y\":0.425,\"yanchor\":\"bottom\",\"yref\":\"paper\"},{\"font\":{\"size\":13},\"showarrow\":false,\"text\":\"AGE\",\"x\":0.7625,\"xanchor\":\"center\",\"xref\":\"paper\",\"y\":0.425,\"yanchor\":\"bottom\",\"yref\":\"paper\"},{\"font\":{\"size\":13},\"showarrow\":false,\"text\":\"CODGEO\",\"x\":0.2375,\"xanchor\":\"center\",\"xref\":\"paper\",\"y\":1.0,\"yanchor\":\"bottom\",\"yref\":\"paper\"},{\"font\":{\"size\":13},\"showarrow\":false,\"text\":\"GENDER\",\"x\":0.7625,\"xanchor\":\"center\",\"xref\":\"paper\",\"y\":1.0,\"yanchor\":\"bottom\",\"yref\":\"paper\"},{\"font\":{\"size\":13},\"showarrow\":false,\"text\":\"prediction\",\"textangle\":-90,\"x\":-0.07,\"xref\":\"paper\",\"y\":0.5,\"yref\":\"paper\"}],\"legend\":{\"title\":{\"text\":\"label\",\"font\":{\"size\":12}},\"tracegroupgap\":0,\"font\":{\"size\":11},\"orientation\":\"h\",\"yanchor\":\"bottom\",\"y\":1.0361881785283473,\"xanchor\":\"right\",\"x\":1,\"itemsizing\":\"constant\"},\"margin\":{\"t\":78,\"b\":71,\"r\":30},\"font\":{\"color\":\"#371ea3\"},\"title\":{\"font\":{\"size\":16},\"text\":\"Aggregated Profiles\",\"x\":0.15},\"hovermode\":\"x unified\",\"height\":829},                        {\"displaylogo\": false, \"staticPlot\": false, \"toImageButtonOptions\": {\"height\": null, \"width\": null}, \"modeBarButtonsToRemove\": [\"sendDataToCloud\", \"lasso2d\", \"autoScale2d\", \"select2d\", \"zoom2d\", \"pan2d\", \"zoomIn2d\", \"zoomOut2d\", \"resetScale2d\", \"toggleSpikelines\", \"hoverCompareCartesian\", \"hoverClosestCartesian\"], \"responsive\": true}                    ).then(function(){\n",
       "                            \n",
       "var gd = document.getElementById('a8ba78b1-e170-4463-961c-fe63d6f02255');\n",
       "var x = new MutationObserver(function (mutations, observer) {{\n",
       "        var display = window.getComputedStyle(gd).display;\n",
       "        if (!display || display === 'none') {{\n",
       "            console.log([gd, 'removed!']);\n",
       "            Plotly.purge(gd);\n",
       "            observer.disconnect();\n",
       "        }}\n",
       "}});\n",
       "\n",
       "// Listen for the removal of the full notebook cells\n",
       "var notebookContainer = gd.closest('#notebook-container');\n",
       "if (notebookContainer) {{\n",
       "    x.observe(notebookContainer, {childList: true});\n",
       "}}\n",
       "\n",
       "// Listen for the clearing of the current output cell\n",
       "var outputEl = gd.closest('.output');\n",
       "if (outputEl) {{\n",
       "    x.observe(outputEl, {childList: true});\n",
       "}}\n",
       "\n",
       "                        })                };                });            </script>        </div>"
      ]
     },
     "metadata": {},
     "output_type": "display_data"
    },
    {
     "data": {
      "image/png": "[encoded data removed]",
      "text/plain": [
       "<Figure size 432x288 with 1 Axes>"
      ]
     },
     "metadata": {
      "needs_background": "light"
     },
     "output_type": "display_data"
    }
   ],
   "source": [
    "\n",
    "explainer.predict_parts(X_train.iloc[50, :],type=\"shap\").plot(min_max=[0,1],max_vars=5)\n",
    "\n",
    "explainer.predict_parts(X_train.iloc[50, :], type='break_down_interactions').plot(max_vars=5)\n",
    "\n",
    "explainer.model_performance(model_type = 'regression').plot()\n",
    "\n",
    "explainer.model_profile(type = 'partial', label=\"pdp\").plot()\n",
    "\n",
    "explainer.predict_surrogate(X_train.iloc[[50]]).plot()\n",
    "\n",
    "arena=dalex.Arena()\n",
    "\n",
    "arena.push_model(explainer)\n",
    "\n",
    "arena.push_observations(X_test)\n",
    "\n",
    "# Plotting the \"feature contributions\" to the Random Forest prediction"
   ]
  },
  {
   "cell_type": "code",
   "execution_count": 40,
   "metadata": {},
   "outputs": [
    {
     "data": {
      "text/html": [
       "<div>\n",
       "<style scoped>\n",
       "    .dataframe tbody tr th:only-of-type {\n",
       "        vertical-align: middle;\n",
       "    }\n",
       "\n",
       "    .dataframe tbody tr th {\n",
       "        vertical-align: top;\n",
       "    }\n",
       "\n",
       "    .dataframe thead th {\n",
       "        text-align: right;\n",
       "    }\n",
       "</style>\n",
       "<table border=\"1\" class=\"dataframe\">\n",
       "  <thead>\n",
       "    <tr style=\"text-align: right;\">\n",
       "      <th></th>\n",
       "      <th>CODGEO</th>\n",
       "      <th>GENDER</th>\n",
       "      <th>POSITION</th>\n",
       "      <th>AGE</th>\n",
       "      <th>y</th>\n",
       "      <th>y_hat</th>\n",
       "      <th>residuals</th>\n",
       "      <th>abs_residuals</th>\n",
       "      <th>label</th>\n",
       "      <th>ids</th>\n",
       "    </tr>\n",
       "  </thead>\n",
       "  <tbody>\n",
       "    <tr>\n",
       "      <th>1063</th>\n",
       "      <td>142.0</td>\n",
       "      <td>1</td>\n",
       "      <td>1</td>\n",
       "      <td>2</td>\n",
       "      <td>11.640350</td>\n",
       "      <td>11.556499</td>\n",
       "      <td>0.083850</td>\n",
       "      <td>0.083850</td>\n",
       "      <td>RandomForestRegressor</td>\n",
       "      <td>1</td>\n",
       "    </tr>\n",
       "    <tr>\n",
       "      <th>443</th>\n",
       "      <td>61.0</td>\n",
       "      <td>1</td>\n",
       "      <td>1</td>\n",
       "      <td>3</td>\n",
       "      <td>13.208700</td>\n",
       "      <td>12.124074</td>\n",
       "      <td>1.084626</td>\n",
       "      <td>1.084626</td>\n",
       "      <td>RandomForestRegressor</td>\n",
       "      <td>2</td>\n",
       "    </tr>\n",
       "    <tr>\n",
       "      <th>6262</th>\n",
       "      <td>773.0</td>\n",
       "      <td>2</td>\n",
       "      <td>2</td>\n",
       "      <td>3</td>\n",
       "      <td>15.260752</td>\n",
       "      <td>15.922680</td>\n",
       "      <td>-0.661928</td>\n",
       "      <td>0.661928</td>\n",
       "      <td>RandomForestRegressor</td>\n",
       "      <td>3</td>\n",
       "    </tr>\n",
       "    <tr>\n",
       "      <th>84</th>\n",
       "      <td>14.0</td>\n",
       "      <td>2</td>\n",
       "      <td>4</td>\n",
       "      <td>1</td>\n",
       "      <td>18.085287</td>\n",
       "      <td>18.447237</td>\n",
       "      <td>-0.361950</td>\n",
       "      <td>0.361950</td>\n",
       "      <td>RandomForestRegressor</td>\n",
       "      <td>4</td>\n",
       "    </tr>\n",
       "    <tr>\n",
       "      <th>6155</th>\n",
       "      <td>762.0</td>\n",
       "      <td>1</td>\n",
       "      <td>1</td>\n",
       "      <td>3</td>\n",
       "      <td>12.323427</td>\n",
       "      <td>12.279752</td>\n",
       "      <td>0.043675</td>\n",
       "      <td>0.043675</td>\n",
       "      <td>RandomForestRegressor</td>\n",
       "      <td>5</td>\n",
       "    </tr>\n",
       "    <tr>\n",
       "      <th>...</th>\n",
       "      <td>...</td>\n",
       "      <td>...</td>\n",
       "      <td>...</td>\n",
       "      <td>...</td>\n",
       "      <td>...</td>\n",
       "      <td>...</td>\n",
       "      <td>...</td>\n",
       "      <td>...</td>\n",
       "      <td>...</td>\n",
       "      <td>...</td>\n",
       "    </tr>\n",
       "    <tr>\n",
       "      <th>4931</th>\n",
       "      <td>621.0</td>\n",
       "      <td>1</td>\n",
       "      <td>1</td>\n",
       "      <td>3</td>\n",
       "      <td>12.038278</td>\n",
       "      <td>11.725780</td>\n",
       "      <td>0.312498</td>\n",
       "      <td>0.312498</td>\n",
       "      <td>RandomForestRegressor</td>\n",
       "      <td>6274</td>\n",
       "    </tr>\n",
       "    <tr>\n",
       "      <th>3264</th>\n",
       "      <td>423.0</td>\n",
       "      <td>1</td>\n",
       "      <td>4</td>\n",
       "      <td>1</td>\n",
       "      <td>15.261167</td>\n",
       "      <td>15.257950</td>\n",
       "      <td>0.003217</td>\n",
       "      <td>0.003217</td>\n",
       "      <td>RandomForestRegressor</td>\n",
       "      <td>6275</td>\n",
       "    </tr>\n",
       "    <tr>\n",
       "      <th>1653</th>\n",
       "      <td>222.0</td>\n",
       "      <td>2</td>\n",
       "      <td>3</td>\n",
       "      <td>3</td>\n",
       "      <td>15.551179</td>\n",
       "      <td>16.110123</td>\n",
       "      <td>-0.558945</td>\n",
       "      <td>0.558945</td>\n",
       "      <td>RandomForestRegressor</td>\n",
       "      <td>6276</td>\n",
       "    </tr>\n",
       "    <tr>\n",
       "      <th>2607</th>\n",
       "      <td>336.0</td>\n",
       "      <td>2</td>\n",
       "      <td>1</td>\n",
       "      <td>1</td>\n",
       "      <td>11.226096</td>\n",
       "      <td>11.103840</td>\n",
       "      <td>0.122257</td>\n",
       "      <td>0.122257</td>\n",
       "      <td>RandomForestRegressor</td>\n",
       "      <td>6277</td>\n",
       "    </tr>\n",
       "    <tr>\n",
       "      <th>2732</th>\n",
       "      <td>352.0</td>\n",
       "      <td>2</td>\n",
       "      <td>4</td>\n",
       "      <td>3</td>\n",
       "      <td>20.293791</td>\n",
       "      <td>21.631168</td>\n",
       "      <td>-1.337376</td>\n",
       "      <td>1.337376</td>\n",
       "      <td>RandomForestRegressor</td>\n",
       "      <td>6278</td>\n",
       "    </tr>\n",
       "  </tbody>\n",
       "</table>\n",
       "<p>6278 rows × 10 columns</p>\n",
       "</div>"
      ],
      "text/plain": [
       "      CODGEO  GENDER  POSITION  AGE          y      y_hat  residuals  \\\n",
       "1063   142.0       1         1    2  11.640350  11.556499   0.083850   \n",
       "443     61.0       1         1    3  13.208700  12.124074   1.084626   \n",
       "6262   773.0       2         2    3  15.260752  15.922680  -0.661928   \n",
       "84      14.0       2         4    1  18.085287  18.447237  -0.361950   \n",
       "6155   762.0       1         1    3  12.323427  12.279752   0.043675   \n",
       "...      ...     ...       ...  ...        ...        ...        ...   \n",
       "4931   621.0       1         1    3  12.038278  11.725780   0.312498   \n",
       "3264   423.0       1         4    1  15.261167  15.257950   0.003217   \n",
       "1653   222.0       2         3    3  15.551179  16.110123  -0.558945   \n",
       "2607   336.0       2         1    1  11.226096  11.103840   0.122257   \n",
       "2732   352.0       2         4    3  20.293791  21.631168  -1.337376   \n",
       "\n",
       "      abs_residuals                  label   ids  \n",
       "1063       0.083850  RandomForestRegressor     1  \n",
       "443        1.084626  RandomForestRegressor     2  \n",
       "6262       0.661928  RandomForestRegressor     3  \n",
       "84         0.361950  RandomForestRegressor     4  \n",
       "6155       0.043675  RandomForestRegressor     5  \n",
       "...             ...                    ...   ...  \n",
       "4931       0.312498  RandomForestRegressor  6274  \n",
       "3264       0.003217  RandomForestRegressor  6275  \n",
       "1653       0.558945  RandomForestRegressor  6276  \n",
       "2607       0.122257  RandomForestRegressor  6277  \n",
       "2732       1.337376  RandomForestRegressor  6278  \n",
       "\n",
       "[6278 rows x 10 columns]"
      ]
     },
     "execution_count": 40,
     "metadata": {},
     "output_type": "execute_result"
    }
   ],
   "source": [
    "explainer.model_diagnostics().result"
   ]
  },
  {
   "cell_type": "code",
   "execution_count": null,
   "metadata": {},
   "outputs": [],
   "source": []
  }
 ],
 "metadata": {
  "kernelspec": {
   "display_name": "Python 3",
   "language": "python",
   "name": "python3"
  },
  "language_info": {
   "codemirror_mode": {
    "name": "ipython",
    "version": 3
   },
   "file_extension": ".py",
   "mimetype": "text/x-python",
   "name": "python",
   "nbconvert_exporter": "python",
   "pygments_lexer": "ipython3",
   "version": "3.8.8"
  }
 },
 "nbformat": 4,
 "nbformat_minor": 4
}
